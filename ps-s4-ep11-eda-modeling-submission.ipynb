{
 "cells": [
  {
   "cell_type": "markdown",
   "id": "71c759d5",
   "metadata": {
    "papermill": {
     "duration": 0.011578,
     "end_time": "2024-11-04T01:18:42.012158",
     "exception": false,
     "start_time": "2024-11-04T01:18:42.000580",
     "status": "completed"
    },
    "tags": []
   },
   "source": [
    "# Notebook Versions\n",
    "\n",
    "- Version 1 (10/31/2024)\n",
    "   * EDA\n",
    "   * Baseline modeling 1.0\n",
    "\n",
    "\n",
    "- Version 2 (10/31/2024)\n",
    "   * Fixing submission bug. Rounding prediction labels.\n",
    " \n",
    "\n",
    "- Version 4 (10/31/2024)\n",
    "   * Fixing rounding issues.\n",
    "\n",
    "\n",
    "- Version 5 (11/03/2024)\n",
    "   * Baseline modeling 2.0\n",
    "      \n",
    "# Loading Libraries"
   ]
  },
  {
   "cell_type": "code",
   "execution_count": 1,
   "id": "51822f18",
   "metadata": {
    "execution": {
     "iopub.execute_input": "2024-11-04T01:18:42.034484Z",
     "iopub.status.busy": "2024-11-04T01:18:42.034035Z",
     "iopub.status.idle": "2024-11-04T01:18:50.316284Z",
     "shell.execute_reply": "2024-11-04T01:18:50.314972Z"
    },
    "papermill": {
     "duration": 8.296625,
     "end_time": "2024-11-04T01:18:50.319223",
     "exception": false,
     "start_time": "2024-11-04T01:18:42.022598",
     "status": "completed"
    },
    "tags": []
   },
   "outputs": [],
   "source": [
    "import pandas as pd; pd.set_option('display.max_columns', 100)\n",
    "import numpy as np\n",
    "\n",
    "import gc\n",
    "\n",
    "import warnings\n",
    "warnings.filterwarnings('ignore')\n",
    "\n",
    "from tqdm.notebook import tqdm\n",
    "\n",
    "import re\n",
    "\n",
    "from functools import partial\n",
    "from scipy.stats import kurtosis, skew, gmean, mode\n",
    "\n",
    "import matplotlib.pyplot as plt; plt.style.use('ggplot')\n",
    "import seaborn as sns\n",
    "import plotly.express as px\n",
    "\n",
    "from sklearn.tree import DecisionTreeClassifier, plot_tree\n",
    "from sklearn.preprocessing import MinMaxScaler, StandardScaler, LabelEncoder, FunctionTransformer, PowerTransformer, PolynomialFeatures\n",
    "from sklearn.pipeline import make_pipeline, Pipeline, FeatureUnion\n",
    "from sklearn.decomposition import PCA\n",
    "from sklearn.cluster import KMeans\n",
    "from sklearn.compose import ColumnTransformer, make_column_transformer\n",
    "from sklearn.impute import KNNImputer\n",
    "from sklearn.multiclass import OneVsRestClassifier\n",
    "from sklearn.model_selection import KFold, StratifiedKFold, train_test_split, GridSearchCV, RepeatedStratifiedKFold, cross_val_score, cross_val_predict, RepeatedKFold\n",
    "from sklearn.metrics import roc_auc_score, roc_curve, RocCurveDisplay, cohen_kappa_score, log_loss, f1_score, r2_score, accuracy_score\n",
    "from sklearn.discriminant_analysis import LinearDiscriminantAnalysis, QuadraticDiscriminantAnalysis\n",
    "from sklearn.neighbors import KNeighborsClassifier\n",
    "from sklearn.feature_selection import RFE, RFECV\n",
    "from sklearn.calibration import CalibrationDisplay, CalibratedClassifierCV\n",
    "from sklearn.inspection import PartialDependenceDisplay, permutation_importance\n",
    "from sklearn.linear_model import LogisticRegression, RidgeClassifier, Ridge, RidgeCV\n",
    "from collections import Counter\n",
    "from sklearn.ensemble import RandomForestClassifier, HistGradientBoostingClassifier, GradientBoostingClassifier, ExtraTreesClassifier, VotingClassifier, StackingClassifier\n",
    "from sklearn.svm import SVC, LinearSVR\n",
    "\n",
    "from category_encoders import TargetEncoder\n",
    "\n",
    "import ydf\n",
    "from ydf import GradientBoostedTreesLearner\n",
    "\n",
    "import xgboost as xgb\n",
    "\n",
    "from lightgbm import LGBMClassifier\n",
    "from xgboost import XGBClassifier\n",
    "from catboost import CatBoostClassifier, Pool\n",
    "\n",
    "from sklearn.neural_network import MLPClassifier\n",
    "\n",
    "import optuna"
   ]
  },
  {
   "cell_type": "markdown",
   "id": "784fdcbb",
   "metadata": {
    "papermill": {
     "duration": 0.009233,
     "end_time": "2024-11-04T01:18:50.338326",
     "exception": false,
     "start_time": "2024-11-04T01:18:50.329093",
     "status": "completed"
    },
    "tags": []
   },
   "source": [
    "# Reading Data "
   ]
  },
  {
   "cell_type": "code",
   "execution_count": 2,
   "id": "32bbc9d3",
   "metadata": {
    "execution": {
     "iopub.execute_input": "2024-11-04T01:18:50.361240Z",
     "iopub.status.busy": "2024-11-04T01:18:50.360433Z",
     "iopub.status.idle": "2024-11-04T01:18:51.516372Z",
     "shell.execute_reply": "2024-11-04T01:18:51.514962Z"
    },
    "papermill": {
     "duration": 1.170786,
     "end_time": "2024-11-04T01:18:51.519457",
     "exception": false,
     "start_time": "2024-11-04T01:18:50.348671",
     "status": "completed"
    },
    "tags": []
   },
   "outputs": [
    {
     "name": "stdout",
     "output_type": "stream",
     "text": [
      "The dimension of the train dataset is: (140700, 19)\n",
      "The dimension of the test dataset is: (93800, 18)\n",
      "CPU times: user 787 ms, sys: 145 ms, total: 932 ms\n",
      "Wall time: 1.15 s\n"
     ]
    }
   ],
   "source": [
    "%%time\n",
    "train = pd.read_csv('../input/playground-series-s4e11/train.csv', index_col=0)\n",
    "test = pd.read_csv('../input/playground-series-s4e11/test.csv', index_col=0)\n",
    "\n",
    "print('The dimension of the train dataset is:', train.shape)\n",
    "print('The dimension of the test dataset is:', test.shape)"
   ]
  },
  {
   "cell_type": "code",
   "execution_count": 3,
   "id": "46b7b0be",
   "metadata": {
    "execution": {
     "iopub.execute_input": "2024-11-04T01:18:51.543110Z",
     "iopub.status.busy": "2024-11-04T01:18:51.542622Z",
     "iopub.status.idle": "2024-11-04T01:18:51.577373Z",
     "shell.execute_reply": "2024-11-04T01:18:51.576194Z"
    },
    "papermill": {
     "duration": 0.049175,
     "end_time": "2024-11-04T01:18:51.580221",
     "exception": false,
     "start_time": "2024-11-04T01:18:51.531046",
     "status": "completed"
    },
    "tags": []
   },
   "outputs": [
    {
     "data": {
      "text/html": [
       "<div>\n",
       "<style scoped>\n",
       "    .dataframe tbody tr th:only-of-type {\n",
       "        vertical-align: middle;\n",
       "    }\n",
       "\n",
       "    .dataframe tbody tr th {\n",
       "        vertical-align: top;\n",
       "    }\n",
       "\n",
       "    .dataframe thead th {\n",
       "        text-align: right;\n",
       "    }\n",
       "</style>\n",
       "<table border=\"1\" class=\"dataframe\">\n",
       "  <thead>\n",
       "    <tr style=\"text-align: right;\">\n",
       "      <th></th>\n",
       "      <th>Name</th>\n",
       "      <th>Gender</th>\n",
       "      <th>Age</th>\n",
       "      <th>City</th>\n",
       "      <th>Working Professional or Student</th>\n",
       "      <th>Profession</th>\n",
       "      <th>Academic Pressure</th>\n",
       "      <th>Work Pressure</th>\n",
       "      <th>CGPA</th>\n",
       "      <th>Study Satisfaction</th>\n",
       "      <th>Job Satisfaction</th>\n",
       "      <th>Sleep Duration</th>\n",
       "      <th>Dietary Habits</th>\n",
       "      <th>Degree</th>\n",
       "      <th>Have you ever had suicidal thoughts ?</th>\n",
       "      <th>Work/Study Hours</th>\n",
       "      <th>Financial Stress</th>\n",
       "      <th>Family History of Mental Illness</th>\n",
       "      <th>Depression</th>\n",
       "    </tr>\n",
       "    <tr>\n",
       "      <th>id</th>\n",
       "      <th></th>\n",
       "      <th></th>\n",
       "      <th></th>\n",
       "      <th></th>\n",
       "      <th></th>\n",
       "      <th></th>\n",
       "      <th></th>\n",
       "      <th></th>\n",
       "      <th></th>\n",
       "      <th></th>\n",
       "      <th></th>\n",
       "      <th></th>\n",
       "      <th></th>\n",
       "      <th></th>\n",
       "      <th></th>\n",
       "      <th></th>\n",
       "      <th></th>\n",
       "      <th></th>\n",
       "      <th></th>\n",
       "    </tr>\n",
       "  </thead>\n",
       "  <tbody>\n",
       "    <tr>\n",
       "      <th>0</th>\n",
       "      <td>Aaradhya</td>\n",
       "      <td>Female</td>\n",
       "      <td>49.0</td>\n",
       "      <td>Ludhiana</td>\n",
       "      <td>Working Professional</td>\n",
       "      <td>Chef</td>\n",
       "      <td>NaN</td>\n",
       "      <td>5.0</td>\n",
       "      <td>NaN</td>\n",
       "      <td>NaN</td>\n",
       "      <td>2.0</td>\n",
       "      <td>More than 8 hours</td>\n",
       "      <td>Healthy</td>\n",
       "      <td>BHM</td>\n",
       "      <td>No</td>\n",
       "      <td>1.0</td>\n",
       "      <td>2.0</td>\n",
       "      <td>No</td>\n",
       "      <td>0</td>\n",
       "    </tr>\n",
       "    <tr>\n",
       "      <th>1</th>\n",
       "      <td>Vivan</td>\n",
       "      <td>Male</td>\n",
       "      <td>26.0</td>\n",
       "      <td>Varanasi</td>\n",
       "      <td>Working Professional</td>\n",
       "      <td>Teacher</td>\n",
       "      <td>NaN</td>\n",
       "      <td>4.0</td>\n",
       "      <td>NaN</td>\n",
       "      <td>NaN</td>\n",
       "      <td>3.0</td>\n",
       "      <td>Less than 5 hours</td>\n",
       "      <td>Unhealthy</td>\n",
       "      <td>LLB</td>\n",
       "      <td>Yes</td>\n",
       "      <td>7.0</td>\n",
       "      <td>3.0</td>\n",
       "      <td>No</td>\n",
       "      <td>1</td>\n",
       "    </tr>\n",
       "    <tr>\n",
       "      <th>2</th>\n",
       "      <td>Yuvraj</td>\n",
       "      <td>Male</td>\n",
       "      <td>33.0</td>\n",
       "      <td>Visakhapatnam</td>\n",
       "      <td>Student</td>\n",
       "      <td>NaN</td>\n",
       "      <td>5.0</td>\n",
       "      <td>NaN</td>\n",
       "      <td>8.97</td>\n",
       "      <td>2.0</td>\n",
       "      <td>NaN</td>\n",
       "      <td>5-6 hours</td>\n",
       "      <td>Healthy</td>\n",
       "      <td>B.Pharm</td>\n",
       "      <td>Yes</td>\n",
       "      <td>3.0</td>\n",
       "      <td>1.0</td>\n",
       "      <td>No</td>\n",
       "      <td>1</td>\n",
       "    </tr>\n",
       "    <tr>\n",
       "      <th>3</th>\n",
       "      <td>Yuvraj</td>\n",
       "      <td>Male</td>\n",
       "      <td>22.0</td>\n",
       "      <td>Mumbai</td>\n",
       "      <td>Working Professional</td>\n",
       "      <td>Teacher</td>\n",
       "      <td>NaN</td>\n",
       "      <td>5.0</td>\n",
       "      <td>NaN</td>\n",
       "      <td>NaN</td>\n",
       "      <td>1.0</td>\n",
       "      <td>Less than 5 hours</td>\n",
       "      <td>Moderate</td>\n",
       "      <td>BBA</td>\n",
       "      <td>Yes</td>\n",
       "      <td>10.0</td>\n",
       "      <td>1.0</td>\n",
       "      <td>Yes</td>\n",
       "      <td>1</td>\n",
       "    </tr>\n",
       "    <tr>\n",
       "      <th>4</th>\n",
       "      <td>Rhea</td>\n",
       "      <td>Female</td>\n",
       "      <td>30.0</td>\n",
       "      <td>Kanpur</td>\n",
       "      <td>Working Professional</td>\n",
       "      <td>Business Analyst</td>\n",
       "      <td>NaN</td>\n",
       "      <td>1.0</td>\n",
       "      <td>NaN</td>\n",
       "      <td>NaN</td>\n",
       "      <td>1.0</td>\n",
       "      <td>5-6 hours</td>\n",
       "      <td>Unhealthy</td>\n",
       "      <td>BBA</td>\n",
       "      <td>Yes</td>\n",
       "      <td>9.0</td>\n",
       "      <td>4.0</td>\n",
       "      <td>Yes</td>\n",
       "      <td>0</td>\n",
       "    </tr>\n",
       "  </tbody>\n",
       "</table>\n",
       "</div>"
      ],
      "text/plain": [
       "        Name  Gender   Age           City Working Professional or Student  \\\n",
       "id                                                                          \n",
       "0   Aaradhya  Female  49.0       Ludhiana            Working Professional   \n",
       "1      Vivan    Male  26.0       Varanasi            Working Professional   \n",
       "2     Yuvraj    Male  33.0  Visakhapatnam                         Student   \n",
       "3     Yuvraj    Male  22.0         Mumbai            Working Professional   \n",
       "4       Rhea  Female  30.0         Kanpur            Working Professional   \n",
       "\n",
       "          Profession  Academic Pressure  Work Pressure  CGPA  \\\n",
       "id                                                             \n",
       "0               Chef                NaN            5.0   NaN   \n",
       "1            Teacher                NaN            4.0   NaN   \n",
       "2                NaN                5.0            NaN  8.97   \n",
       "3            Teacher                NaN            5.0   NaN   \n",
       "4   Business Analyst                NaN            1.0   NaN   \n",
       "\n",
       "    Study Satisfaction  Job Satisfaction     Sleep Duration Dietary Habits  \\\n",
       "id                                                                           \n",
       "0                  NaN               2.0  More than 8 hours        Healthy   \n",
       "1                  NaN               3.0  Less than 5 hours      Unhealthy   \n",
       "2                  2.0               NaN          5-6 hours        Healthy   \n",
       "3                  NaN               1.0  Less than 5 hours       Moderate   \n",
       "4                  NaN               1.0          5-6 hours      Unhealthy   \n",
       "\n",
       "     Degree Have you ever had suicidal thoughts ?  Work/Study Hours  \\\n",
       "id                                                                    \n",
       "0       BHM                                    No               1.0   \n",
       "1       LLB                                   Yes               7.0   \n",
       "2   B.Pharm                                   Yes               3.0   \n",
       "3       BBA                                   Yes              10.0   \n",
       "4       BBA                                   Yes               9.0   \n",
       "\n",
       "    Financial Stress Family History of Mental Illness  Depression  \n",
       "id                                                                 \n",
       "0                2.0                               No           0  \n",
       "1                3.0                               No           1  \n",
       "2                1.0                               No           1  \n",
       "3                1.0                              Yes           1  \n",
       "4                4.0                              Yes           0  "
      ]
     },
     "execution_count": 3,
     "metadata": {},
     "output_type": "execute_result"
    }
   ],
   "source": [
    "train.head()"
   ]
  },
  {
   "cell_type": "code",
   "execution_count": 4,
   "id": "690fa6db",
   "metadata": {
    "execution": {
     "iopub.execute_input": "2024-11-04T01:18:51.604036Z",
     "iopub.status.busy": "2024-11-04T01:18:51.603537Z",
     "iopub.status.idle": "2024-11-04T01:18:51.632313Z",
     "shell.execute_reply": "2024-11-04T01:18:51.631027Z"
    },
    "papermill": {
     "duration": 0.044284,
     "end_time": "2024-11-04T01:18:51.635073",
     "exception": false,
     "start_time": "2024-11-04T01:18:51.590789",
     "status": "completed"
    },
    "tags": []
   },
   "outputs": [
    {
     "data": {
      "text/html": [
       "<div>\n",
       "<style scoped>\n",
       "    .dataframe tbody tr th:only-of-type {\n",
       "        vertical-align: middle;\n",
       "    }\n",
       "\n",
       "    .dataframe tbody tr th {\n",
       "        vertical-align: top;\n",
       "    }\n",
       "\n",
       "    .dataframe thead th {\n",
       "        text-align: right;\n",
       "    }\n",
       "</style>\n",
       "<table border=\"1\" class=\"dataframe\">\n",
       "  <thead>\n",
       "    <tr style=\"text-align: right;\">\n",
       "      <th></th>\n",
       "      <th>Name</th>\n",
       "      <th>Gender</th>\n",
       "      <th>Age</th>\n",
       "      <th>City</th>\n",
       "      <th>Working Professional or Student</th>\n",
       "      <th>Profession</th>\n",
       "      <th>Academic Pressure</th>\n",
       "      <th>Work Pressure</th>\n",
       "      <th>CGPA</th>\n",
       "      <th>Study Satisfaction</th>\n",
       "      <th>Job Satisfaction</th>\n",
       "      <th>Sleep Duration</th>\n",
       "      <th>Dietary Habits</th>\n",
       "      <th>Degree</th>\n",
       "      <th>Have you ever had suicidal thoughts ?</th>\n",
       "      <th>Work/Study Hours</th>\n",
       "      <th>Financial Stress</th>\n",
       "      <th>Family History of Mental Illness</th>\n",
       "    </tr>\n",
       "    <tr>\n",
       "      <th>id</th>\n",
       "      <th></th>\n",
       "      <th></th>\n",
       "      <th></th>\n",
       "      <th></th>\n",
       "      <th></th>\n",
       "      <th></th>\n",
       "      <th></th>\n",
       "      <th></th>\n",
       "      <th></th>\n",
       "      <th></th>\n",
       "      <th></th>\n",
       "      <th></th>\n",
       "      <th></th>\n",
       "      <th></th>\n",
       "      <th></th>\n",
       "      <th></th>\n",
       "      <th></th>\n",
       "      <th></th>\n",
       "    </tr>\n",
       "  </thead>\n",
       "  <tbody>\n",
       "    <tr>\n",
       "      <th>140700</th>\n",
       "      <td>Shivam</td>\n",
       "      <td>Male</td>\n",
       "      <td>53.0</td>\n",
       "      <td>Visakhapatnam</td>\n",
       "      <td>Working Professional</td>\n",
       "      <td>Judge</td>\n",
       "      <td>NaN</td>\n",
       "      <td>2.0</td>\n",
       "      <td>NaN</td>\n",
       "      <td>NaN</td>\n",
       "      <td>5.0</td>\n",
       "      <td>Less than 5 hours</td>\n",
       "      <td>Moderate</td>\n",
       "      <td>LLB</td>\n",
       "      <td>No</td>\n",
       "      <td>9.0</td>\n",
       "      <td>3.0</td>\n",
       "      <td>Yes</td>\n",
       "    </tr>\n",
       "    <tr>\n",
       "      <th>140701</th>\n",
       "      <td>Sanya</td>\n",
       "      <td>Female</td>\n",
       "      <td>58.0</td>\n",
       "      <td>Kolkata</td>\n",
       "      <td>Working Professional</td>\n",
       "      <td>Educational Consultant</td>\n",
       "      <td>NaN</td>\n",
       "      <td>2.0</td>\n",
       "      <td>NaN</td>\n",
       "      <td>NaN</td>\n",
       "      <td>4.0</td>\n",
       "      <td>Less than 5 hours</td>\n",
       "      <td>Moderate</td>\n",
       "      <td>B.Ed</td>\n",
       "      <td>No</td>\n",
       "      <td>6.0</td>\n",
       "      <td>4.0</td>\n",
       "      <td>No</td>\n",
       "    </tr>\n",
       "    <tr>\n",
       "      <th>140702</th>\n",
       "      <td>Yash</td>\n",
       "      <td>Male</td>\n",
       "      <td>53.0</td>\n",
       "      <td>Jaipur</td>\n",
       "      <td>Working Professional</td>\n",
       "      <td>Teacher</td>\n",
       "      <td>NaN</td>\n",
       "      <td>4.0</td>\n",
       "      <td>NaN</td>\n",
       "      <td>NaN</td>\n",
       "      <td>1.0</td>\n",
       "      <td>7-8 hours</td>\n",
       "      <td>Moderate</td>\n",
       "      <td>B.Arch</td>\n",
       "      <td>Yes</td>\n",
       "      <td>12.0</td>\n",
       "      <td>4.0</td>\n",
       "      <td>No</td>\n",
       "    </tr>\n",
       "    <tr>\n",
       "      <th>140703</th>\n",
       "      <td>Nalini</td>\n",
       "      <td>Female</td>\n",
       "      <td>23.0</td>\n",
       "      <td>Rajkot</td>\n",
       "      <td>Student</td>\n",
       "      <td>NaN</td>\n",
       "      <td>5.0</td>\n",
       "      <td>NaN</td>\n",
       "      <td>6.84</td>\n",
       "      <td>1.0</td>\n",
       "      <td>NaN</td>\n",
       "      <td>More than 8 hours</td>\n",
       "      <td>Moderate</td>\n",
       "      <td>BSc</td>\n",
       "      <td>Yes</td>\n",
       "      <td>10.0</td>\n",
       "      <td>4.0</td>\n",
       "      <td>No</td>\n",
       "    </tr>\n",
       "    <tr>\n",
       "      <th>140704</th>\n",
       "      <td>Shaurya</td>\n",
       "      <td>Male</td>\n",
       "      <td>47.0</td>\n",
       "      <td>Kalyan</td>\n",
       "      <td>Working Professional</td>\n",
       "      <td>Teacher</td>\n",
       "      <td>NaN</td>\n",
       "      <td>5.0</td>\n",
       "      <td>NaN</td>\n",
       "      <td>NaN</td>\n",
       "      <td>5.0</td>\n",
       "      <td>7-8 hours</td>\n",
       "      <td>Moderate</td>\n",
       "      <td>BCA</td>\n",
       "      <td>Yes</td>\n",
       "      <td>3.0</td>\n",
       "      <td>4.0</td>\n",
       "      <td>No</td>\n",
       "    </tr>\n",
       "  </tbody>\n",
       "</table>\n",
       "</div>"
      ],
      "text/plain": [
       "           Name  Gender   Age           City Working Professional or Student  \\\n",
       "id                                                                             \n",
       "140700   Shivam    Male  53.0  Visakhapatnam            Working Professional   \n",
       "140701    Sanya  Female  58.0        Kolkata            Working Professional   \n",
       "140702     Yash    Male  53.0         Jaipur            Working Professional   \n",
       "140703   Nalini  Female  23.0         Rajkot                         Student   \n",
       "140704  Shaurya    Male  47.0         Kalyan            Working Professional   \n",
       "\n",
       "                    Profession  Academic Pressure  Work Pressure  CGPA  \\\n",
       "id                                                                       \n",
       "140700                   Judge                NaN            2.0   NaN   \n",
       "140701  Educational Consultant                NaN            2.0   NaN   \n",
       "140702                 Teacher                NaN            4.0   NaN   \n",
       "140703                     NaN                5.0            NaN  6.84   \n",
       "140704                 Teacher                NaN            5.0   NaN   \n",
       "\n",
       "        Study Satisfaction  Job Satisfaction     Sleep Duration  \\\n",
       "id                                                                \n",
       "140700                 NaN               5.0  Less than 5 hours   \n",
       "140701                 NaN               4.0  Less than 5 hours   \n",
       "140702                 NaN               1.0          7-8 hours   \n",
       "140703                 1.0               NaN  More than 8 hours   \n",
       "140704                 NaN               5.0          7-8 hours   \n",
       "\n",
       "       Dietary Habits  Degree Have you ever had suicidal thoughts ?  \\\n",
       "id                                                                    \n",
       "140700       Moderate     LLB                                    No   \n",
       "140701       Moderate    B.Ed                                    No   \n",
       "140702       Moderate  B.Arch                                   Yes   \n",
       "140703       Moderate     BSc                                   Yes   \n",
       "140704       Moderate     BCA                                   Yes   \n",
       "\n",
       "        Work/Study Hours  Financial Stress Family History of Mental Illness  \n",
       "id                                                                           \n",
       "140700               9.0               3.0                              Yes  \n",
       "140701               6.0               4.0                               No  \n",
       "140702              12.0               4.0                               No  \n",
       "140703              10.0               4.0                               No  \n",
       "140704               3.0               4.0                               No  "
      ]
     },
     "execution_count": 4,
     "metadata": {},
     "output_type": "execute_result"
    }
   ],
   "source": [
    "test.head()"
   ]
  },
  {
   "cell_type": "markdown",
   "id": "8e2f5d06",
   "metadata": {
    "papermill": {
     "duration": 0.010814,
     "end_time": "2024-11-04T01:18:51.657316",
     "exception": false,
     "start_time": "2024-11-04T01:18:51.646502",
     "status": "completed"
    },
    "tags": []
   },
   "source": [
    "First, let's check for missing values in the `train` and `test` data frames."
   ]
  },
  {
   "cell_type": "code",
   "execution_count": 5,
   "id": "fa1f8533",
   "metadata": {
    "execution": {
     "iopub.execute_input": "2024-11-04T01:18:51.682364Z",
     "iopub.status.busy": "2024-11-04T01:18:51.681825Z",
     "iopub.status.idle": "2024-11-04T01:18:51.950445Z",
     "shell.execute_reply": "2024-11-04T01:18:51.948823Z"
    },
    "papermill": {
     "duration": 0.284918,
     "end_time": "2024-11-04T01:18:51.953442",
     "exception": false,
     "start_time": "2024-11-04T01:18:51.668524",
     "status": "completed"
    },
    "tags": []
   },
   "outputs": [
    {
     "name": "stdout",
     "output_type": "stream",
     "text": [
      "--- Percentage of Missing Values in Train ---\n",
      "\n",
      "Name                                      0.000000\n",
      "Gender                                    0.000000\n",
      "Age                                       0.000000\n",
      "City                                      0.000000\n",
      "Working Professional or Student           0.000000\n",
      "Profession                               26.034115\n",
      "Academic Pressure                        80.172708\n",
      "Work Pressure                            19.842217\n",
      "CGPA                                     80.171997\n",
      "Study Satisfaction                       80.172708\n",
      "Job Satisfaction                         19.836532\n",
      "Sleep Duration                            0.000000\n",
      "Dietary Habits                            0.002843\n",
      "Degree                                    0.001421\n",
      "Have you ever had suicidal thoughts ?     0.000000\n",
      "Work/Study Hours                          0.000000\n",
      "Financial Stress                          0.002843\n",
      "Family History of Mental Illness          0.000000\n",
      "Depression                                0.000000\n",
      "dtype: float64\n",
      "\n",
      "\n",
      "--- Percentage of Missing Values in Test ---\n",
      "\n",
      "Name                                      0.000000\n",
      "Gender                                    0.000000\n",
      "Age                                       0.000000\n",
      "City                                      0.000000\n",
      "Working Professional or Student           0.000000\n",
      "Profession                               26.260128\n",
      "Academic Pressure                        79.992537\n",
      "Work Pressure                            20.019190\n",
      "CGPA                                     79.993603\n",
      "Study Satisfaction                       79.992537\n",
      "Job Satisfaction                         20.014925\n",
      "Sleep Duration                            0.000000\n",
      "Dietary Habits                            0.005330\n",
      "Degree                                    0.002132\n",
      "Have you ever had suicidal thoughts ?     0.000000\n",
      "Work/Study Hours                          0.000000\n",
      "Financial Stress                          0.000000\n",
      "Family History of Mental Illness          0.000000\n",
      "dtype: float64\n"
     ]
    }
   ],
   "source": [
    "print('--- Percentage of Missing Values in Train ---\\n')\n",
    "print(100*train.isnull().sum() / train.shape[0])\n",
    "print('\\n')\n",
    "print('--- Percentage of Missing Values in Test ---\\n')\n",
    "print(100*test.isnull().sum() / test.shape[0])"
   ]
  },
  {
   "cell_type": "markdown",
   "id": "a54ad539",
   "metadata": {
    "papermill": {
     "duration": 0.010707,
     "end_time": "2024-11-04T01:18:51.975550",
     "exception": false,
     "start_time": "2024-11-04T01:18:51.964843",
     "status": "completed"
    },
    "tags": []
   },
   "source": [
    "From the above tables, there are some features that have a significant proportion of missing values. Next, we check for potential duplicates."
   ]
  },
  {
   "cell_type": "code",
   "execution_count": 6,
   "id": "4e939f3b",
   "metadata": {
    "execution": {
     "iopub.execute_input": "2024-11-04T01:18:52.000501Z",
     "iopub.status.busy": "2024-11-04T01:18:51.999984Z",
     "iopub.status.idle": "2024-11-04T01:18:52.665440Z",
     "shell.execute_reply": "2024-11-04T01:18:52.663670Z"
    },
    "papermill": {
     "duration": 0.681663,
     "end_time": "2024-11-04T01:18:52.668598",
     "exception": false,
     "start_time": "2024-11-04T01:18:51.986935",
     "status": "completed"
    },
    "tags": []
   },
   "outputs": [
    {
     "name": "stdout",
     "output_type": "stream",
     "text": [
      "There are 0 duplicated rows in the train data frame.\n",
      "\n",
      "\n",
      "After dropping the Depression column, there are 0 duplicated rows in the train data frame.\n",
      "\n",
      "\n",
      "There are 0 duplicated rows in the test data frame.\n"
     ]
    }
   ],
   "source": [
    "print(f\"There are {sum(train.duplicated())} duplicated rows in the train data frame.\")\n",
    "\n",
    "print(\"\\n\")\n",
    "print(f\"After dropping the Depression column, there are {sum(train.drop(columns=['Depression'], axis=1).duplicated())} duplicated rows in the train data frame.\")\n",
    "\n",
    "print(\"\\n\")\n",
    "print(f\"There are {sum(test.duplicated())} duplicated rows in the test data frame.\")"
   ]
  },
  {
   "cell_type": "markdown",
   "id": "d5eb3953",
   "metadata": {
    "papermill": {
     "duration": 0.010828,
     "end_time": "2024-11-04T01:18:52.690825",
     "exception": false,
     "start_time": "2024-11-04T01:18:52.679997",
     "status": "completed"
    },
    "tags": []
   },
   "source": [
    "Finally, we check if there are any observations that appear in both the `train` and `test` data frames."
   ]
  },
  {
   "cell_type": "code",
   "execution_count": 7,
   "id": "d09d41ba",
   "metadata": {
    "execution": {
     "iopub.execute_input": "2024-11-04T01:18:52.715455Z",
     "iopub.status.busy": "2024-11-04T01:18:52.714961Z",
     "iopub.status.idle": "2024-11-04T01:18:53.333775Z",
     "shell.execute_reply": "2024-11-04T01:18:53.332303Z"
    },
    "papermill": {
     "duration": 0.63435,
     "end_time": "2024-11-04T01:18:53.336595",
     "exception": false,
     "start_time": "2024-11-04T01:18:52.702245",
     "status": "completed"
    },
    "tags": []
   },
   "outputs": [
    {
     "name": "stdout",
     "output_type": "stream",
     "text": [
      "There are 0 observations that appear in both the train and test data frames\n"
     ]
    }
   ],
   "source": [
    "temp_train = train.drop(columns=['Depression'], axis=1)\n",
    "temp_test = test\n",
    "\n",
    "inner_join = pd.merge(temp_train, temp_test)\n",
    "print(f\"There are {inner_join.shape[0]} observations that appear in both the train and test data frames\")"
   ]
  },
  {
   "cell_type": "markdown",
   "id": "392c8493",
   "metadata": {
    "papermill": {
     "duration": 0.01113,
     "end_time": "2024-11-04T01:18:53.359114",
     "exception": false,
     "start_time": "2024-11-04T01:18:53.347984",
     "status": "completed"
    },
    "tags": []
   },
   "source": [
    "# Data Exploration\n",
    "\n",
    "First, we start by exploring the distribution of `Depression`."
   ]
  },
  {
   "cell_type": "code",
   "execution_count": 8,
   "id": "9ea0195a",
   "metadata": {
    "_kg_hide-input": true,
    "execution": {
     "iopub.execute_input": "2024-11-04T01:18:53.383639Z",
     "iopub.status.busy": "2024-11-04T01:18:53.383181Z",
     "iopub.status.idle": "2024-11-04T01:18:53.751080Z",
     "shell.execute_reply": "2024-11-04T01:18:53.749658Z"
    },
    "papermill": {
     "duration": 0.383641,
     "end_time": "2024-11-04T01:18:53.754101",
     "exception": false,
     "start_time": "2024-11-04T01:18:53.370460",
     "status": "completed"
    },
    "tags": []
   },
   "outputs": [
    {
     "data": {
      "image/png": "[encoded data removed]",
      "text/plain": [
       "<Figure size 640x480 with 1 Axes>"
      ]
     },
     "metadata": {},
     "output_type": "display_data"
    }
   ],
   "source": [
    "ax = round(train['Depression'].value_counts(normalize=True), 2).plot(kind='barh', color='steelblue')\n",
    "ax.bar_label(ax.containers[0], label_type='edge')\n",
    "ax.margins(y=0.1)\n",
    "plt.xlabel('Percentage');"
   ]
  },
  {
   "cell_type": "markdown",
   "id": "d6cebe79",
   "metadata": {
    "papermill": {
     "duration": 0.012104,
     "end_time": "2024-11-04T01:18:53.778221",
     "exception": false,
     "start_time": "2024-11-04T01:18:53.766117",
     "status": "completed"
    },
    "tags": []
   },
   "source": [
    "From the above chart, we see that this is an imbalanced dataset. `Depression=1` is the less frequent label. Next, we explore the relationships between the input features and `Depression`.\n"
   ]
  },
  {
   "cell_type": "code",
   "execution_count": 9,
   "id": "a5647c46",
   "metadata": {
    "_kg_hide-input": true,
    "execution": {
     "iopub.execute_input": "2024-11-04T01:18:53.805240Z",
     "iopub.status.busy": "2024-11-04T01:18:53.803913Z",
     "iopub.status.idle": "2024-11-04T01:18:54.747177Z",
     "shell.execute_reply": "2024-11-04T01:18:54.745674Z"
    },
    "papermill": {
     "duration": 0.959978,
     "end_time": "2024-11-04T01:18:54.750335",
     "exception": false,
     "start_time": "2024-11-04T01:18:53.790357",
     "status": "completed"
    },
    "tags": []
   },
   "outputs": [
    {
     "data": {
      "image/png": "[encoded data removed]",
      "text/plain": [
       "<Figure size 1500x600 with 4 Axes>"
      ]
     },
     "metadata": {},
     "output_type": "display_data"
    }
   ],
   "source": [
    "fig, axes = plt.subplots(1, 2, figsize=(15, 6))\n",
    "\n",
    "cmap = sns.color_palette(\"coolwarm\", as_cmap=True)\n",
    "\n",
    "sns.heatmap(data=round(100*pd.crosstab(train['Gender'], train['Depression'], normalize=0), 2), annot=True, cmap=cmap, fmt='.0f', ax=axes[0])\n",
    "sns.heatmap(data=round(100*pd.crosstab(train['Working Professional or Student'], train['Depression'], normalize=0), 2), annot=True, cmap=cmap, fmt='.0f', ax=axes[1]);"
   ]
  },
  {
   "cell_type": "markdown",
   "id": "2091e506",
   "metadata": {
    "papermill": {
     "duration": 0.012169,
     "end_time": "2024-11-04T01:18:54.775562",
     "exception": false,
     "start_time": "2024-11-04T01:18:54.763393",
     "status": "completed"
    },
    "tags": []
   },
   "source": [
    "From the above charts, we observe the following:\n",
    "\n",
    "- `Gender` doesn't seem to be related to `Depression`.\n",
    "- `Students` are more likely to be depressed when compared to `Working Professionals`."
   ]
  },
  {
   "cell_type": "code",
   "execution_count": 10,
   "id": "c58d097e",
   "metadata": {
    "_kg_hide-input": true,
    "execution": {
     "iopub.execute_input": "2024-11-04T01:18:54.804112Z",
     "iopub.status.busy": "2024-11-04T01:18:54.803606Z",
     "iopub.status.idle": "2024-11-04T01:18:55.465277Z",
     "shell.execute_reply": "2024-11-04T01:18:55.463646Z"
    },
    "papermill": {
     "duration": 0.679493,
     "end_time": "2024-11-04T01:18:55.468135",
     "exception": false,
     "start_time": "2024-11-04T01:18:54.788642",
     "status": "completed"
    },
    "tags": []
   },
   "outputs": [
    {
     "data": {
      "image/png": "[encoded data removed]",
      "text/plain": [
       "<Figure size 1500x600 with 2 Axes>"
      ]
     },
     "metadata": {},
     "output_type": "display_data"
    }
   ],
   "source": [
    "fig, axes = plt.subplots(1, 2, figsize=(15, 6))\n",
    "\n",
    "sns.boxplot(x='Depression', y='Age', data=train, hue='Depression', ax=axes[0])\n",
    "sns.boxplot(x='Depression', y='Work/Study Hours', data=train, hue='Depression', ax=axes[1]);"
   ]
  },
  {
   "cell_type": "markdown",
   "id": "60b021f3",
   "metadata": {
    "papermill": {
     "duration": 0.014121,
     "end_time": "2024-11-04T01:18:55.495535",
     "exception": false,
     "start_time": "2024-11-04T01:18:55.481414",
     "status": "completed"
    },
    "tags": []
   },
   "source": [
    "From the above charts, we observe the following:\n",
    "\n",
    "- When compared the medians of the age of the groups, the median age of the depressed group is smaller.\n",
    "- When compared the medians of the work/study hours, the median work/study hours of the depressed group is higher.\n",
    "- Notice that these charts agree with the insights from the heatmaps."
   ]
  },
  {
   "cell_type": "markdown",
   "id": "0c01a12e",
   "metadata": {
    "papermill": {
     "duration": 0.012882,
     "end_time": "2024-11-04T01:18:55.521572",
     "exception": false,
     "start_time": "2024-11-04T01:18:55.508690",
     "status": "completed"
    },
    "tags": []
   },
   "source": [
    "# Baseline Modeling 1.0\n",
    "\n",
    "In this section, we train some models without preprocessing the data."
   ]
  },
  {
   "cell_type": "code",
   "execution_count": 11,
   "id": "1e2f556c",
   "metadata": {
    "execution": {
     "iopub.execute_input": "2024-11-04T01:18:55.549766Z",
     "iopub.status.busy": "2024-11-04T01:18:55.549267Z",
     "iopub.status.idle": "2024-11-04T01:18:55.668343Z",
     "shell.execute_reply": "2024-11-04T01:18:55.666633Z"
    },
    "papermill": {
     "duration": 0.13679,
     "end_time": "2024-11-04T01:18:55.671402",
     "exception": false,
     "start_time": "2024-11-04T01:18:55.534612",
     "status": "completed"
    },
    "tags": []
   },
   "outputs": [
    {
     "name": "stdout",
     "output_type": "stream",
     "text": [
      "CPU times: user 103 ms, sys: 9.03 ms, total: 112 ms\n",
      "Wall time: 110 ms\n"
     ]
    }
   ],
   "source": [
    "%%time\n",
    "X = train.drop(columns=['Name', 'Depression'], axis=1)\n",
    "y = train['Depression']\n",
    "\n",
    "test = test.drop(columns=['Name'], axis=1)\n",
    "\n",
    "cat_cols = ['Gender',\n",
    "            'City',\n",
    "            'Working Professional or Student',\n",
    "            'Profession',\n",
    "            'Sleep Duration',\n",
    "            'Dietary Habits',\n",
    "            'Degree',\n",
    "            'Have you ever had suicidal thoughts ?',\n",
    "            'Family History of Mental Illness']\n",
    "\n",
    "for col in cat_cols:\n",
    "    X[col] = X[col].astype('str')\n",
    "    test[col] = test[col].astype('str')\n",
    "\n",
    "skf = RepeatedStratifiedKFold(n_splits=10, n_repeats=1, random_state=42)"
   ]
  },
  {
   "cell_type": "code",
   "execution_count": 12,
   "id": "3d84e511",
   "metadata": {
    "execution": {
     "iopub.execute_input": "2024-11-04T01:18:55.700970Z",
     "iopub.status.busy": "2024-11-04T01:18:55.700503Z",
     "iopub.status.idle": "2024-11-04T01:25:07.817321Z",
     "shell.execute_reply": "2024-11-04T01:25:07.816028Z"
    },
    "papermill": {
     "duration": 372.148507,
     "end_time": "2024-11-04T01:25:07.834183",
     "exception": false,
     "start_time": "2024-11-04T01:18:55.685676",
     "status": "completed"
    },
    "tags": []
   },
   "outputs": [
    {
     "name": "stdout",
     "output_type": "stream",
     "text": [
      "------------ Working on Fold 0 ------------\n",
      "The oof accuracy score is 0.9383084577114428\n",
      "------------ Working on Fold 1 ------------\n",
      "The oof accuracy score is 0.9406538734896944\n",
      "------------ Working on Fold 2 ------------\n",
      "The oof accuracy score is 0.9378820184790334\n",
      "------------ Working on Fold 3 ------------\n",
      "The oof accuracy score is 0.9384506041222459\n",
      "------------ Working on Fold 4 ------------\n",
      "The oof accuracy score is 0.9404406538734897\n",
      "------------ Working on Fold 5 ------------\n",
      "The oof accuracy score is 0.9398009950248756\n",
      "------------ Working on Fold 6 ------------\n",
      "The oof accuracy score is 0.9400142146410803\n",
      "------------ Working on Fold 7 ------------\n",
      "The oof accuracy score is 0.9427860696517413\n",
      "------------ Working on Fold 8 ------------\n",
      "The oof accuracy score is 0.9393034825870646\n",
      "------------ Working on Fold 9 ------------\n",
      "The oof accuracy score is 0.9398009950248756\n",
      "The 10-fold average oof ROC-AUC score of the CatBoost model is 0.9397441364605543\n",
      "The 10-fold std oof ROC-AUC score of the CatBoost model is 0.0013431895666230595\n",
      "CPU times: user 22min 54s, sys: 37.3 s, total: 23min 31s\n",
      "Wall time: 6min 12s\n"
     ]
    }
   ],
   "source": [
    "%%time\n",
    "cat_params = {'loss_function': 'Logloss',\n",
    "              'iterations': 300,\n",
    "              'task_type': 'CPU'}\n",
    "\n",
    "test_pool = Pool(data=test, cat_features=cat_cols)\n",
    "\n",
    "scores, cat_oof_preds, cat_test_preds = list(), list(), list()\n",
    "for i, (train_index, test_index) in enumerate(skf.split(X, y)):\n",
    "    \n",
    "    print(f\"------------ Working on Fold {i} ------------\")\n",
    "    \n",
    "    X_train, X_test = X.iloc[train_index], X.iloc[test_index]\n",
    "    y_train, y_test = y[train_index], y[test_index]\n",
    "    \n",
    "    model_pool = Pool(data=X_train, label=y_train, cat_features=cat_cols)\n",
    "    eval_pool = Pool(data=X_test, label=y_test, cat_features=cat_cols)\n",
    "            \n",
    "    cat_md = CatBoostClassifier(**cat_params).fit(model_pool, eval_set=eval_pool, verbose=0)\n",
    "    preds = cat_md.predict(eval_pool)\n",
    "    \n",
    "    oof_preds = pd.DataFrame()\n",
    "    oof_preds['y'] = y_test.values\n",
    "    oof_preds['cat_preds'] = preds\n",
    "    oof_preds['fold'] = i\n",
    "    cat_oof_preds.append(oof_preds)\n",
    "    \n",
    "    score = accuracy_score(y_test, preds)\n",
    "    print(f\"The oof accuracy score is {score}\")\n",
    "    scores.append(score)\n",
    "    \n",
    "    test_preds = pd.DataFrame()\n",
    "    test_preds['cat_preds'] = cat_md.predict(test_pool)\n",
    "    test_preds['fold'] = i\n",
    "    cat_test_preds.append(test_preds)\n",
    "\n",
    "cat_oof_score = np.mean(scores)  \n",
    "cat_std = np.std(scores)\n",
    "print(f\"The 10-fold average oof ROC-AUC score of the CatBoost model is {cat_oof_score}\")\n",
    "print(f\"The 10-fold std oof ROC-AUC score of the CatBoost model is {cat_std}\")"
   ]
  },
  {
   "cell_type": "code",
   "execution_count": 13,
   "id": "a7fae978",
   "metadata": {
    "execution": {
     "iopub.execute_input": "2024-11-04T01:25:07.864657Z",
     "iopub.status.busy": "2024-11-04T01:25:07.864193Z",
     "iopub.status.idle": "2024-11-04T01:25:07.942587Z",
     "shell.execute_reply": "2024-11-04T01:25:07.940965Z"
    },
    "papermill": {
     "duration": 0.097718,
     "end_time": "2024-11-04T01:25:07.946072",
     "exception": false,
     "start_time": "2024-11-04T01:25:07.848354",
     "status": "completed"
    },
    "tags": []
   },
   "outputs": [],
   "source": [
    "out = pd.concat(cat_test_preds)\n",
    "final_preds = []\n",
    "for i in range(0, 10):\n",
    "    dat = out[out['fold']==i].reset_index(drop=True)\n",
    "    final_preds.append(dat['cat_preds'].values)"
   ]
  },
  {
   "cell_type": "code",
   "execution_count": 14,
   "id": "c8f56229",
   "metadata": {
    "execution": {
     "iopub.execute_input": "2024-11-04T01:25:07.991962Z",
     "iopub.status.busy": "2024-11-04T01:25:07.991433Z",
     "iopub.status.idle": "2024-11-04T01:25:08.068473Z",
     "shell.execute_reply": "2024-11-04T01:25:08.067265Z"
    },
    "papermill": {
     "duration": 0.101394,
     "end_time": "2024-11-04T01:25:08.071467",
     "exception": false,
     "start_time": "2024-11-04T01:25:07.970073",
     "status": "completed"
    },
    "tags": []
   },
   "outputs": [
    {
     "name": "stdout",
     "output_type": "stream",
     "text": [
      "CPU times: user 27.2 ms, sys: 7.95 ms, total: 35.2 ms\n",
      "Wall time: 64.7 ms\n"
     ]
    },
    {
     "data": {
      "text/html": [
       "<div>\n",
       "<style scoped>\n",
       "    .dataframe tbody tr th:only-of-type {\n",
       "        vertical-align: middle;\n",
       "    }\n",
       "\n",
       "    .dataframe tbody tr th {\n",
       "        vertical-align: top;\n",
       "    }\n",
       "\n",
       "    .dataframe thead th {\n",
       "        text-align: right;\n",
       "    }\n",
       "</style>\n",
       "<table border=\"1\" class=\"dataframe\">\n",
       "  <thead>\n",
       "    <tr style=\"text-align: right;\">\n",
       "      <th></th>\n",
       "      <th>id</th>\n",
       "      <th>Depression</th>\n",
       "    </tr>\n",
       "  </thead>\n",
       "  <tbody>\n",
       "    <tr>\n",
       "      <th>0</th>\n",
       "      <td>140700</td>\n",
       "      <td>0</td>\n",
       "    </tr>\n",
       "    <tr>\n",
       "      <th>1</th>\n",
       "      <td>140701</td>\n",
       "      <td>0</td>\n",
       "    </tr>\n",
       "    <tr>\n",
       "      <th>2</th>\n",
       "      <td>140702</td>\n",
       "      <td>0</td>\n",
       "    </tr>\n",
       "    <tr>\n",
       "      <th>3</th>\n",
       "      <td>140703</td>\n",
       "      <td>1</td>\n",
       "    </tr>\n",
       "    <tr>\n",
       "      <th>4</th>\n",
       "      <td>140704</td>\n",
       "      <td>0</td>\n",
       "    </tr>\n",
       "  </tbody>\n",
       "</table>\n",
       "</div>"
      ],
      "text/plain": [
       "       id  Depression\n",
       "0  140700           0\n",
       "1  140701           0\n",
       "2  140702           0\n",
       "3  140703           1\n",
       "4  140704           0"
      ]
     },
     "execution_count": 14,
     "metadata": {},
     "output_type": "execute_result"
    }
   ],
   "source": [
    "%%time\n",
    "submission = pd.read_csv('../input/playground-series-s4e11/sample_submission.csv')\n",
    "submission['Depression'] = np.where(np.mean(final_preds, axis=0)==0.0, 0, 1)\n",
    "submission.head()"
   ]
  },
  {
   "cell_type": "code",
   "execution_count": 15,
   "id": "667762bd",
   "metadata": {
    "execution": {
     "iopub.execute_input": "2024-11-04T01:25:08.103526Z",
     "iopub.status.busy": "2024-11-04T01:25:08.103050Z",
     "iopub.status.idle": "2024-11-04T01:25:08.238003Z",
     "shell.execute_reply": "2024-11-04T01:25:08.236892Z"
    },
    "papermill": {
     "duration": 0.154737,
     "end_time": "2024-11-04T01:25:08.240905",
     "exception": false,
     "start_time": "2024-11-04T01:25:08.086168",
     "status": "completed"
    },
    "tags": []
   },
   "outputs": [],
   "source": [
    "submission.to_csv('baseline_sub_1.csv', index=False)"
   ]
  },
  {
   "cell_type": "markdown",
   "id": "b1deb7c4",
   "metadata": {
    "papermill": {
     "duration": 0.014451,
     "end_time": "2024-11-04T01:25:08.270137",
     "exception": false,
     "start_time": "2024-11-04T01:25:08.255686",
     "status": "completed"
    },
    "tags": []
   },
   "source": [
    "# Baseline Modeling 2.0\n",
    "\n",
    "In this section, we continue exploring `CatBoost` as the main model. The big difference between this section and the previous one are:\n",
    "\n",
    "- `Name` is included as one of the input variables.\n",
    "- All of the features are treated as categorical features."
   ]
  },
  {
   "cell_type": "code",
   "execution_count": 16,
   "id": "8a0199e4",
   "metadata": {
    "execution": {
     "iopub.execute_input": "2024-11-04T01:25:08.301245Z",
     "iopub.status.busy": "2024-11-04T01:25:08.300720Z",
     "iopub.status.idle": "2024-11-04T01:25:09.455334Z",
     "shell.execute_reply": "2024-11-04T01:25:09.453972Z"
    },
    "papermill": {
     "duration": 1.173347,
     "end_time": "2024-11-04T01:25:09.457973",
     "exception": false,
     "start_time": "2024-11-04T01:25:08.284626",
     "status": "completed"
    },
    "tags": []
   },
   "outputs": [
    {
     "name": "stdout",
     "output_type": "stream",
     "text": [
      "CPU times: user 1.1 s, sys: 95.9 ms, total: 1.2 s\n",
      "Wall time: 1.14 s\n"
     ]
    }
   ],
   "source": [
    "%%time\n",
    "train = pd.read_csv('../input/playground-series-s4e11/train.csv', index_col=0)\n",
    "test = pd.read_csv('../input/playground-series-s4e11/test.csv', index_col=0)\n",
    "\n",
    "cat_cols = ['Name',\n",
    "            'Gender',\n",
    "            'City',\n",
    "            'Working Professional or Student',\n",
    "            'Profession',\n",
    "            'Sleep Duration',\n",
    "            'Dietary Habits',\n",
    "            'Degree',\n",
    "            'Have you ever had suicidal thoughts ?',\n",
    "            'Family History of Mental Illness']\n",
    "\n",
    "for col in cat_cols:\n",
    "    train[col] = train[col].astype('str')\n",
    "    test[col] = test[col].astype('str')\n",
    "\n",
    "X = train.drop(columns=['Depression'], axis=1)\n",
    "y = train['Depression']\n",
    "\n",
    "test_pool = Pool(data=test, cat_features=cat_cols)\n",
    "\n",
    "skf = RepeatedStratifiedKFold(n_splits=10, n_repeats=1, random_state=42)"
   ]
  },
  {
   "cell_type": "markdown",
   "id": "b9c2a7e8",
   "metadata": {
    "papermill": {
     "duration": 0.014263,
     "end_time": "2024-11-04T01:25:09.486592",
     "exception": false,
     "start_time": "2024-11-04T01:25:09.472329",
     "status": "completed"
    },
    "tags": []
   },
   "source": [
    "Next, we run 10-fold cross-validation experiment as follows:"
   ]
  },
  {
   "cell_type": "code",
   "execution_count": 17,
   "id": "fdbf98b6",
   "metadata": {
    "execution": {
     "iopub.execute_input": "2024-11-04T01:25:09.518248Z",
     "iopub.status.busy": "2024-11-04T01:25:09.517708Z",
     "iopub.status.idle": "2024-11-04T01:33:39.410989Z",
     "shell.execute_reply": "2024-11-04T01:33:39.409629Z"
    },
    "papermill": {
     "duration": 509.912552,
     "end_time": "2024-11-04T01:33:39.413670",
     "exception": false,
     "start_time": "2024-11-04T01:25:09.501118",
     "status": "completed"
    },
    "tags": []
   },
   "outputs": [
    {
     "name": "stdout",
     "output_type": "stream",
     "text": [
      "------------ Working on Fold 0 ------------\n",
      "The oof accuracy score is 0.9392324093816631\n",
      "------------ Working on Fold 1 ------------\n",
      "The oof accuracy score is 0.94136460554371\n",
      "------------ Working on Fold 2 ------------\n",
      "The oof accuracy score is 0.9370291400142147\n",
      "------------ Working on Fold 3 ------------\n",
      "The oof accuracy score is 0.939729921819474\n",
      "------------ Working on Fold 4 ------------\n",
      "The oof accuracy score is 0.940724946695096\n",
      "------------ Working on Fold 5 ------------\n",
      "The oof accuracy score is 0.9412935323383085\n",
      "------------ Working on Fold 6 ------------\n",
      "The oof accuracy score is 0.9409381663113007\n",
      "------------ Working on Fold 7 ------------\n",
      "The oof accuracy score is 0.9429282160625444\n",
      "------------ Working on Fold 8 ------------\n",
      "The oof accuracy score is 0.9405117270788913\n",
      "------------ Working on Fold 9 ------------\n",
      "The oof accuracy score is 0.9401563610518835\n",
      "The 10-fold average oof ROC-AUC score of the CatBoost model is 0.9403909026297086\n",
      "The 10-fold std oof ROC-AUC score of the CatBoost model is 0.0014751928215080315\n",
      "CPU times: user 31min 32s, sys: 46.1 s, total: 32min 19s\n",
      "Wall time: 8min 29s\n"
     ]
    }
   ],
   "source": [
    "%%time\n",
    "cat_params = {'loss_function': 'Logloss', 'iterations': 421, 'depth': 5, 'task_type': 'CPU'}\n",
    "\n",
    "scores, cat_oof_preds, cat_test_preds = list(), list(), list()\n",
    "for i, (train_index, test_index) in enumerate(skf.split(X, y)):\n",
    "    \n",
    "    print(f\"------------ Working on Fold {i} ------------\")\n",
    "    \n",
    "    X_train, X_test = X.iloc[train_index], X.iloc[test_index]\n",
    "    y_train, y_test = y[train_index], y[test_index]\n",
    "    \n",
    "    model_pool = Pool(data=X_train, label=y_train, cat_features=cat_cols)\n",
    "    eval_pool = Pool(data=X_test, label=y_test, cat_features=cat_cols)\n",
    "            \n",
    "    cat_md = CatBoostClassifier(**cat_params).fit(model_pool, eval_set=eval_pool, verbose=0)\n",
    "    preds = cat_md.predict(eval_pool)\n",
    "    \n",
    "    oof_preds = pd.DataFrame()\n",
    "    oof_preds['y'] = y_test.values\n",
    "    oof_preds['cat_preds'] = preds\n",
    "    oof_preds['fold'] = i\n",
    "    cat_oof_preds.append(oof_preds)\n",
    "    \n",
    "    score = accuracy_score(y_test, preds)\n",
    "    print(f\"The oof accuracy score is {score}\")\n",
    "    scores.append(score)\n",
    "    \n",
    "    test_preds = pd.DataFrame()\n",
    "    test_preds['cat_preds'] = cat_md.predict(test_pool)\n",
    "    test_preds['fold'] = i\n",
    "    cat_test_preds.append(test_preds)\n",
    "\n",
    "cat_oof_score = np.mean(scores)  \n",
    "cat_std = np.std(scores)\n",
    "print(f\"The 10-fold average oof ROC-AUC score of the CatBoost model is {cat_oof_score}\")\n",
    "print(f\"The 10-fold std oof ROC-AUC score of the CatBoost model is {cat_std}\")"
   ]
  },
  {
   "cell_type": "code",
   "execution_count": 18,
   "id": "3ec17f8d",
   "metadata": {
    "execution": {
     "iopub.execute_input": "2024-11-04T01:33:39.448519Z",
     "iopub.status.busy": "2024-11-04T01:33:39.447424Z",
     "iopub.status.idle": "2024-11-04T01:33:39.505157Z",
     "shell.execute_reply": "2024-11-04T01:33:39.503588Z"
    },
    "papermill": {
     "duration": 0.078222,
     "end_time": "2024-11-04T01:33:39.507879",
     "exception": false,
     "start_time": "2024-11-04T01:33:39.429657",
     "status": "completed"
    },
    "tags": []
   },
   "outputs": [
    {
     "name": "stdout",
     "output_type": "stream",
     "text": [
      "CPU times: user 49 ms, sys: 1e+03 µs, total: 50 ms\n",
      "Wall time: 49.5 ms\n"
     ]
    }
   ],
   "source": [
    "%%time\n",
    "out = pd.concat(cat_test_preds)\n",
    "final_preds = []\n",
    "for i in range(0, 10):\n",
    "    dat = out[out['fold']==i].reset_index(drop=True)\n",
    "    final_preds.append(dat['cat_preds'].values)"
   ]
  },
  {
   "cell_type": "code",
   "execution_count": 19,
   "id": "718d18de",
   "metadata": {
    "execution": {
     "iopub.execute_input": "2024-11-04T01:33:39.543207Z",
     "iopub.status.busy": "2024-11-04T01:33:39.542112Z",
     "iopub.status.idle": "2024-11-04T01:33:45.175886Z",
     "shell.execute_reply": "2024-11-04T01:33:45.174589Z"
    },
    "papermill": {
     "duration": 5.65414,
     "end_time": "2024-11-04T01:33:45.178303",
     "exception": false,
     "start_time": "2024-11-04T01:33:39.524163",
     "status": "completed"
    },
    "tags": []
   },
   "outputs": [
    {
     "name": "stdout",
     "output_type": "stream",
     "text": [
      "CPU times: user 5.6 s, sys: 9.02 ms, total: 5.61 s\n",
      "Wall time: 5.62 s\n"
     ]
    },
    {
     "data": {
      "text/html": [
       "<div>\n",
       "<style scoped>\n",
       "    .dataframe tbody tr th:only-of-type {\n",
       "        vertical-align: middle;\n",
       "    }\n",
       "\n",
       "    .dataframe tbody tr th {\n",
       "        vertical-align: top;\n",
       "    }\n",
       "\n",
       "    .dataframe thead th {\n",
       "        text-align: right;\n",
       "    }\n",
       "</style>\n",
       "<table border=\"1\" class=\"dataframe\">\n",
       "  <thead>\n",
       "    <tr style=\"text-align: right;\">\n",
       "      <th></th>\n",
       "      <th>id</th>\n",
       "      <th>Depression</th>\n",
       "    </tr>\n",
       "  </thead>\n",
       "  <tbody>\n",
       "    <tr>\n",
       "      <th>0</th>\n",
       "      <td>140700</td>\n",
       "      <td>0</td>\n",
       "    </tr>\n",
       "    <tr>\n",
       "      <th>1</th>\n",
       "      <td>140701</td>\n",
       "      <td>0</td>\n",
       "    </tr>\n",
       "    <tr>\n",
       "      <th>2</th>\n",
       "      <td>140702</td>\n",
       "      <td>0</td>\n",
       "    </tr>\n",
       "    <tr>\n",
       "      <th>3</th>\n",
       "      <td>140703</td>\n",
       "      <td>1</td>\n",
       "    </tr>\n",
       "    <tr>\n",
       "      <th>4</th>\n",
       "      <td>140704</td>\n",
       "      <td>0</td>\n",
       "    </tr>\n",
       "  </tbody>\n",
       "</table>\n",
       "</div>"
      ],
      "text/plain": [
       "       id  Depression\n",
       "0  140700           0\n",
       "1  140701           0\n",
       "2  140702           0\n",
       "3  140703           1\n",
       "4  140704           0"
      ]
     },
     "execution_count": 19,
     "metadata": {},
     "output_type": "execute_result"
    }
   ],
   "source": [
    "%%time\n",
    "submission = pd.read_csv('../input/playground-series-s4e11/sample_submission.csv')\n",
    "submission['Depression'] = mode(np.vstack(final_preds).T, axis=1)[0]\n",
    "submission.head()"
   ]
  },
  {
   "cell_type": "code",
   "execution_count": 20,
   "id": "fb7d2550",
   "metadata": {
    "execution": {
     "iopub.execute_input": "2024-11-04T01:33:45.214810Z",
     "iopub.status.busy": "2024-11-04T01:33:45.214358Z",
     "iopub.status.idle": "2024-11-04T01:33:45.347317Z",
     "shell.execute_reply": "2024-11-04T01:33:45.346032Z"
    },
    "papermill": {
     "duration": 0.154781,
     "end_time": "2024-11-04T01:33:45.350232",
     "exception": false,
     "start_time": "2024-11-04T01:33:45.195451",
     "status": "completed"
    },
    "tags": []
   },
   "outputs": [],
   "source": [
    "submission.to_csv('baseline_sub_2.csv', index=False)"
   ]
  }
 ],
 "metadata": {
  "kaggle": {
   "accelerator": "none",
   "dataSources": [
    {
     "databundleVersionId": 10008389,
     "sourceId": 84895,
     "sourceType": "competition"
    }
   ],
   "dockerImageVersionId": 30786,
   "isGpuEnabled": false,
   "isInternetEnabled": true,
   "language": "python",
   "sourceType": "notebook"
  },
  "kernelspec": {
   "display_name": "Python 3",
   "language": "python",
   "name": "python3"
  },
  "language_info": {
   "codemirror_mode": {
    "name": "ipython",
    "version": 3
   },
   "file_extension": ".py",
   "mimetype": "text/x-python",
   "name": "python",
   "nbconvert_exporter": "python",
   "pygments_lexer": "ipython3",
   "version": "3.10.14"
  },
  "papermill": {
   "default_parameters": {},
   "duration": 907.963753,
   "end_time": "2024-11-04T01:33:46.591998",
   "environment_variables": {},
   "exception": null,
   "input_path": "__notebook__.ipynb",
   "output_path": "__notebook__.ipynb",
   "parameters": {},
   "start_time": "2024-11-04T01:18:38.628245",
   "version": "2.6.0"
  }
 },
 "nbformat": 4,
 "nbformat_minor": 5
}
