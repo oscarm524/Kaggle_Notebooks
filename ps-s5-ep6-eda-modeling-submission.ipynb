{
 "cells": [
  {
   "cell_type": "markdown",
   "id": "c4c10019",
   "metadata": {
    "papermill": {
     "duration": 0.005402,
     "end_time": "2025-06-03T12:14:15.666829",
     "exception": false,
     "start_time": "2025-06-03T12:14:15.661427",
     "status": "completed"
    },
    "tags": []
   },
   "source": [
    "# Loading Libraries"
   ]
  },
  {
   "cell_type": "code",
   "execution_count": 1,
   "id": "a4b9003f",
   "metadata": {
    "execution": {
     "iopub.execute_input": "2025-06-03T12:14:15.676957Z",
     "iopub.status.busy": "2025-06-03T12:14:15.676694Z",
     "iopub.status.idle": "2025-06-03T12:14:28.794468Z",
     "shell.execute_reply": "2025-06-03T12:14:28.793480Z"
    },
    "papermill": {
     "duration": 13.124364,
     "end_time": "2025-06-03T12:14:28.795928",
     "exception": false,
     "start_time": "2025-06-03T12:14:15.671564",
     "status": "completed"
    },
    "tags": []
   },
   "outputs": [
    {
     "name": "stdout",
     "output_type": "stream",
     "text": [
      "CPU times: user 6 s, sys: 2.77 s, total: 8.77 s\n",
      "Wall time: 13.1 s\n"
     ]
    }
   ],
   "source": [
    "%%time\n",
    "import pandas as pd; pd.set_option('display.max_columns', 100)\n",
    "import numpy as np\n",
    "\n",
    "from tqdm.notebook import tqdm\n",
    "import gc\n",
    "\n",
    "import warnings\n",
    "warnings.filterwarnings('ignore')\n",
    "\n",
    "from functools import partial\n",
    "import scipy as sp\n",
    "\n",
    "import matplotlib.pyplot as plt; plt.style.use('ggplot')\n",
    "import seaborn as sns\n",
    "import plotly.express as px\n",
    "\n",
    "from sklearn.tree import DecisionTreeClassifier, plot_tree\n",
    "from sklearn.preprocessing import MinMaxScaler, StandardScaler, LabelEncoder\n",
    "from sklearn.pipeline import make_pipeline\n",
    "from sklearn.model_selection import KFold, StratifiedKFold, train_test_split, GridSearchCV\n",
    "from sklearn.metrics import roc_auc_score, roc_curve, RocCurveDisplay, cohen_kappa_score, log_loss\n",
    "from sklearn.discriminant_analysis import LinearDiscriminantAnalysis, QuadraticDiscriminantAnalysis\n",
    "from sklearn.neighbors import KNeighborsClassifier\n",
    "from sklearn.feature_selection import RFE, RFECV\n",
    "from sklearn.isotonic import IsotonicRegression\n",
    "from sklearn.calibration import CalibrationDisplay\n",
    "from sklearn.inspection import PartialDependenceDisplay\n",
    "from sklearn.linear_model import LogisticRegression\n",
    "from collections import Counter\n",
    "from sklearn.ensemble import RandomForestClassifier, HistGradientBoostingClassifier, GradientBoostingClassifier, ExtraTreesClassifier\n",
    "from sklearn.svm import SVC\n",
    "\n",
    "from lightgbm import LGBMClassifier, early_stopping, log_evaluation\n",
    "\n",
    "import xgboost as xgb\n",
    "from xgboost import XGBClassifier\n",
    "\n",
    "from catboost import CatBoostClassifier, Pool"
   ]
  },
  {
   "cell_type": "markdown",
   "id": "1860d7c8",
   "metadata": {
    "papermill": {
     "duration": 0.00427,
     "end_time": "2025-06-03T12:14:28.805046",
     "exception": false,
     "start_time": "2025-06-03T12:14:28.800776",
     "status": "completed"
    },
    "tags": []
   },
   "source": [
    "# Reading Data Files"
   ]
  },
  {
   "cell_type": "code",
   "execution_count": 2,
   "id": "80c4410a",
   "metadata": {
    "execution": {
     "iopub.execute_input": "2025-06-03T12:14:28.815019Z",
     "iopub.status.busy": "2025-06-03T12:14:28.814476Z",
     "iopub.status.idle": "2025-06-03T12:14:30.116260Z",
     "shell.execute_reply": "2025-06-03T12:14:30.115360Z"
    },
    "papermill": {
     "duration": 1.30832,
     "end_time": "2025-06-03T12:14:30.117813",
     "exception": false,
     "start_time": "2025-06-03T12:14:28.809493",
     "status": "completed"
    },
    "tags": []
   },
   "outputs": [
    {
     "name": "stdout",
     "output_type": "stream",
     "text": [
      "The dimension of the train dataset is: (750000, 9)\n",
      "The dimension of the test dataset is: (250000, 8)\n",
      "CPU times: user 610 ms, sys: 220 ms, total: 830 ms\n",
      "Wall time: 1.3 s\n"
     ]
    }
   ],
   "source": [
    "%%time\n",
    "train = pd.read_csv('../input/playground-series-s5e6/train.csv', index_col=0)\n",
    "test = pd.read_csv('../input/playground-series-s5e6/test.csv', index_col=0)\n",
    "\n",
    "print('The dimension of the train dataset is:', train.shape)\n",
    "print('The dimension of the test dataset is:', test.shape)"
   ]
  },
  {
   "cell_type": "code",
   "execution_count": 3,
   "id": "aacfff1d",
   "metadata": {
    "execution": {
     "iopub.execute_input": "2025-06-03T12:14:30.131333Z",
     "iopub.status.busy": "2025-06-03T12:14:30.130829Z",
     "iopub.status.idle": "2025-06-03T12:14:30.148402Z",
     "shell.execute_reply": "2025-06-03T12:14:30.147768Z"
    },
    "papermill": {
     "duration": 0.023999,
     "end_time": "2025-06-03T12:14:30.149562",
     "exception": false,
     "start_time": "2025-06-03T12:14:30.125563",
     "status": "completed"
    },
    "tags": []
   },
   "outputs": [
    {
     "data": {
      "text/html": [
       "<div>\n",
       "<style scoped>\n",
       "    .dataframe tbody tr th:only-of-type {\n",
       "        vertical-align: middle;\n",
       "    }\n",
       "\n",
       "    .dataframe tbody tr th {\n",
       "        vertical-align: top;\n",
       "    }\n",
       "\n",
       "    .dataframe thead th {\n",
       "        text-align: right;\n",
       "    }\n",
       "</style>\n",
       "<table border=\"1\" class=\"dataframe\">\n",
       "  <thead>\n",
       "    <tr style=\"text-align: right;\">\n",
       "      <th></th>\n",
       "      <th>Temparature</th>\n",
       "      <th>Humidity</th>\n",
       "      <th>Moisture</th>\n",
       "      <th>Soil Type</th>\n",
       "      <th>Crop Type</th>\n",
       "      <th>Nitrogen</th>\n",
       "      <th>Potassium</th>\n",
       "      <th>Phosphorous</th>\n",
       "      <th>Fertilizer Name</th>\n",
       "    </tr>\n",
       "    <tr>\n",
       "      <th>id</th>\n",
       "      <th></th>\n",
       "      <th></th>\n",
       "      <th></th>\n",
       "      <th></th>\n",
       "      <th></th>\n",
       "      <th></th>\n",
       "      <th></th>\n",
       "      <th></th>\n",
       "      <th></th>\n",
       "    </tr>\n",
       "  </thead>\n",
       "  <tbody>\n",
       "    <tr>\n",
       "      <th>0</th>\n",
       "      <td>37</td>\n",
       "      <td>70</td>\n",
       "      <td>36</td>\n",
       "      <td>Clayey</td>\n",
       "      <td>Sugarcane</td>\n",
       "      <td>36</td>\n",
       "      <td>4</td>\n",
       "      <td>5</td>\n",
       "      <td>28-28</td>\n",
       "    </tr>\n",
       "    <tr>\n",
       "      <th>1</th>\n",
       "      <td>27</td>\n",
       "      <td>69</td>\n",
       "      <td>65</td>\n",
       "      <td>Sandy</td>\n",
       "      <td>Millets</td>\n",
       "      <td>30</td>\n",
       "      <td>6</td>\n",
       "      <td>18</td>\n",
       "      <td>28-28</td>\n",
       "    </tr>\n",
       "    <tr>\n",
       "      <th>2</th>\n",
       "      <td>29</td>\n",
       "      <td>63</td>\n",
       "      <td>32</td>\n",
       "      <td>Sandy</td>\n",
       "      <td>Millets</td>\n",
       "      <td>24</td>\n",
       "      <td>12</td>\n",
       "      <td>16</td>\n",
       "      <td>17-17-17</td>\n",
       "    </tr>\n",
       "    <tr>\n",
       "      <th>3</th>\n",
       "      <td>35</td>\n",
       "      <td>62</td>\n",
       "      <td>54</td>\n",
       "      <td>Sandy</td>\n",
       "      <td>Barley</td>\n",
       "      <td>39</td>\n",
       "      <td>12</td>\n",
       "      <td>4</td>\n",
       "      <td>10-26-26</td>\n",
       "    </tr>\n",
       "    <tr>\n",
       "      <th>4</th>\n",
       "      <td>35</td>\n",
       "      <td>58</td>\n",
       "      <td>43</td>\n",
       "      <td>Red</td>\n",
       "      <td>Paddy</td>\n",
       "      <td>37</td>\n",
       "      <td>2</td>\n",
       "      <td>16</td>\n",
       "      <td>DAP</td>\n",
       "    </tr>\n",
       "  </tbody>\n",
       "</table>\n",
       "</div>"
      ],
      "text/plain": [
       "    Temparature  Humidity  Moisture Soil Type  Crop Type  Nitrogen  Potassium  \\\n",
       "id                                                                              \n",
       "0            37        70        36    Clayey  Sugarcane        36          4   \n",
       "1            27        69        65     Sandy    Millets        30          6   \n",
       "2            29        63        32     Sandy    Millets        24         12   \n",
       "3            35        62        54     Sandy     Barley        39         12   \n",
       "4            35        58        43       Red      Paddy        37          2   \n",
       "\n",
       "    Phosphorous Fertilizer Name  \n",
       "id                               \n",
       "0             5           28-28  \n",
       "1            18           28-28  \n",
       "2            16        17-17-17  \n",
       "3             4        10-26-26  \n",
       "4            16             DAP  "
      ]
     },
     "execution_count": 3,
     "metadata": {},
     "output_type": "execute_result"
    }
   ],
   "source": [
    "train.head()"
   ]
  },
  {
   "cell_type": "code",
   "execution_count": 4,
   "id": "d9f075d1",
   "metadata": {
    "execution": {
     "iopub.execute_input": "2025-06-03T12:14:30.159720Z",
     "iopub.status.busy": "2025-06-03T12:14:30.159532Z",
     "iopub.status.idle": "2025-06-03T12:14:30.167081Z",
     "shell.execute_reply": "2025-06-03T12:14:30.166531Z"
    },
    "papermill": {
     "duration": 0.013655,
     "end_time": "2025-06-03T12:14:30.168030",
     "exception": false,
     "start_time": "2025-06-03T12:14:30.154375",
     "status": "completed"
    },
    "tags": []
   },
   "outputs": [
    {
     "data": {
      "text/html": [
       "<div>\n",
       "<style scoped>\n",
       "    .dataframe tbody tr th:only-of-type {\n",
       "        vertical-align: middle;\n",
       "    }\n",
       "\n",
       "    .dataframe tbody tr th {\n",
       "        vertical-align: top;\n",
       "    }\n",
       "\n",
       "    .dataframe thead th {\n",
       "        text-align: right;\n",
       "    }\n",
       "</style>\n",
       "<table border=\"1\" class=\"dataframe\">\n",
       "  <thead>\n",
       "    <tr style=\"text-align: right;\">\n",
       "      <th></th>\n",
       "      <th>Temparature</th>\n",
       "      <th>Humidity</th>\n",
       "      <th>Moisture</th>\n",
       "      <th>Soil Type</th>\n",
       "      <th>Crop Type</th>\n",
       "      <th>Nitrogen</th>\n",
       "      <th>Potassium</th>\n",
       "      <th>Phosphorous</th>\n",
       "    </tr>\n",
       "    <tr>\n",
       "      <th>id</th>\n",
       "      <th></th>\n",
       "      <th></th>\n",
       "      <th></th>\n",
       "      <th></th>\n",
       "      <th></th>\n",
       "      <th></th>\n",
       "      <th></th>\n",
       "      <th></th>\n",
       "    </tr>\n",
       "  </thead>\n",
       "  <tbody>\n",
       "    <tr>\n",
       "      <th>750000</th>\n",
       "      <td>31</td>\n",
       "      <td>70</td>\n",
       "      <td>52</td>\n",
       "      <td>Sandy</td>\n",
       "      <td>Wheat</td>\n",
       "      <td>34</td>\n",
       "      <td>11</td>\n",
       "      <td>24</td>\n",
       "    </tr>\n",
       "    <tr>\n",
       "      <th>750001</th>\n",
       "      <td>27</td>\n",
       "      <td>62</td>\n",
       "      <td>45</td>\n",
       "      <td>Red</td>\n",
       "      <td>Sugarcane</td>\n",
       "      <td>30</td>\n",
       "      <td>14</td>\n",
       "      <td>15</td>\n",
       "    </tr>\n",
       "    <tr>\n",
       "      <th>750002</th>\n",
       "      <td>28</td>\n",
       "      <td>72</td>\n",
       "      <td>28</td>\n",
       "      <td>Clayey</td>\n",
       "      <td>Ground Nuts</td>\n",
       "      <td>14</td>\n",
       "      <td>15</td>\n",
       "      <td>4</td>\n",
       "    </tr>\n",
       "    <tr>\n",
       "      <th>750003</th>\n",
       "      <td>37</td>\n",
       "      <td>53</td>\n",
       "      <td>57</td>\n",
       "      <td>Black</td>\n",
       "      <td>Ground Nuts</td>\n",
       "      <td>18</td>\n",
       "      <td>17</td>\n",
       "      <td>36</td>\n",
       "    </tr>\n",
       "    <tr>\n",
       "      <th>750004</th>\n",
       "      <td>31</td>\n",
       "      <td>55</td>\n",
       "      <td>32</td>\n",
       "      <td>Red</td>\n",
       "      <td>Pulses</td>\n",
       "      <td>13</td>\n",
       "      <td>19</td>\n",
       "      <td>14</td>\n",
       "    </tr>\n",
       "  </tbody>\n",
       "</table>\n",
       "</div>"
      ],
      "text/plain": [
       "        Temparature  Humidity  Moisture Soil Type    Crop Type  Nitrogen  \\\n",
       "id                                                                         \n",
       "750000           31        70        52     Sandy        Wheat        34   \n",
       "750001           27        62        45       Red    Sugarcane        30   \n",
       "750002           28        72        28    Clayey  Ground Nuts        14   \n",
       "750003           37        53        57     Black  Ground Nuts        18   \n",
       "750004           31        55        32       Red       Pulses        13   \n",
       "\n",
       "        Potassium  Phosphorous  \n",
       "id                              \n",
       "750000         11           24  \n",
       "750001         14           15  \n",
       "750002         15            4  \n",
       "750003         17           36  \n",
       "750004         19           14  "
      ]
     },
     "execution_count": 4,
     "metadata": {},
     "output_type": "execute_result"
    }
   ],
   "source": [
    "test.head()"
   ]
  },
  {
   "cell_type": "markdown",
   "id": "f08e25db",
   "metadata": {
    "papermill": {
     "duration": 0.004548,
     "end_time": "2025-06-03T12:14:30.177707",
     "exception": false,
     "start_time": "2025-06-03T12:14:30.173159",
     "status": "completed"
    },
    "tags": []
   },
   "source": [
    "# Data Exploration\n",
    "\n",
    "First, we start by exploring the target variable."
   ]
  },
  {
   "cell_type": "code",
   "execution_count": 5,
   "id": "908ce9e6",
   "metadata": {
    "execution": {
     "iopub.execute_input": "2025-06-03T12:14:30.187687Z",
     "iopub.status.busy": "2025-06-03T12:14:30.187507Z",
     "iopub.status.idle": "2025-06-03T12:14:30.240087Z",
     "shell.execute_reply": "2025-06-03T12:14:30.239321Z"
    },
    "papermill": {
     "duration": 0.058738,
     "end_time": "2025-06-03T12:14:30.241160",
     "exception": false,
     "start_time": "2025-06-03T12:14:30.182422",
     "status": "completed"
    },
    "tags": []
   },
   "outputs": [
    {
     "name": "stdout",
     "output_type": "stream",
     "text": [
      "CPU times: user 45.8 ms, sys: 233 µs, total: 46.1 ms\n",
      "Wall time: 46.6 ms\n"
     ]
    },
    {
     "data": {
      "text/plain": [
       "Fertilizer Name\n",
       "14-35-14    0.152581\n",
       "10-26-26    0.151849\n",
       "17-17-17    0.149937\n",
       "28-28       0.148211\n",
       "20-20       0.147852\n",
       "DAP         0.126480\n",
       "Urea        0.123089\n",
       "Name: proportion, dtype: float64"
      ]
     },
     "execution_count": 5,
     "metadata": {},
     "output_type": "execute_result"
    }
   ],
   "source": [
    "%%time\n",
    "train['Fertilizer Name'].value_counts(normalize=True)"
   ]
  },
  {
   "cell_type": "markdown",
   "id": "e1013e73",
   "metadata": {
    "papermill": {
     "duration": 0.004621,
     "end_time": "2025-06-03T12:14:30.250748",
     "exception": false,
     "start_time": "2025-06-03T12:14:30.246127",
     "status": "completed"
    },
    "tags": []
   },
   "source": [
    "From the above table, the data seems to be balanced. Next, we run a couple of sanity checks. First, we check for duplicated observations in the `train` and `test` datasets."
   ]
  },
  {
   "cell_type": "code",
   "execution_count": 6,
   "id": "c260236e",
   "metadata": {
    "execution": {
     "iopub.execute_input": "2025-06-03T12:14:30.261175Z",
     "iopub.status.busy": "2025-06-03T12:14:30.260983Z",
     "iopub.status.idle": "2025-06-03T12:14:30.549933Z",
     "shell.execute_reply": "2025-06-03T12:14:30.549115Z"
    },
    "papermill": {
     "duration": 0.29564,
     "end_time": "2025-06-03T12:14:30.551059",
     "exception": false,
     "start_time": "2025-06-03T12:14:30.255419",
     "status": "completed"
    },
    "tags": []
   },
   "outputs": [
    {
     "name": "stdout",
     "output_type": "stream",
     "text": [
      "There are 0 duplicated observations in the train dataset\n",
      "There are 0 duplicated observations in the test dataset\n",
      "CPU times: user 257 ms, sys: 24.6 ms, total: 281 ms\n",
      "Wall time: 285 ms\n"
     ]
    }
   ],
   "source": [
    "%%time\n",
    "print('There are', sum(train.drop(columns=['Fertilizer Name']).duplicated()), 'duplicated observations in the train dataset')\n",
    "print('There are', sum(test.duplicated()), 'duplicated observations in the test dataset')"
   ]
  },
  {
   "cell_type": "markdown",
   "id": "115a6a74",
   "metadata": {
    "papermill": {
     "duration": 0.004728,
     "end_time": "2025-06-03T12:14:30.561111",
     "exception": false,
     "start_time": "2025-06-03T12:14:30.556383",
     "status": "completed"
    },
    "tags": []
   },
   "source": [
    "We next proceed to check to potential duplicated observations that may appear in the `train` and `test` datasets."
   ]
  },
  {
   "cell_type": "code",
   "execution_count": 7,
   "id": "fdd7acd3",
   "metadata": {
    "execution": {
     "iopub.execute_input": "2025-06-03T12:14:30.571470Z",
     "iopub.status.busy": "2025-06-03T12:14:30.571225Z",
     "iopub.status.idle": "2025-06-03T12:14:31.223128Z",
     "shell.execute_reply": "2025-06-03T12:14:31.222258Z"
    },
    "papermill": {
     "duration": 0.658527,
     "end_time": "2025-06-03T12:14:31.224365",
     "exception": false,
     "start_time": "2025-06-03T12:14:30.565838",
     "status": "completed"
    },
    "tags": []
   },
   "outputs": [
    {
     "name": "stdout",
     "output_type": "stream",
     "text": [
      "There are 0 rows that appear in the train and test dataset.\n",
      "\n",
      "CPU times: user 546 ms, sys: 96 ms, total: 642 ms\n",
      "Wall time: 648 ms\n"
     ]
    }
   ],
   "source": [
    "%%time\n",
    "to_consider = train.drop(columns=[\"Fertilizer Name\"], axis=1).columns.tolist()\n",
    "\n",
    "train_dup = train.drop(columns=[\"Fertilizer Name\"], axis=1).drop_duplicates()\n",
    "test_dup = test.drop_duplicates()\n",
    "duplicates = pd.merge(train_dup, test_dup, on=to_consider)\n",
    "\n",
    "print('There are', duplicates.shape[0], 'rows that appear in the train and test dataset.\\n')"
   ]
  },
  {
   "cell_type": "markdown",
   "id": "ea364dcc",
   "metadata": {
    "papermill": {
     "duration": 0.004795,
     "end_time": "2025-06-03T12:14:31.234302",
     "exception": false,
     "start_time": "2025-06-03T12:14:31.229507",
     "status": "completed"
    },
    "tags": []
   },
   "source": [
    "Next, we check for missing values in the `train` and `test` datasets."
   ]
  },
  {
   "cell_type": "code",
   "execution_count": 8,
   "id": "5106d265",
   "metadata": {
    "execution": {
     "iopub.execute_input": "2025-06-03T12:14:31.244806Z",
     "iopub.status.busy": "2025-06-03T12:14:31.244569Z",
     "iopub.status.idle": "2025-06-03T12:14:31.370583Z",
     "shell.execute_reply": "2025-06-03T12:14:31.369689Z"
    },
    "papermill": {
     "duration": 0.132738,
     "end_time": "2025-06-03T12:14:31.371785",
     "exception": false,
     "start_time": "2025-06-03T12:14:31.239047",
     "status": "completed"
    },
    "tags": []
   },
   "outputs": [
    {
     "name": "stdout",
     "output_type": "stream",
     "text": [
      "Missing values in the train dataset \n",
      "\n",
      "Temparature        0\n",
      "Humidity           0\n",
      "Moisture           0\n",
      "Soil Type          0\n",
      "Crop Type          0\n",
      "Nitrogen           0\n",
      "Potassium          0\n",
      "Phosphorous        0\n",
      "Fertilizer Name    0\n",
      "dtype: int64\n",
      "\n",
      "Missing values in the test dataset \n",
      "\n",
      "Temparature    0\n",
      "Humidity       0\n",
      "Moisture       0\n",
      "Soil Type      0\n",
      "Crop Type      0\n",
      "Nitrogen       0\n",
      "Potassium      0\n",
      "Phosphorous    0\n",
      "dtype: int64\n",
      "CPU times: user 123 ms, sys: 0 ns, total: 123 ms\n",
      "Wall time: 122 ms\n"
     ]
    }
   ],
   "source": [
    "%%time\n",
    "print(\"Missing values in the train dataset \\n\")\n",
    "print(f\"{train.isna().sum()}\\n\")\n",
    "\n",
    "print(\"Missing values in the test dataset \\n\")\n",
    "print(test.isna().sum())"
   ]
  },
  {
   "cell_type": "markdown",
   "id": "982896c3",
   "metadata": {
    "papermill": {
     "duration": 0.00483,
     "end_time": "2025-06-03T12:14:31.381697",
     "exception": false,
     "start_time": "2025-06-03T12:14:31.376867",
     "status": "completed"
    },
    "tags": []
   },
   "source": [
    "From the above, we see there are no missing values neither in the `train` or `test` datasets. Next. we create a few charts to explore potential patterns in the data."
   ]
  },
  {
   "cell_type": "code",
   "execution_count": 9,
   "id": "f4930777",
   "metadata": {
    "_kg_hide-input": true,
    "execution": {
     "iopub.execute_input": "2025-06-03T12:14:31.392460Z",
     "iopub.status.busy": "2025-06-03T12:14:31.392032Z",
     "iopub.status.idle": "2025-06-03T12:14:32.367713Z",
     "shell.execute_reply": "2025-06-03T12:14:32.366972Z"
    },
    "papermill": {
     "duration": 0.982306,
     "end_time": "2025-06-03T12:14:32.368866",
     "exception": false,
     "start_time": "2025-06-03T12:14:31.386560",
     "status": "completed"
    },
    "tags": []
   },
   "outputs": [
    {
     "data": {
      "image/png": "[encoded data removed]",
      "text/plain": [
       "<Figure size 1800x700 with 2 Axes>"
      ]
     },
     "metadata": {},
     "output_type": "display_data"
    }
   ],
   "source": [
    "fig, ax = plt.subplots(1, 2, figsize=(18, 7))\n",
    "\n",
    "sns.boxplot(data=train, x=\"Fertilizer Name\", y=\"Temparature\", ax=ax[0], color=\"steelblue\")\n",
    "sns.boxplot(data=train, x=\"Fertilizer Name\", y=\"Humidity\", ax=ax[1], color=\"orange\");"
   ]
  },
  {
   "cell_type": "markdown",
   "id": "0fa1c3d4",
   "metadata": {
    "papermill": {
     "duration": 0.00529,
     "end_time": "2025-06-03T12:14:32.379965",
     "exception": false,
     "start_time": "2025-06-03T12:14:32.374675",
     "status": "completed"
    },
    "tags": []
   },
   "source": [
    "From the above charts, there is no an obvious relationship between `Temperature` or `Humidity` and `Fertilizer Name`."
   ]
  },
  {
   "cell_type": "code",
   "execution_count": 10,
   "id": "cdbaf83a",
   "metadata": {
    "execution": {
     "iopub.execute_input": "2025-06-03T12:14:32.391798Z",
     "iopub.status.busy": "2025-06-03T12:14:32.391321Z",
     "iopub.status.idle": "2025-06-03T12:14:33.279595Z",
     "shell.execute_reply": "2025-06-03T12:14:33.278953Z"
    },
    "papermill": {
     "duration": 0.895571,
     "end_time": "2025-06-03T12:14:33.280883",
     "exception": false,
     "start_time": "2025-06-03T12:14:32.385312",
     "status": "completed"
    },
    "tags": []
   },
   "outputs": [
    {
     "data": {
      "image/png": "[encoded data removed]",
      "text/plain": [
       "<Figure size 1800x700 with 2 Axes>"
      ]
     },
     "metadata": {},
     "output_type": "display_data"
    }
   ],
   "source": [
    "fig, ax = plt.subplots(1, 2, figsize=(18, 7))\n",
    "\n",
    "sns.boxplot(data=train, x=\"Fertilizer Name\", y=\"Moisture\", ax=ax[0], color=\"steelblue\")\n",
    "sns.boxplot(data=train, x=\"Fertilizer Name\", y=\"Nitrogen\", ax=ax[1], color=\"orange\");"
   ]
  },
  {
   "cell_type": "markdown",
   "id": "aee7c14f",
   "metadata": {
    "papermill": {
     "duration": 0.00593,
     "end_time": "2025-06-03T12:14:33.293074",
     "exception": false,
     "start_time": "2025-06-03T12:14:33.287144",
     "status": "completed"
    },
    "tags": []
   },
   "source": [
    "From the above charts, there is no an obvious relationship between `Moisture` or `Nitrogen` and `Fertilizer Name`."
   ]
  },
  {
   "cell_type": "code",
   "execution_count": 11,
   "id": "930d6034",
   "metadata": {
    "execution": {
     "iopub.execute_input": "2025-06-03T12:14:33.306192Z",
     "iopub.status.busy": "2025-06-03T12:14:33.305594Z",
     "iopub.status.idle": "2025-06-03T12:14:34.189820Z",
     "shell.execute_reply": "2025-06-03T12:14:34.189116Z"
    },
    "papermill": {
     "duration": 0.892206,
     "end_time": "2025-06-03T12:14:34.191132",
     "exception": false,
     "start_time": "2025-06-03T12:14:33.298926",
     "status": "completed"
    },
    "tags": []
   },
   "outputs": [
    {
     "data": {
      "image/png": "[encoded data removed]",
      "text/plain": [
       "<Figure size 1800x700 with 2 Axes>"
      ]
     },
     "metadata": {},
     "output_type": "display_data"
    }
   ],
   "source": [
    "fig, ax = plt.subplots(1, 2, figsize=(18, 7))\n",
    "\n",
    "sns.boxplot(data=train, x=\"Fertilizer Name\", y=\"Potassium\", ax=ax[0], color=\"steelblue\")\n",
    "sns.boxplot(data=train, x=\"Fertilizer Name\", y=\"Phosphorous\", ax=ax[1], color=\"orange\");"
   ]
  },
  {
   "cell_type": "markdown",
   "id": "3afb36e0",
   "metadata": {
    "papermill": {
     "duration": 0.006776,
     "end_time": "2025-06-03T12:14:34.205238",
     "exception": false,
     "start_time": "2025-06-03T12:14:34.198462",
     "status": "completed"
    },
    "tags": []
   },
   "source": [
    "From the above charts, there is no an obvious relationship between `Potassium` or `Phosphorous` and `Fertilizer Name`."
   ]
  },
  {
   "cell_type": "markdown",
   "id": "cac3d67c",
   "metadata": {
    "papermill": {
     "duration": 0.006226,
     "end_time": "2025-06-03T12:14:34.217842",
     "exception": false,
     "start_time": "2025-06-03T12:14:34.211616",
     "status": "completed"
    },
    "tags": []
   },
   "source": [
    "# Baseline Modeling 1.0\n",
    "\n",
    "In this section, we train a couple of standard models using the raw data. First, we define the input and target features as follows."
   ]
  },
  {
   "cell_type": "code",
   "execution_count": 12,
   "id": "b26593f4",
   "metadata": {
    "_kg_hide-input": true,
    "execution": {
     "iopub.execute_input": "2025-06-03T12:14:34.231565Z",
     "iopub.status.busy": "2025-06-03T12:14:34.231326Z",
     "iopub.status.idle": "2025-06-03T12:14:34.237331Z",
     "shell.execute_reply": "2025-06-03T12:14:34.236501Z"
    },
    "papermill": {
     "duration": 0.014404,
     "end_time": "2025-06-03T12:14:34.238506",
     "exception": false,
     "start_time": "2025-06-03T12:14:34.224102",
     "status": "completed"
    },
    "tags": []
   },
   "outputs": [
    {
     "name": "stdout",
     "output_type": "stream",
     "text": [
      "CPU times: user 5 µs, sys: 0 ns, total: 5 µs\n",
      "Wall time: 7.63 µs\n"
     ]
    }
   ],
   "source": [
    "%%time\n",
    "def apk(actual, predicted, k = 10):\n",
    "    \"\"\"\n",
    "    Computes the average precision at k.\n",
    "    This function computes the average prescision at k between two lists of\n",
    "    items.\n",
    "    Parameters\n",
    "    ----------\n",
    "    actual : list\n",
    "             A list of elements that are to be predicted (order doesn't matter)\n",
    "    predicted : list\n",
    "                A list of predicted elements (order does matter)\n",
    "    k : int, optional\n",
    "        The maximum number of predicted elements\n",
    "    Returns\n",
    "    -------\n",
    "    score : double\n",
    "            The average precision at k over the input lists\n",
    "    \"\"\"\n",
    "    if not actual:\n",
    "        return 0.0\n",
    "\n",
    "    if len(predicted)>k:\n",
    "        predicted = predicted[:k]\n",
    "\n",
    "    score = 0.0\n",
    "    num_hits = 0.0\n",
    "\n",
    "    for i,p in enumerate(predicted):\n",
    "        # first condition checks whether it is valid prediction\n",
    "        # second condition checks if prediction is not repeated\n",
    "        if p in actual and p not in predicted[:i]:\n",
    "            num_hits += 1.0\n",
    "            score += num_hits / (i+1.0)\n",
    "\n",
    "    return score / min(len(actual), k)\n",
    "\n",
    "def mapk(actual, predicted, k = 10):\n",
    "    \"\"\"\n",
    "    Computes the mean average precision at k.\n",
    "    This function computes the mean average prescision at k between two lists\n",
    "    of lists of items.\n",
    "    Parameters\n",
    "    ----------\n",
    "    actual : list\n",
    "             A list of lists of elements that are to be predicted \n",
    "             (order doesn't matter in the lists)\n",
    "    predicted : list\n",
    "                A list of lists of predicted elements\n",
    "                (order matters in the lists)\n",
    "    k : int, optional\n",
    "        The maximum number of predicted elements\n",
    "    Returns\n",
    "    -------\n",
    "    score : double\n",
    "            The mean average precision at k over the input lists\n",
    "    \"\"\"\n",
    "    return np.mean([apk(a,p,k) for a,p in zip(actual, predicted)])\n",
    "\n",
    "\n",
    "def selecting_top_3(arr): \n",
    "    n = arr.shape[0]\n",
    "    out = np.zeros((n, 3))\n",
    "    for i in range(0, n):\n",
    "        out[i, ] = arr[i,].argsort()[::-1][:3]\n",
    "    return out.astype('int32')"
   ]
  },
  {
   "cell_type": "code",
   "execution_count": 13,
   "id": "72a48c20",
   "metadata": {
    "execution": {
     "iopub.execute_input": "2025-06-03T12:14:34.252737Z",
     "iopub.status.busy": "2025-06-03T12:14:34.252045Z",
     "iopub.status.idle": "2025-06-03T12:14:34.663343Z",
     "shell.execute_reply": "2025-06-03T12:14:34.662398Z"
    },
    "papermill": {
     "duration": 0.420011,
     "end_time": "2025-06-03T12:14:34.664757",
     "exception": false,
     "start_time": "2025-06-03T12:14:34.244746",
     "status": "completed"
    },
    "tags": []
   },
   "outputs": [
    {
     "name": "stdout",
     "output_type": "stream",
     "text": [
      "CPU times: user 393 ms, sys: 13.4 ms, total: 406 ms\n",
      "Wall time: 406 ms\n"
     ]
    }
   ],
   "source": [
    "%%time\n",
    "X = train.drop(columns=[\"Fertilizer Name\"], axis=1)\n",
    "X[\"Soil Type\"] = X[\"Soil Type\"].astype(\"category\")\n",
    "X[\"Crop Type\"] = X[\"Crop Type\"].astype(\"category\")\n",
    "y = train[\"Fertilizer Name\"]\n",
    "\n",
    "le = LabelEncoder()\n",
    "y_encoded = le.fit_transform(y)\n",
    "\n",
    "test[\"Soil Type\"] = test[\"Soil Type\"].astype(\"category\")\n",
    "test[\"Crop Type\"] = test[\"Crop Type\"].astype(\"category\")\n",
    "\n",
    "del y\n",
    "gc.collect()\n",
    "\n",
    "skf = StratifiedKFold(n_splits=10, shuffle=True, random_state=42)"
   ]
  },
  {
   "cell_type": "markdown",
   "id": "534c6468",
   "metadata": {
    "papermill": {
     "duration": 0.007468,
     "end_time": "2025-06-03T12:14:34.679499",
     "exception": false,
     "start_time": "2025-06-03T12:14:34.672031",
     "status": "completed"
    },
    "tags": []
   },
   "source": [
    "Then, we train the `CatBoostClassifier` model over a 10-fold cross-validation strategy."
   ]
  },
  {
   "cell_type": "code",
   "execution_count": 14,
   "id": "a093bc6d",
   "metadata": {
    "execution": {
     "iopub.execute_input": "2025-06-03T12:14:34.695215Z",
     "iopub.status.busy": "2025-06-03T12:14:34.694962Z",
     "iopub.status.idle": "2025-06-03T12:20:49.277366Z",
     "shell.execute_reply": "2025-06-03T12:20:49.276507Z"
    },
    "papermill": {
     "duration": 374.592005,
     "end_time": "2025-06-03T12:20:49.278793",
     "exception": false,
     "start_time": "2025-06-03T12:14:34.686788",
     "status": "completed"
    },
    "tags": []
   },
   "outputs": [
    {
     "name": "stdout",
     "output_type": "stream",
     "text": [
      "Fold 1 MAP is 0.2728\n",
      "Fold 2 MAP is 0.2749\n",
      "Fold 3 MAP is 0.2758\n",
      "Fold 4 MAP is 0.2766\n",
      "Fold 5 MAP is 0.2744\n",
      "Fold 6 MAP is 0.2755\n",
      "Fold 7 MAP is 0.2738\n",
      "Fold 8 MAP is 0.2744\n",
      "Fold 9 MAP is 0.2743\n",
      "Fold 10 MAP is 0.2737\n",
      "The oof map3 score of the CatBoost model is 0.2746\n",
      "CPU times: user 9min 21s, sys: 3min 3s, total: 12min 24s\n",
      "Wall time: 6min 14s\n"
     ]
    }
   ],
   "source": [
    "%%time\n",
    "cat_params = {'loss_function': 'MultiClass',\n",
    " 'iterations': 2000,\n",
    " 'depth': 5,\n",
    " 'bagging_temperature': 0.2,             \n",
    " 'task_type': 'GPU'}\n",
    "\n",
    "cat_features = [\"Soil Type\", \"Crop Type\"]\n",
    "test_pool = Pool(data=test, cat_features=cat_features)\n",
    "\n",
    "scores, test_preds = [], []\n",
    "for i, (train_ix, test_ix) in enumerate(skf.split(X, y_encoded)):\n",
    "        \n",
    "    X_train, X_val = X.iloc[train_ix], X.iloc[test_ix]\n",
    "    y_train, y_val = y_encoded[train_ix], y_encoded[test_ix]\n",
    "                \n",
    "    model_pool = Pool(data=X_train, label=y_train, cat_features=cat_features)\n",
    "    eval_pool = Pool(data=X_val, label=y_val, cat_features=cat_features)\n",
    "\n",
    "    cat_md = CatBoostClassifier(**cat_params).fit(model_pool, eval_set=eval_pool, verbose=0, early_stopping_rounds=100)\n",
    "    cat_pred = selecting_top_3(cat_md.predict_proba(X_val))\n",
    "    \n",
    "    score = mapk(y_val.reshape(-1, 1), cat_pred, k=3)\n",
    "    print(f\"Fold {i+1} MAP is {score:.4f}\")\n",
    "    scores.append(score)\n",
    "\n",
    "    del model_pool, eval_pool\n",
    "    gc.collect()\n",
    "\n",
    "    test_preds.append(cat_md.predict_proba(test))\n",
    "    \n",
    "cat_cv_mean = np.mean(scores)\n",
    "cat_cv_sd = np.std(scores)\n",
    "print(f\"The oof map3 score of the CatBoost model is {cat_cv_mean:.4f}\")"
   ]
  },
  {
   "cell_type": "code",
   "execution_count": 15,
   "id": "454f3c29",
   "metadata": {
    "_kg_hide-input": true,
    "execution": {
     "iopub.execute_input": "2025-06-03T12:20:49.294260Z",
     "iopub.status.busy": "2025-06-03T12:20:49.294035Z",
     "iopub.status.idle": "2025-06-03T12:20:50.206058Z",
     "shell.execute_reply": "2025-06-03T12:20:50.205393Z"
    },
    "papermill": {
     "duration": 0.920942,
     "end_time": "2025-06-03T12:20:50.207165",
     "exception": false,
     "start_time": "2025-06-03T12:20:49.286223",
     "status": "completed"
    },
    "tags": []
   },
   "outputs": [
    {
     "name": "stdout",
     "output_type": "stream",
     "text": [
      "CPU times: user 825 ms, sys: 24.3 ms, total: 849 ms\n",
      "Wall time: 904 ms\n"
     ]
    },
    {
     "data": {
      "text/html": [
       "<div>\n",
       "<style scoped>\n",
       "    .dataframe tbody tr th:only-of-type {\n",
       "        vertical-align: middle;\n",
       "    }\n",
       "\n",
       "    .dataframe tbody tr th {\n",
       "        vertical-align: top;\n",
       "    }\n",
       "\n",
       "    .dataframe thead th {\n",
       "        text-align: right;\n",
       "    }\n",
       "</style>\n",
       "<table border=\"1\" class=\"dataframe\">\n",
       "  <thead>\n",
       "    <tr style=\"text-align: right;\">\n",
       "      <th></th>\n",
       "      <th>Fertilizer Name</th>\n",
       "    </tr>\n",
       "    <tr>\n",
       "      <th>id</th>\n",
       "      <th></th>\n",
       "    </tr>\n",
       "  </thead>\n",
       "  <tbody>\n",
       "    <tr>\n",
       "      <th>750000</th>\n",
       "      <td>10-26-26 DAP 28-28</td>\n",
       "    </tr>\n",
       "    <tr>\n",
       "      <th>750001</th>\n",
       "      <td>17-17-17 20-20 10-26-26</td>\n",
       "    </tr>\n",
       "    <tr>\n",
       "      <th>750002</th>\n",
       "      <td>20-20 28-28 10-26-26</td>\n",
       "    </tr>\n",
       "    <tr>\n",
       "      <th>750003</th>\n",
       "      <td>14-35-14 DAP 17-17-17</td>\n",
       "    </tr>\n",
       "    <tr>\n",
       "      <th>750004</th>\n",
       "      <td>20-20 10-26-26 28-28</td>\n",
       "    </tr>\n",
       "    <tr>\n",
       "      <th>750005</th>\n",
       "      <td>28-28 14-35-14 20-20</td>\n",
       "    </tr>\n",
       "    <tr>\n",
       "      <th>750006</th>\n",
       "      <td>28-28 17-17-17 10-26-26</td>\n",
       "    </tr>\n",
       "    <tr>\n",
       "      <th>750007</th>\n",
       "      <td>28-28 DAP 17-17-17</td>\n",
       "    </tr>\n",
       "    <tr>\n",
       "      <th>750008</th>\n",
       "      <td>14-35-14 20-20 10-26-26</td>\n",
       "    </tr>\n",
       "    <tr>\n",
       "      <th>750009</th>\n",
       "      <td>20-20 17-17-17 10-26-26</td>\n",
       "    </tr>\n",
       "  </tbody>\n",
       "</table>\n",
       "</div>"
      ],
      "text/plain": [
       "                Fertilizer Name\n",
       "id                             \n",
       "750000       10-26-26 DAP 28-28\n",
       "750001  17-17-17 20-20 10-26-26\n",
       "750002     20-20 28-28 10-26-26\n",
       "750003    14-35-14 DAP 17-17-17\n",
       "750004     20-20 10-26-26 28-28\n",
       "750005     28-28 14-35-14 20-20\n",
       "750006  28-28 17-17-17 10-26-26\n",
       "750007       28-28 DAP 17-17-17\n",
       "750008  14-35-14 20-20 10-26-26\n",
       "750009  20-20 17-17-17 10-26-26"
      ]
     },
     "execution_count": 15,
     "metadata": {},
     "output_type": "execute_result"
    }
   ],
   "source": [
    "%%time\n",
    "pred_agg = 0\n",
    "for i in range(0, len(test_preds)):\n",
    "    pred_agg += test_preds[i] / len(test_preds)\n",
    "    \n",
    "test_pred = selecting_top_3(pred_agg)\n",
    "test_pred = test_pred.astype('int32')\n",
    "\n",
    "test_shape = test_pred.shape\n",
    "top_3_predictions = le.inverse_transform(test_pred.reshape(-1, 1))\n",
    "top_3_predictions = top_3_predictions.reshape(test_shape)\n",
    "\n",
    "submission = pd.read_csv('../input/playground-series-s5e6/sample_submission.csv', index_col=0)\n",
    "submission['Fertilizer Name'] = [' '.join(each) for each in top_3_predictions]\n",
    "submission.head(10)"
   ]
  },
  {
   "cell_type": "code",
   "execution_count": 16,
   "id": "38b5bcde",
   "metadata": {
    "execution": {
     "iopub.execute_input": "2025-06-03T12:20:50.222698Z",
     "iopub.status.busy": "2025-06-03T12:20:50.222479Z",
     "iopub.status.idle": "2025-06-03T12:20:50.646555Z",
     "shell.execute_reply": "2025-06-03T12:20:50.645789Z"
    },
    "papermill": {
     "duration": 0.432932,
     "end_time": "2025-06-03T12:20:50.647783",
     "exception": false,
     "start_time": "2025-06-03T12:20:50.214851",
     "status": "completed"
    },
    "tags": []
   },
   "outputs": [
    {
     "name": "stdout",
     "output_type": "stream",
     "text": [
      "CPU times: user 411 ms, sys: 7.89 ms, total: 419 ms\n",
      "Wall time: 419 ms\n"
     ]
    },
    {
     "data": {
      "text/plain": [
       "0"
      ]
     },
     "execution_count": 16,
     "metadata": {},
     "output_type": "execute_result"
    }
   ],
   "source": [
    "%%time\n",
    "submission.to_csv('baseline_cat_sub_1.csv')\n",
    "\n",
    "del submission, test_preds\n",
    "gc.collect()"
   ]
  },
  {
   "cell_type": "markdown",
   "id": "38181f74",
   "metadata": {
    "papermill": {
     "duration": 0.007316,
     "end_time": "2025-06-03T12:20:50.662724",
     "exception": false,
     "start_time": "2025-06-03T12:20:50.655408",
     "status": "completed"
    },
    "tags": []
   },
   "source": [
    "Then, we train the `XGBClassifier` model over a 10-fold cross-validation strategy."
   ]
  },
  {
   "cell_type": "code",
   "execution_count": 17,
   "id": "b63a80eb",
   "metadata": {
    "execution": {
     "iopub.execute_input": "2025-06-03T12:20:50.678096Z",
     "iopub.status.busy": "2025-06-03T12:20:50.677871Z",
     "iopub.status.idle": "2025-06-03T12:39:04.490114Z",
     "shell.execute_reply": "2025-06-03T12:39:04.489309Z"
    },
    "papermill": {
     "duration": 1093.8213,
     "end_time": "2025-06-03T12:39:04.491315",
     "exception": false,
     "start_time": "2025-06-03T12:20:50.670015",
     "status": "completed"
    },
    "tags": []
   },
   "outputs": [
    {
     "name": "stdout",
     "output_type": "stream",
     "text": [
      "Fold 1 MAP is 0.2797\n",
      "Fold 2 MAP is 0.2817\n",
      "Fold 3 MAP is 0.2808\n",
      "Fold 4 MAP is 0.2830\n",
      "Fold 5 MAP is 0.2831\n",
      "Fold 6 MAP is 0.2828\n",
      "Fold 7 MAP is 0.2815\n",
      "Fold 8 MAP is 0.2812\n",
      "Fold 9 MAP is 0.2827\n",
      "Fold 10 MAP is 0.2827\n",
      "The oof map3 score of the XGBoost model is 0.2819\n",
      "CPU times: user 17min 56s, sys: 32 s, total: 18min 28s\n",
      "Wall time: 18min 13s\n"
     ]
    }
   ],
   "source": [
    "%%time\n",
    "xgb_params = {'device': 'cuda',\n",
    " 'max_depth': 5,\n",
    " 'learning_rate': 0.05,\n",
    " 'min_child_weight': 50,\n",
    " 'n_jobs': -1,\n",
    " 'enable_categorical': True,\n",
    " 'early_stopping_rounds': 200}\n",
    "\n",
    "cat_features = [\"Soil Type\", \"Crop Type\"]\n",
    "\n",
    "scores, test_preds = [], []\n",
    "for i, (train_ix, test_ix) in enumerate(skf.split(X, y_encoded)):\n",
    "\n",
    "    X_train, X_val = X.iloc[train_ix], X.iloc[test_ix]\n",
    "    y_train, y_val = y_encoded[train_ix], y_encoded[test_ix]\n",
    "    \n",
    "    xgb_md = XGBClassifier(**xgb_params, \n",
    "                           n_estimators=2000, \n",
    "                           random_state=42).fit(X_train, y_train,\n",
    "                           eval_set=[(X_val, y_val)],\n",
    "                           # early_stopping_rounds=200,\n",
    "                           verbose=False)\n",
    "    xgb_pred = selecting_top_3(xgb_md.predict_proba(X_val))\n",
    "\n",
    "    score = mapk(y_val.reshape(-1, 1), xgb_pred, k=3)\n",
    "    print(f\"Fold {i+1} MAP is {score:.4f}\")\n",
    "    scores.append(score)\n",
    "\n",
    "    del X_train, X_val, y_train, y_val\n",
    "    gc.collect()\n",
    "\n",
    "    test_preds.append(xgb_md.predict_proba(test))\n",
    "\n",
    "xgb_cv_mean = np.mean(scores)\n",
    "xgb_cv_sd = np.std(scores)\n",
    "print(f\"The oof map3 score of the XGBoost model is {xgb_cv_mean:.4f}\")"
   ]
  },
  {
   "cell_type": "code",
   "execution_count": 18,
   "id": "c8aa044c",
   "metadata": {
    "_kg_hide-input": true,
    "execution": {
     "iopub.execute_input": "2025-06-03T12:39:04.507902Z",
     "iopub.status.busy": "2025-06-03T12:39:04.507679Z",
     "iopub.status.idle": "2025-06-03T12:39:05.346254Z",
     "shell.execute_reply": "2025-06-03T12:39:05.345516Z"
    },
    "papermill": {
     "duration": 0.848223,
     "end_time": "2025-06-03T12:39:05.347468",
     "exception": false,
     "start_time": "2025-06-03T12:39:04.499245",
     "status": "completed"
    },
    "tags": []
   },
   "outputs": [
    {
     "name": "stdout",
     "output_type": "stream",
     "text": [
      "CPU times: user 836 ms, sys: 12.6 ms, total: 849 ms\n",
      "Wall time: 831 ms\n"
     ]
    },
    {
     "data": {
      "text/html": [
       "<div>\n",
       "<style scoped>\n",
       "    .dataframe tbody tr th:only-of-type {\n",
       "        vertical-align: middle;\n",
       "    }\n",
       "\n",
       "    .dataframe tbody tr th {\n",
       "        vertical-align: top;\n",
       "    }\n",
       "\n",
       "    .dataframe thead th {\n",
       "        text-align: right;\n",
       "    }\n",
       "</style>\n",
       "<table border=\"1\" class=\"dataframe\">\n",
       "  <thead>\n",
       "    <tr style=\"text-align: right;\">\n",
       "      <th></th>\n",
       "      <th>Fertilizer Name</th>\n",
       "    </tr>\n",
       "    <tr>\n",
       "      <th>id</th>\n",
       "      <th></th>\n",
       "    </tr>\n",
       "  </thead>\n",
       "  <tbody>\n",
       "    <tr>\n",
       "      <th>750000</th>\n",
       "      <td>28-28 10-26-26 DAP</td>\n",
       "    </tr>\n",
       "    <tr>\n",
       "      <th>750001</th>\n",
       "      <td>17-17-17 20-20 10-26-26</td>\n",
       "    </tr>\n",
       "    <tr>\n",
       "      <th>750002</th>\n",
       "      <td>20-20 28-28 10-26-26</td>\n",
       "    </tr>\n",
       "    <tr>\n",
       "      <th>750003</th>\n",
       "      <td>14-35-14 Urea DAP</td>\n",
       "    </tr>\n",
       "    <tr>\n",
       "      <th>750004</th>\n",
       "      <td>20-20 10-26-26 28-28</td>\n",
       "    </tr>\n",
       "    <tr>\n",
       "      <th>750005</th>\n",
       "      <td>28-28 20-20 14-35-14</td>\n",
       "    </tr>\n",
       "    <tr>\n",
       "      <th>750006</th>\n",
       "      <td>28-28 14-35-14 17-17-17</td>\n",
       "    </tr>\n",
       "    <tr>\n",
       "      <th>750007</th>\n",
       "      <td>DAP 28-28 17-17-17</td>\n",
       "    </tr>\n",
       "    <tr>\n",
       "      <th>750008</th>\n",
       "      <td>20-20 14-35-14 10-26-26</td>\n",
       "    </tr>\n",
       "    <tr>\n",
       "      <th>750009</th>\n",
       "      <td>17-17-17 20-20 10-26-26</td>\n",
       "    </tr>\n",
       "  </tbody>\n",
       "</table>\n",
       "</div>"
      ],
      "text/plain": [
       "                Fertilizer Name\n",
       "id                             \n",
       "750000       28-28 10-26-26 DAP\n",
       "750001  17-17-17 20-20 10-26-26\n",
       "750002     20-20 28-28 10-26-26\n",
       "750003        14-35-14 Urea DAP\n",
       "750004     20-20 10-26-26 28-28\n",
       "750005     28-28 20-20 14-35-14\n",
       "750006  28-28 14-35-14 17-17-17\n",
       "750007       DAP 28-28 17-17-17\n",
       "750008  20-20 14-35-14 10-26-26\n",
       "750009  17-17-17 20-20 10-26-26"
      ]
     },
     "execution_count": 18,
     "metadata": {},
     "output_type": "execute_result"
    }
   ],
   "source": [
    "%%time\n",
    "pred_agg = 0\n",
    "for i in range(0, len(test_preds)):\n",
    "    pred_agg += test_preds[i] / len(test_preds)\n",
    "    \n",
    "test_pred = selecting_top_3(pred_agg)\n",
    "test_pred = test_pred.astype('int32')\n",
    "\n",
    "test_shape = test_pred.shape\n",
    "top_3_predictions = le.inverse_transform(test_pred.reshape(-1, 1))\n",
    "top_3_predictions = top_3_predictions.reshape(test_shape)\n",
    "\n",
    "submission = pd.read_csv('../input/playground-series-s5e6/sample_submission.csv', index_col=0)\n",
    "submission['Fertilizer Name'] = [' '.join(each) for each in top_3_predictions]\n",
    "submission.head(10)"
   ]
  },
  {
   "cell_type": "code",
   "execution_count": 19,
   "id": "12313504",
   "metadata": {
    "execution": {
     "iopub.execute_input": "2025-06-03T12:39:05.364447Z",
     "iopub.status.busy": "2025-06-03T12:39:05.363978Z",
     "iopub.status.idle": "2025-06-03T12:39:05.782211Z",
     "shell.execute_reply": "2025-06-03T12:39:05.781506Z"
    },
    "papermill": {
     "duration": 0.427597,
     "end_time": "2025-06-03T12:39:05.783387",
     "exception": false,
     "start_time": "2025-06-03T12:39:05.355790",
     "status": "completed"
    },
    "tags": []
   },
   "outputs": [
    {
     "name": "stdout",
     "output_type": "stream",
     "text": [
      "CPU times: user 404 ms, sys: 9.91 ms, total: 414 ms\n",
      "Wall time: 413 ms\n"
     ]
    },
    {
     "data": {
      "text/plain": [
       "0"
      ]
     },
     "execution_count": 19,
     "metadata": {},
     "output_type": "execute_result"
    }
   ],
   "source": [
    "%%time\n",
    "submission.to_csv('baseline_xgb_sub_1.csv')\n",
    "\n",
    "del submission, test_preds\n",
    "gc.collect()"
   ]
  },
  {
   "cell_type": "markdown",
   "id": "13e4b163",
   "metadata": {
    "papermill": {
     "duration": 0.008196,
     "end_time": "2025-06-03T12:39:05.800021",
     "exception": false,
     "start_time": "2025-06-03T12:39:05.791825",
     "status": "completed"
    },
    "tags": []
   },
   "source": [
    "Then, we train the `LGBMClassifier` model over a 10-fold cross-validation strategy."
   ]
  },
  {
   "cell_type": "code",
   "execution_count": 20,
   "id": "0b3083fd",
   "metadata": {
    "execution": {
     "iopub.execute_input": "2025-06-03T12:39:05.816630Z",
     "iopub.status.busy": "2025-06-03T12:39:05.816434Z",
     "iopub.status.idle": "2025-06-03T13:54:54.677911Z",
     "shell.execute_reply": "2025-06-03T13:54:54.677251Z"
    },
    "papermill": {
     "duration": 4548.88206,
     "end_time": "2025-06-03T13:54:54.689894",
     "exception": false,
     "start_time": "2025-06-03T12:39:05.807834",
     "status": "completed"
    },
    "tags": []
   },
   "outputs": [
    {
     "name": "stderr",
     "output_type": "stream",
     "text": [
      "1 warning generated.\n",
      "1 warning generated.\n",
      "1 warning generated.\n",
      "1 warning generated.\n",
      "1 warning generated.\n",
      "1 warning generated.\n",
      "1 warning generated.\n",
      "1 warning generated.\n",
      "1 warning generated.\n",
      "1 warning generated.\n",
      "1 warning generated.\n",
      "1 warning generated.\n",
      "1 warning generated.\n",
      "1 warning generated.\n",
      "1 warning generated.\n",
      "1 warning generated.\n",
      "1 warning generated.\n",
      "1 warning generated.\n",
      "1 warning generated.\n",
      "1 warning generated.\n",
      "1 warning generated.\n",
      "1 warning generated.\n",
      "1 warning generated.\n",
      "1 warning generated.\n",
      "1 warning generated.\n",
      "1 warning generated.\n",
      "1 warning generated.\n",
      "1 warning generated.\n",
      "1 warning generated.\n",
      "1 warning generated.\n",
      "1 warning generated.\n",
      "1 warning generated.\n",
      "1 warning generated.\n"
     ]
    },
    {
     "name": "stdout",
     "output_type": "stream",
     "text": [
      "Fold 1 MAP is 0.2805\n",
      "Fold 2 MAP is 0.2835\n",
      "Fold 3 MAP is 0.2846\n",
      "Fold 4 MAP is 0.2843\n",
      "Fold 5 MAP is 0.2861\n",
      "Fold 6 MAP is 0.2864\n",
      "Fold 7 MAP is 0.2839\n",
      "Fold 8 MAP is 0.2838\n",
      "Fold 9 MAP is 0.2839\n",
      "Fold 10 MAP is 0.2840\n",
      "The oof map3 score of the LGBM model is 0.2841\n",
      "CPU times: user 4h 53min 49s, sys: 1min 50s, total: 4h 55min 39s\n",
      "Wall time: 1h 15min 48s\n"
     ]
    }
   ],
   "source": [
    "%%time\n",
    "lgb_params = {'learning_rate': 0.05,\n",
    " 'n_estimators': 2000,\n",
    " 'max_depth': 5,\n",
    " 'num_leaves': 50,\n",
    " 'verbose': -1,\n",
    " 'n_jobs': -1,\n",
    " 'device': 'gpu'}\n",
    "\n",
    "cat_features = [\"Soil Type\", \"Crop Type\"]\n",
    "\n",
    "scores, test_preds = [], []\n",
    "for i, (train_ix, test_ix) in enumerate(skf.split(X, y_encoded)):\n",
    "\n",
    "    X_train, X_val = X.iloc[train_ix], X.iloc[test_ix]\n",
    "    y_train, y_val = y_encoded[train_ix], y_encoded[test_ix]\n",
    "    \n",
    "    lgb_md = LGBMClassifier(**lgb_params).fit(X_train, y_train, eval_set=[(X_val, y_val)],  \n",
    "                                              callbacks=[early_stopping(stopping_rounds=200, verbose=None)])\n",
    "    lgb_pred = selecting_top_3(lgb_md.predict_proba(X_val))\n",
    "\n",
    "    score = mapk(y_val.reshape(-1, 1), lgb_pred, k=3)\n",
    "    print(f\"Fold {i+1} MAP is {score:.4f}\")\n",
    "    scores.append(score)\n",
    "\n",
    "    del X_train, X_val, y_train, y_val\n",
    "    gc.collect()\n",
    "\n",
    "    test_preds.append(lgb_md.predict_proba(test))\n",
    "\n",
    "lgb_cv_mean = np.mean(scores)\n",
    "lgb_cv_sd = np.std(scores)\n",
    "print(f\"The oof map3 score of the LGBM model is {lgb_cv_mean:.4f}\")"
   ]
  },
  {
   "cell_type": "code",
   "execution_count": 21,
   "id": "d37c4b9b",
   "metadata": {
    "_kg_hide-input": true,
    "execution": {
     "iopub.execute_input": "2025-06-03T13:54:54.709289Z",
     "iopub.status.busy": "2025-06-03T13:54:54.709052Z",
     "iopub.status.idle": "2025-06-03T13:54:55.560147Z",
     "shell.execute_reply": "2025-06-03T13:54:55.559402Z"
    },
    "papermill": {
     "duration": 0.861952,
     "end_time": "2025-06-03T13:54:55.561336",
     "exception": false,
     "start_time": "2025-06-03T13:54:54.699384",
     "status": "completed"
    },
    "tags": []
   },
   "outputs": [
    {
     "name": "stdout",
     "output_type": "stream",
     "text": [
      "CPU times: user 852 ms, sys: 12 ms, total: 864 ms\n",
      "Wall time: 843 ms\n"
     ]
    },
    {
     "data": {
      "text/html": [
       "<div>\n",
       "<style scoped>\n",
       "    .dataframe tbody tr th:only-of-type {\n",
       "        vertical-align: middle;\n",
       "    }\n",
       "\n",
       "    .dataframe tbody tr th {\n",
       "        vertical-align: top;\n",
       "    }\n",
       "\n",
       "    .dataframe thead th {\n",
       "        text-align: right;\n",
       "    }\n",
       "</style>\n",
       "<table border=\"1\" class=\"dataframe\">\n",
       "  <thead>\n",
       "    <tr style=\"text-align: right;\">\n",
       "      <th></th>\n",
       "      <th>Fertilizer Name</th>\n",
       "    </tr>\n",
       "    <tr>\n",
       "      <th>id</th>\n",
       "      <th></th>\n",
       "    </tr>\n",
       "  </thead>\n",
       "  <tbody>\n",
       "    <tr>\n",
       "      <th>750000</th>\n",
       "      <td>10-26-26 28-28 DAP</td>\n",
       "    </tr>\n",
       "    <tr>\n",
       "      <th>750001</th>\n",
       "      <td>17-17-17 20-20 10-26-26</td>\n",
       "    </tr>\n",
       "    <tr>\n",
       "      <th>750002</th>\n",
       "      <td>20-20 28-28 DAP</td>\n",
       "    </tr>\n",
       "    <tr>\n",
       "      <th>750003</th>\n",
       "      <td>14-35-14 DAP Urea</td>\n",
       "    </tr>\n",
       "    <tr>\n",
       "      <th>750004</th>\n",
       "      <td>20-20 10-26-26 28-28</td>\n",
       "    </tr>\n",
       "    <tr>\n",
       "      <th>750005</th>\n",
       "      <td>28-28 20-20 14-35-14</td>\n",
       "    </tr>\n",
       "    <tr>\n",
       "      <th>750006</th>\n",
       "      <td>28-28 14-35-14 20-20</td>\n",
       "    </tr>\n",
       "    <tr>\n",
       "      <th>750007</th>\n",
       "      <td>DAP 28-28 14-35-14</td>\n",
       "    </tr>\n",
       "    <tr>\n",
       "      <th>750008</th>\n",
       "      <td>20-20 14-35-14 10-26-26</td>\n",
       "    </tr>\n",
       "    <tr>\n",
       "      <th>750009</th>\n",
       "      <td>20-20 17-17-17 10-26-26</td>\n",
       "    </tr>\n",
       "  </tbody>\n",
       "</table>\n",
       "</div>"
      ],
      "text/plain": [
       "                Fertilizer Name\n",
       "id                             \n",
       "750000       10-26-26 28-28 DAP\n",
       "750001  17-17-17 20-20 10-26-26\n",
       "750002          20-20 28-28 DAP\n",
       "750003        14-35-14 DAP Urea\n",
       "750004     20-20 10-26-26 28-28\n",
       "750005     28-28 20-20 14-35-14\n",
       "750006     28-28 14-35-14 20-20\n",
       "750007       DAP 28-28 14-35-14\n",
       "750008  20-20 14-35-14 10-26-26\n",
       "750009  20-20 17-17-17 10-26-26"
      ]
     },
     "execution_count": 21,
     "metadata": {},
     "output_type": "execute_result"
    }
   ],
   "source": [
    "%%time\n",
    "pred_agg = 0\n",
    "for i in range(0, len(test_preds)):\n",
    "    pred_agg += test_preds[i] / len(test_preds)\n",
    "    \n",
    "test_pred = selecting_top_3(pred_agg)\n",
    "test_pred = test_pred.astype('int32')\n",
    "\n",
    "test_shape = test_pred.shape\n",
    "top_3_predictions = le.inverse_transform(test_pred.reshape(-1, 1))\n",
    "top_3_predictions = top_3_predictions.reshape(test_shape)\n",
    "\n",
    "submission = pd.read_csv('../input/playground-series-s5e6/sample_submission.csv', index_col=0)\n",
    "submission['Fertilizer Name'] = [' '.join(each) for each in top_3_predictions]\n",
    "submission.head(10)"
   ]
  },
  {
   "cell_type": "code",
   "execution_count": 22,
   "id": "e7ed5ed3",
   "metadata": {
    "execution": {
     "iopub.execute_input": "2025-06-03T13:54:55.580825Z",
     "iopub.status.busy": "2025-06-03T13:54:55.580404Z",
     "iopub.status.idle": "2025-06-03T13:54:56.004414Z",
     "shell.execute_reply": "2025-06-03T13:54:56.003652Z"
    },
    "papermill": {
     "duration": 0.434882,
     "end_time": "2025-06-03T13:54:56.005507",
     "exception": false,
     "start_time": "2025-06-03T13:54:55.570625",
     "status": "completed"
    },
    "tags": []
   },
   "outputs": [
    {
     "name": "stdout",
     "output_type": "stream",
     "text": [
      "CPU times: user 412 ms, sys: 8.01 ms, total: 420 ms\n",
      "Wall time: 419 ms\n"
     ]
    },
    {
     "data": {
      "text/plain": [
       "4"
      ]
     },
     "execution_count": 22,
     "metadata": {},
     "output_type": "execute_result"
    }
   ],
   "source": [
    "%%time\n",
    "submission.to_csv('baseline_lgb_sub_1.csv')\n",
    "\n",
    "del submission, test_preds\n",
    "gc.collect()"
   ]
  },
  {
   "cell_type": "markdown",
   "id": "b4cec9e2",
   "metadata": {
    "papermill": {
     "duration": 0.008732,
     "end_time": "2025-06-03T13:54:56.023566",
     "exception": false,
     "start_time": "2025-06-03T13:54:56.014834",
     "status": "completed"
    },
    "tags": []
   },
   "source": [
    "The below table summarizes the findings so far."
   ]
  },
  {
   "cell_type": "code",
   "execution_count": 23,
   "id": "b07a4c26",
   "metadata": {
    "_kg_hide-input": true,
    "execution": {
     "iopub.execute_input": "2025-06-03T13:54:56.042111Z",
     "iopub.status.busy": "2025-06-03T13:54:56.041910Z",
     "iopub.status.idle": "2025-06-03T13:54:56.050999Z",
     "shell.execute_reply": "2025-06-03T13:54:56.050312Z"
    },
    "papermill": {
     "duration": 0.019621,
     "end_time": "2025-06-03T13:54:56.052015",
     "exception": false,
     "start_time": "2025-06-03T13:54:56.032394",
     "status": "completed"
    },
    "tags": []
   },
   "outputs": [
    {
     "name": "stdout",
     "output_type": "stream",
     "text": [
      "CPU times: user 1.91 ms, sys: 0 ns, total: 1.91 ms\n",
      "Wall time: 1.92 ms\n"
     ]
    },
    {
     "data": {
      "text/html": [
       "<div>\n",
       "<style scoped>\n",
       "    .dataframe tbody tr th:only-of-type {\n",
       "        vertical-align: middle;\n",
       "    }\n",
       "\n",
       "    .dataframe tbody tr th {\n",
       "        vertical-align: top;\n",
       "    }\n",
       "\n",
       "    .dataframe thead th {\n",
       "        text-align: right;\n",
       "    }\n",
       "</style>\n",
       "<table border=\"1\" class=\"dataframe\">\n",
       "  <thead>\n",
       "    <tr style=\"text-align: right;\">\n",
       "      <th></th>\n",
       "      <th>Model</th>\n",
       "      <th>10-fold oof MAP@3</th>\n",
       "    </tr>\n",
       "  </thead>\n",
       "  <tbody>\n",
       "    <tr>\n",
       "      <th>0</th>\n",
       "      <td>CatBoost</td>\n",
       "      <td>0.2746</td>\n",
       "    </tr>\n",
       "    <tr>\n",
       "      <th>1</th>\n",
       "      <td>XGBoost</td>\n",
       "      <td>0.2819</td>\n",
       "    </tr>\n",
       "    <tr>\n",
       "      <th>2</th>\n",
       "      <td>LGBM</td>\n",
       "      <td>0.2841</td>\n",
       "    </tr>\n",
       "  </tbody>\n",
       "</table>\n",
       "</div>"
      ],
      "text/plain": [
       "      Model  10-fold oof MAP@3\n",
       "0  CatBoost             0.2746\n",
       "1   XGBoost             0.2819\n",
       "2      LGBM             0.2841"
      ]
     },
     "execution_count": 23,
     "metadata": {},
     "output_type": "execute_result"
    }
   ],
   "source": [
    "%%time\n",
    "results_df = pd.DataFrame()\n",
    "results_df[\"Model\"] = [\"CatBoost\", \"XGBoost\", \"LGBM\"]\n",
    "results_df[\"10-fold oof MAP@3\"] = [round(cat_cv_mean, 4), round(xgb_cv_mean, 4), round(lgb_cv_mean, 4)]\n",
    "results_df"
   ]
  }
 ],
 "metadata": {
  "kaggle": {
   "accelerator": "gpu",
   "dataSources": [
    {
     "databundleVersionId": 12184666,
     "sourceId": 91717,
     "sourceType": "competition"
    }
   ],
   "dockerImageVersionId": 31041,
   "isGpuEnabled": true,
   "isInternetEnabled": true,
   "language": "python",
   "sourceType": "notebook"
  },
  "kernelspec": {
   "display_name": "Python 3",
   "language": "python",
   "name": "python3"
  },
  "language_info": {
   "codemirror_mode": {
    "name": "ipython",
    "version": 3
   },
   "file_extension": ".py",
   "mimetype": "text/x-python",
   "name": "python",
   "nbconvert_exporter": "python",
   "pygments_lexer": "ipython3",
   "version": "3.11.11"
  },
  "papermill": {
   "default_parameters": {},
   "duration": 6046.174399,
   "end_time": "2025-06-03T13:54:57.085482",
   "environment_variables": {},
   "exception": null,
   "input_path": "__notebook__.ipynb",
   "output_path": "__notebook__.ipynb",
   "parameters": {},
   "start_time": "2025-06-03T12:14:10.911083",
   "version": "2.6.0"
  }
 },
 "nbformat": 4,
 "nbformat_minor": 5
}
