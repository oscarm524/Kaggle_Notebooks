{
 "cells": [
  {
   "cell_type": "markdown",
   "id": "4f13e94e",
   "metadata": {
    "papermill": {
     "duration": 0.011927,
     "end_time": "2024-07-17T20:00:47.219011",
     "exception": false,
     "start_time": "2024-07-17T20:00:47.207084",
     "status": "completed"
    },
    "tags": []
   },
   "source": [
    "# Notebook Versions\n",
    "\n",
    "- Version 1 (06/30/2024)\n",
    "\n",
    "    * EDA and Baseline Modeling 1.0.\n",
    "    \n",
    "\n",
    "- Version 2 (07/02/2024)\n",
    "\n",
    "    * Baseline Modeling 1.0 updated.\n",
    "    \n",
    "    \n",
    "- Version 3 (07/02/2024)\n",
    "\n",
    "    * Fixing bug.\n",
    "    \n",
    "    \n",
    "- Version 4 (07/08/2024)\n",
    "\n",
    "    * Updating Baseline Modeling 1.0.\n",
    "\n",
    "\n",
    "- Version 5 (07/08/2024)\n",
    "\n",
    "    * Baseline Modeling 2.0 added.\n",
    "    \n",
    "    \n",
    "- Version 6 (07/08/2024)\n",
    "    * Fixing bug.\n",
    "    \n",
    "    \n",
    "- Version 7 (07/08/2024)\n",
    "    * Fixing bug.\n",
    "    \n",
    "    \n",
    "- Version 8 (07/08/2024)\n",
    "    * Fixing bug.\n",
    "    * Updating Baseline Modeling 2.0.\n",
    "    \n",
    "\n",
    "- Version 9 (07/17/2024)\n",
    "    * Baseline Modeling 3.0 added."
   ]
  },
  {
   "cell_type": "markdown",
   "id": "0e304fc3",
   "metadata": {
    "papermill": {
     "duration": 0.010895,
     "end_time": "2024-07-17T20:00:47.241191",
     "exception": false,
     "start_time": "2024-07-17T20:00:47.230296",
     "status": "completed"
    },
    "tags": []
   },
   "source": [
    "# Loading Libraries"
   ]
  },
  {
   "cell_type": "code",
   "execution_count": 1,
   "id": "b9c06109",
   "metadata": {
    "_kg_hide-input": true,
    "execution": {
     "iopub.execute_input": "2024-07-17T20:00:47.264533Z",
     "iopub.status.busy": "2024-07-17T20:00:47.264252Z",
     "iopub.status.idle": "2024-07-17T20:00:47.268803Z",
     "shell.execute_reply": "2024-07-17T20:00:47.267901Z"
    },
    "papermill": {
     "duration": 0.018396,
     "end_time": "2024-07-17T20:00:47.270709",
     "exception": false,
     "start_time": "2024-07-17T20:00:47.252313",
     "status": "completed"
    },
    "tags": []
   },
   "outputs": [],
   "source": [
    "# %load_ext cudf.pandas"
   ]
  },
  {
   "cell_type": "code",
   "execution_count": 2,
   "id": "bd98f547",
   "metadata": {
    "execution": {
     "iopub.execute_input": "2024-07-17T20:00:47.295613Z",
     "iopub.status.busy": "2024-07-17T20:00:47.295354Z",
     "iopub.status.idle": "2024-07-17T20:00:55.654684Z",
     "shell.execute_reply": "2024-07-17T20:00:55.653996Z"
    },
    "papermill": {
     "duration": 8.374939,
     "end_time": "2024-07-17T20:00:55.657106",
     "exception": false,
     "start_time": "2024-07-17T20:00:47.282167",
     "status": "completed"
    },
    "tags": []
   },
   "outputs": [],
   "source": [
    "import pandas as pd; pd.set_option('display.max_columns', 100)\n",
    "import numpy as np\n",
    "\n",
    "import gc\n",
    "\n",
    "import warnings\n",
    "warnings.filterwarnings('ignore')\n",
    "\n",
    "from tqdm.notebook import tqdm\n",
    "\n",
    "import re\n",
    "\n",
    "from functools import partial\n",
    "from scipy.stats import kurtosis, skew, gmean, mode\n",
    "\n",
    "import matplotlib.pyplot as plt; plt.style.use('ggplot')\n",
    "import seaborn as sns\n",
    "import plotly.express as px\n",
    "\n",
    "from sklearn.tree import DecisionTreeClassifier, plot_tree\n",
    "from sklearn.preprocessing import MinMaxScaler, StandardScaler, LabelEncoder, FunctionTransformer, PowerTransformer, PolynomialFeatures\n",
    "from sklearn.pipeline import make_pipeline, Pipeline, FeatureUnion\n",
    "from sklearn.decomposition import PCA\n",
    "from sklearn.cluster import KMeans\n",
    "from sklearn.compose import ColumnTransformer, make_column_transformer\n",
    "from sklearn.impute import KNNImputer\n",
    "from sklearn.multiclass import OneVsRestClassifier\n",
    "from sklearn.model_selection import KFold, StratifiedKFold, train_test_split, GridSearchCV, RepeatedStratifiedKFold, cross_val_score, cross_val_predict, RepeatedKFold\n",
    "from sklearn.metrics import roc_auc_score, roc_curve, RocCurveDisplay, cohen_kappa_score, log_loss, f1_score, r2_score, accuracy_score\n",
    "from sklearn.discriminant_analysis import LinearDiscriminantAnalysis, QuadraticDiscriminantAnalysis\n",
    "from sklearn.neighbors import KNeighborsClassifier\n",
    "from sklearn.feature_selection import RFE, RFECV\n",
    "from sklearn.calibration import CalibrationDisplay, CalibratedClassifierCV\n",
    "from sklearn.inspection import PartialDependenceDisplay, permutation_importance\n",
    "from sklearn.linear_model import LogisticRegression, RidgeClassifier, Ridge, RidgeCV\n",
    "from collections import Counter\n",
    "from sklearn.ensemble import RandomForestClassifier, HistGradientBoostingClassifier, GradientBoostingClassifier, ExtraTreesClassifier, VotingClassifier, StackingClassifier\n",
    "from sklearn.svm import SVC, LinearSVR\n",
    "\n",
    "from category_encoders import TargetEncoder\n",
    "\n",
    "import xgboost as xgb\n",
    "\n",
    "from lightgbm import LGBMClassifier\n",
    "from xgboost import XGBClassifier\n",
    "from catboost import CatBoostClassifier\n",
    "\n",
    "from sklearn.neural_network import MLPClassifier\n",
    "\n",
    "import optuna"
   ]
  },
  {
   "cell_type": "markdown",
   "id": "e7a88b60",
   "metadata": {
    "papermill": {
     "duration": 0.01125,
     "end_time": "2024-07-17T20:00:55.680550",
     "exception": false,
     "start_time": "2024-07-17T20:00:55.669300",
     "status": "completed"
    },
    "tags": []
   },
   "source": [
    "# Reading Data Files"
   ]
  },
  {
   "cell_type": "code",
   "execution_count": 3,
   "id": "9062c730",
   "metadata": {
    "execution": {
     "iopub.execute_input": "2024-07-17T20:00:55.704677Z",
     "iopub.status.busy": "2024-07-17T20:00:55.704067Z",
     "iopub.status.idle": "2024-07-17T20:01:29.063273Z",
     "shell.execute_reply": "2024-07-17T20:01:29.062375Z"
    },
    "papermill": {
     "duration": 33.384271,
     "end_time": "2024-07-17T20:01:29.076097",
     "exception": false,
     "start_time": "2024-07-17T20:00:55.691826",
     "status": "completed"
    },
    "tags": []
   },
   "outputs": [
    {
     "name": "stdout",
     "output_type": "stream",
     "text": [
      "The dimension of the train dataset is: (11504798, 11)\n",
      "The dimension of the test dataset is: (7669866, 10)\n"
     ]
    }
   ],
   "source": [
    "train = pd.read_csv('../input/playground-series-s4e7/train.csv', index_col=0)\n",
    "test = pd.read_csv('../input/playground-series-s4e7/test.csv', index_col=0)\n",
    "\n",
    "print('The dimension of the train dataset is:', train.shape)\n",
    "print('The dimension of the test dataset is:', test.shape)"
   ]
  },
  {
   "cell_type": "code",
   "execution_count": 4,
   "id": "2c2c856f",
   "metadata": {
    "execution": {
     "iopub.execute_input": "2024-07-17T20:01:29.099985Z",
     "iopub.status.busy": "2024-07-17T20:01:29.099415Z",
     "iopub.status.idle": "2024-07-17T20:01:29.119823Z",
     "shell.execute_reply": "2024-07-17T20:01:29.119012Z"
    },
    "papermill": {
     "duration": 0.034267,
     "end_time": "2024-07-17T20:01:29.121604",
     "exception": false,
     "start_time": "2024-07-17T20:01:29.087337",
     "status": "completed"
    },
    "tags": []
   },
   "outputs": [
    {
     "data": {
      "text/html": [
       "<div>\n",
       "<style scoped>\n",
       "    .dataframe tbody tr th:only-of-type {\n",
       "        vertical-align: middle;\n",
       "    }\n",
       "\n",
       "    .dataframe tbody tr th {\n",
       "        vertical-align: top;\n",
       "    }\n",
       "\n",
       "    .dataframe thead th {\n",
       "        text-align: right;\n",
       "    }\n",
       "</style>\n",
       "<table border=\"1\" class=\"dataframe\">\n",
       "  <thead>\n",
       "    <tr style=\"text-align: right;\">\n",
       "      <th></th>\n",
       "      <th>Gender</th>\n",
       "      <th>Age</th>\n",
       "      <th>Driving_License</th>\n",
       "      <th>Region_Code</th>\n",
       "      <th>Previously_Insured</th>\n",
       "      <th>Vehicle_Age</th>\n",
       "      <th>Vehicle_Damage</th>\n",
       "      <th>Annual_Premium</th>\n",
       "      <th>Policy_Sales_Channel</th>\n",
       "      <th>Vintage</th>\n",
       "      <th>Response</th>\n",
       "    </tr>\n",
       "    <tr>\n",
       "      <th>id</th>\n",
       "      <th></th>\n",
       "      <th></th>\n",
       "      <th></th>\n",
       "      <th></th>\n",
       "      <th></th>\n",
       "      <th></th>\n",
       "      <th></th>\n",
       "      <th></th>\n",
       "      <th></th>\n",
       "      <th></th>\n",
       "      <th></th>\n",
       "    </tr>\n",
       "  </thead>\n",
       "  <tbody>\n",
       "    <tr>\n",
       "      <th>0</th>\n",
       "      <td>Male</td>\n",
       "      <td>21</td>\n",
       "      <td>1</td>\n",
       "      <td>35.0</td>\n",
       "      <td>0</td>\n",
       "      <td>1-2 Year</td>\n",
       "      <td>Yes</td>\n",
       "      <td>65101.0</td>\n",
       "      <td>124.0</td>\n",
       "      <td>187</td>\n",
       "      <td>0</td>\n",
       "    </tr>\n",
       "    <tr>\n",
       "      <th>1</th>\n",
       "      <td>Male</td>\n",
       "      <td>43</td>\n",
       "      <td>1</td>\n",
       "      <td>28.0</td>\n",
       "      <td>0</td>\n",
       "      <td>&gt; 2 Years</td>\n",
       "      <td>Yes</td>\n",
       "      <td>58911.0</td>\n",
       "      <td>26.0</td>\n",
       "      <td>288</td>\n",
       "      <td>1</td>\n",
       "    </tr>\n",
       "    <tr>\n",
       "      <th>2</th>\n",
       "      <td>Female</td>\n",
       "      <td>25</td>\n",
       "      <td>1</td>\n",
       "      <td>14.0</td>\n",
       "      <td>1</td>\n",
       "      <td>&lt; 1 Year</td>\n",
       "      <td>No</td>\n",
       "      <td>38043.0</td>\n",
       "      <td>152.0</td>\n",
       "      <td>254</td>\n",
       "      <td>0</td>\n",
       "    </tr>\n",
       "    <tr>\n",
       "      <th>3</th>\n",
       "      <td>Female</td>\n",
       "      <td>35</td>\n",
       "      <td>1</td>\n",
       "      <td>1.0</td>\n",
       "      <td>0</td>\n",
       "      <td>1-2 Year</td>\n",
       "      <td>Yes</td>\n",
       "      <td>2630.0</td>\n",
       "      <td>156.0</td>\n",
       "      <td>76</td>\n",
       "      <td>0</td>\n",
       "    </tr>\n",
       "    <tr>\n",
       "      <th>4</th>\n",
       "      <td>Female</td>\n",
       "      <td>36</td>\n",
       "      <td>1</td>\n",
       "      <td>15.0</td>\n",
       "      <td>1</td>\n",
       "      <td>1-2 Year</td>\n",
       "      <td>No</td>\n",
       "      <td>31951.0</td>\n",
       "      <td>152.0</td>\n",
       "      <td>294</td>\n",
       "      <td>0</td>\n",
       "    </tr>\n",
       "  </tbody>\n",
       "</table>\n",
       "</div>"
      ],
      "text/plain": [
       "    Gender  Age  Driving_License  Region_Code  Previously_Insured Vehicle_Age  \\\n",
       "id                                                                              \n",
       "0     Male   21                1         35.0                   0    1-2 Year   \n",
       "1     Male   43                1         28.0                   0   > 2 Years   \n",
       "2   Female   25                1         14.0                   1    < 1 Year   \n",
       "3   Female   35                1          1.0                   0    1-2 Year   \n",
       "4   Female   36                1         15.0                   1    1-2 Year   \n",
       "\n",
       "   Vehicle_Damage  Annual_Premium  Policy_Sales_Channel  Vintage  Response  \n",
       "id                                                                          \n",
       "0             Yes         65101.0                 124.0      187         0  \n",
       "1             Yes         58911.0                  26.0      288         1  \n",
       "2              No         38043.0                 152.0      254         0  \n",
       "3             Yes          2630.0                 156.0       76         0  \n",
       "4              No         31951.0                 152.0      294         0  "
      ]
     },
     "execution_count": 4,
     "metadata": {},
     "output_type": "execute_result"
    }
   ],
   "source": [
    "train.head()"
   ]
  },
  {
   "cell_type": "code",
   "execution_count": 5,
   "id": "925f5093",
   "metadata": {
    "execution": {
     "iopub.execute_input": "2024-07-17T20:01:29.145992Z",
     "iopub.status.busy": "2024-07-17T20:01:29.145502Z",
     "iopub.status.idle": "2024-07-17T20:01:29.158976Z",
     "shell.execute_reply": "2024-07-17T20:01:29.158176Z"
    },
    "papermill": {
     "duration": 0.02767,
     "end_time": "2024-07-17T20:01:29.160924",
     "exception": false,
     "start_time": "2024-07-17T20:01:29.133254",
     "status": "completed"
    },
    "tags": []
   },
   "outputs": [
    {
     "data": {
      "text/html": [
       "<div>\n",
       "<style scoped>\n",
       "    .dataframe tbody tr th:only-of-type {\n",
       "        vertical-align: middle;\n",
       "    }\n",
       "\n",
       "    .dataframe tbody tr th {\n",
       "        vertical-align: top;\n",
       "    }\n",
       "\n",
       "    .dataframe thead th {\n",
       "        text-align: right;\n",
       "    }\n",
       "</style>\n",
       "<table border=\"1\" class=\"dataframe\">\n",
       "  <thead>\n",
       "    <tr style=\"text-align: right;\">\n",
       "      <th></th>\n",
       "      <th>Gender</th>\n",
       "      <th>Age</th>\n",
       "      <th>Driving_License</th>\n",
       "      <th>Region_Code</th>\n",
       "      <th>Previously_Insured</th>\n",
       "      <th>Vehicle_Age</th>\n",
       "      <th>Vehicle_Damage</th>\n",
       "      <th>Annual_Premium</th>\n",
       "      <th>Policy_Sales_Channel</th>\n",
       "      <th>Vintage</th>\n",
       "    </tr>\n",
       "    <tr>\n",
       "      <th>id</th>\n",
       "      <th></th>\n",
       "      <th></th>\n",
       "      <th></th>\n",
       "      <th></th>\n",
       "      <th></th>\n",
       "      <th></th>\n",
       "      <th></th>\n",
       "      <th></th>\n",
       "      <th></th>\n",
       "      <th></th>\n",
       "    </tr>\n",
       "  </thead>\n",
       "  <tbody>\n",
       "    <tr>\n",
       "      <th>11504798</th>\n",
       "      <td>Female</td>\n",
       "      <td>20</td>\n",
       "      <td>1</td>\n",
       "      <td>47.0</td>\n",
       "      <td>0</td>\n",
       "      <td>&lt; 1 Year</td>\n",
       "      <td>No</td>\n",
       "      <td>2630.0</td>\n",
       "      <td>160.0</td>\n",
       "      <td>228</td>\n",
       "    </tr>\n",
       "    <tr>\n",
       "      <th>11504799</th>\n",
       "      <td>Male</td>\n",
       "      <td>47</td>\n",
       "      <td>1</td>\n",
       "      <td>28.0</td>\n",
       "      <td>0</td>\n",
       "      <td>1-2 Year</td>\n",
       "      <td>Yes</td>\n",
       "      <td>37483.0</td>\n",
       "      <td>124.0</td>\n",
       "      <td>123</td>\n",
       "    </tr>\n",
       "    <tr>\n",
       "      <th>11504800</th>\n",
       "      <td>Male</td>\n",
       "      <td>47</td>\n",
       "      <td>1</td>\n",
       "      <td>43.0</td>\n",
       "      <td>0</td>\n",
       "      <td>1-2 Year</td>\n",
       "      <td>Yes</td>\n",
       "      <td>2630.0</td>\n",
       "      <td>26.0</td>\n",
       "      <td>271</td>\n",
       "    </tr>\n",
       "    <tr>\n",
       "      <th>11504801</th>\n",
       "      <td>Female</td>\n",
       "      <td>22</td>\n",
       "      <td>1</td>\n",
       "      <td>47.0</td>\n",
       "      <td>1</td>\n",
       "      <td>&lt; 1 Year</td>\n",
       "      <td>No</td>\n",
       "      <td>24502.0</td>\n",
       "      <td>152.0</td>\n",
       "      <td>115</td>\n",
       "    </tr>\n",
       "    <tr>\n",
       "      <th>11504802</th>\n",
       "      <td>Male</td>\n",
       "      <td>51</td>\n",
       "      <td>1</td>\n",
       "      <td>19.0</td>\n",
       "      <td>0</td>\n",
       "      <td>1-2 Year</td>\n",
       "      <td>No</td>\n",
       "      <td>34115.0</td>\n",
       "      <td>124.0</td>\n",
       "      <td>148</td>\n",
       "    </tr>\n",
       "  </tbody>\n",
       "</table>\n",
       "</div>"
      ],
      "text/plain": [
       "          Gender  Age  Driving_License  Region_Code  Previously_Insured  \\\n",
       "id                                                                        \n",
       "11504798  Female   20                1         47.0                   0   \n",
       "11504799    Male   47                1         28.0                   0   \n",
       "11504800    Male   47                1         43.0                   0   \n",
       "11504801  Female   22                1         47.0                   1   \n",
       "11504802    Male   51                1         19.0                   0   \n",
       "\n",
       "         Vehicle_Age Vehicle_Damage  Annual_Premium  Policy_Sales_Channel  \\\n",
       "id                                                                          \n",
       "11504798    < 1 Year             No          2630.0                 160.0   \n",
       "11504799    1-2 Year            Yes         37483.0                 124.0   \n",
       "11504800    1-2 Year            Yes          2630.0                  26.0   \n",
       "11504801    < 1 Year             No         24502.0                 152.0   \n",
       "11504802    1-2 Year             No         34115.0                 124.0   \n",
       "\n",
       "          Vintage  \n",
       "id                 \n",
       "11504798      228  \n",
       "11504799      123  \n",
       "11504800      271  \n",
       "11504801      115  \n",
       "11504802      148  "
      ]
     },
     "execution_count": 5,
     "metadata": {},
     "output_type": "execute_result"
    }
   ],
   "source": [
    "test.head()"
   ]
  },
  {
   "cell_type": "markdown",
   "id": "765009ff",
   "metadata": {
    "papermill": {
     "duration": 0.011868,
     "end_time": "2024-07-17T20:01:29.184627",
     "exception": false,
     "start_time": "2024-07-17T20:01:29.172759",
     "status": "completed"
    },
    "tags": []
   },
   "source": [
    "First, let's check for missing values in the `train` and `test` data frames."
   ]
  },
  {
   "cell_type": "code",
   "execution_count": 6,
   "id": "a95881b9",
   "metadata": {
    "execution": {
     "iopub.execute_input": "2024-07-17T20:01:29.210423Z",
     "iopub.status.busy": "2024-07-17T20:01:29.210165Z",
     "iopub.status.idle": "2024-07-17T20:01:32.497628Z",
     "shell.execute_reply": "2024-07-17T20:01:32.496686Z"
    },
    "papermill": {
     "duration": 3.302762,
     "end_time": "2024-07-17T20:01:32.499684",
     "exception": false,
     "start_time": "2024-07-17T20:01:29.196922",
     "status": "completed"
    },
    "tags": []
   },
   "outputs": [
    {
     "data": {
      "text/plain": [
       "Gender                  0\n",
       "Age                     0\n",
       "Driving_License         0\n",
       "Region_Code             0\n",
       "Previously_Insured      0\n",
       "Vehicle_Age             0\n",
       "Vehicle_Damage          0\n",
       "Annual_Premium          0\n",
       "Policy_Sales_Channel    0\n",
       "Vintage                 0\n",
       "Response                0\n",
       "dtype: int64"
      ]
     },
     "execution_count": 6,
     "metadata": {},
     "output_type": "execute_result"
    }
   ],
   "source": [
    "train.isnull().sum()"
   ]
  },
  {
   "cell_type": "code",
   "execution_count": 7,
   "id": "4c99fbe6",
   "metadata": {
    "execution": {
     "iopub.execute_input": "2024-07-17T20:01:32.525528Z",
     "iopub.status.busy": "2024-07-17T20:01:32.525219Z",
     "iopub.status.idle": "2024-07-17T20:01:34.676722Z",
     "shell.execute_reply": "2024-07-17T20:01:34.675687Z"
    },
    "papermill": {
     "duration": 2.166935,
     "end_time": "2024-07-17T20:01:34.679093",
     "exception": false,
     "start_time": "2024-07-17T20:01:32.512158",
     "status": "completed"
    },
    "tags": []
   },
   "outputs": [
    {
     "data": {
      "text/plain": [
       "Gender                  0\n",
       "Age                     0\n",
       "Driving_License         0\n",
       "Region_Code             0\n",
       "Previously_Insured      0\n",
       "Vehicle_Age             0\n",
       "Vehicle_Damage          0\n",
       "Annual_Premium          0\n",
       "Policy_Sales_Channel    0\n",
       "Vintage                 0\n",
       "dtype: int64"
      ]
     },
     "execution_count": 7,
     "metadata": {},
     "output_type": "execute_result"
    }
   ],
   "source": [
    "test.isnull().sum()"
   ]
  },
  {
   "cell_type": "markdown",
   "id": "0c570b5b",
   "metadata": {
    "papermill": {
     "duration": 0.01247,
     "end_time": "2024-07-17T20:01:34.704712",
     "exception": false,
     "start_time": "2024-07-17T20:01:34.692242",
     "status": "completed"
    },
    "tags": []
   },
   "source": [
    "There are no missing values neither in the `train` or `test` data frames. Next, we check for duplicates."
   ]
  },
  {
   "cell_type": "code",
   "execution_count": 8,
   "id": "9a693a6c",
   "metadata": {
    "execution": {
     "iopub.execute_input": "2024-07-17T20:01:34.730900Z",
     "iopub.status.busy": "2024-07-17T20:01:34.730372Z",
     "iopub.status.idle": "2024-07-17T20:01:54.762075Z",
     "shell.execute_reply": "2024-07-17T20:01:54.761057Z"
    },
    "papermill": {
     "duration": 20.046845,
     "end_time": "2024-07-17T20:01:54.764218",
     "exception": false,
     "start_time": "2024-07-17T20:01:34.717373",
     "status": "completed"
    },
    "tags": []
   },
   "outputs": [
    {
     "name": "stdout",
     "output_type": "stream",
     "text": [
      "There are 0 duplicated rows in the train data frame.\n",
      "\n",
      "\n",
      "After dropping the Response column, there are 0 duplicated rows in the train data frame.\n",
      "\n",
      "\n",
      "There are 0 duplicated rows in the test data frame.\n"
     ]
    }
   ],
   "source": [
    "print(f\"There are {sum(train.duplicated())} duplicated rows in the train data frame.\")\n",
    "\n",
    "print(\"\\n\")\n",
    "print(f\"After dropping the Response column, there are {sum(train.drop(columns=['Response']).duplicated())} duplicated rows in the train data frame.\")\n",
    "\n",
    "print(\"\\n\")\n",
    "print(f\"There are {sum(test.duplicated())} duplicated rows in the test data frame.\")"
   ]
  },
  {
   "cell_type": "markdown",
   "id": "099221e1",
   "metadata": {
    "papermill": {
     "duration": 0.012611,
     "end_time": "2024-07-17T20:01:54.790719",
     "exception": false,
     "start_time": "2024-07-17T20:01:54.778108",
     "status": "completed"
    },
    "tags": []
   },
   "source": [
    "Finally, we check if there are any observations that appear in both the `train` and `test` data frames."
   ]
  },
  {
   "cell_type": "code",
   "execution_count": 9,
   "id": "ea8e80db",
   "metadata": {
    "execution": {
     "iopub.execute_input": "2024-07-17T20:01:54.816978Z",
     "iopub.status.busy": "2024-07-17T20:01:54.816668Z",
     "iopub.status.idle": "2024-07-17T20:02:12.802169Z",
     "shell.execute_reply": "2024-07-17T20:02:12.801073Z"
    },
    "papermill": {
     "duration": 18.000983,
     "end_time": "2024-07-17T20:02:12.804220",
     "exception": false,
     "start_time": "2024-07-17T20:01:54.803237",
     "status": "completed"
    },
    "tags": []
   },
   "outputs": [
    {
     "name": "stdout",
     "output_type": "stream",
     "text": [
      "There are 0 observations that appear in both the train and test data frames\n"
     ]
    }
   ],
   "source": [
    "temp_train = train.drop(columns=['Response'], axis=1)\n",
    "temp_test = test\n",
    "\n",
    "inner_join = pd.merge(temp_train, temp_test)\n",
    "print(f\"There are {inner_join.shape[0]} observations that appear in both the train and test data frames\")"
   ]
  },
  {
   "cell_type": "markdown",
   "id": "1404d754",
   "metadata": {
    "papermill": {
     "duration": 0.012891,
     "end_time": "2024-07-17T20:02:12.830263",
     "exception": false,
     "start_time": "2024-07-17T20:02:12.817372",
     "status": "completed"
    },
    "tags": []
   },
   "source": [
    "# Data Exploration\n",
    "\n",
    "First, we start by exploring the `Response` feature."
   ]
  },
  {
   "cell_type": "code",
   "execution_count": 10,
   "id": "12d29150",
   "metadata": {
    "_kg_hide-input": true,
    "execution": {
     "iopub.execute_input": "2024-07-17T20:02:12.856801Z",
     "iopub.status.busy": "2024-07-17T20:02:12.856463Z",
     "iopub.status.idle": "2024-07-17T20:02:13.203409Z",
     "shell.execute_reply": "2024-07-17T20:02:13.202557Z"
    },
    "papermill": {
     "duration": 0.362482,
     "end_time": "2024-07-17T20:02:13.205501",
     "exception": false,
     "start_time": "2024-07-17T20:02:12.843019",
     "status": "completed"
    },
    "tags": []
   },
   "outputs": [
    {
     "data": {
      "image/png": "[encoded data removed]",
      "text/plain": [
       "<Figure size 640x480 with 1 Axes>"
      ]
     },
     "metadata": {},
     "output_type": "display_data"
    }
   ],
   "source": [
    "ax = round(train['Response'].value_counts(normalize=True), 2).plot(kind='barh', color='steelblue')\n",
    "ax.bar_label(ax.containers[0], label_type='edge')\n",
    "ax.margins(y=0.1)\n",
    "plt.xlabel('Percentage');"
   ]
  },
  {
   "cell_type": "markdown",
   "id": "5e7ba229",
   "metadata": {
    "papermill": {
     "duration": 0.013322,
     "end_time": "2024-07-17T20:02:13.232496",
     "exception": false,
     "start_time": "2024-07-17T20:02:13.219174",
     "status": "completed"
    },
    "tags": []
   },
   "source": [
    "From the above chart, we see that this is an imbalanced dataset. `Response = 1` is the less frequent label. Next, we explore the relationships between the input features and `Response`."
   ]
  },
  {
   "cell_type": "code",
   "execution_count": 11,
   "id": "1f81574c",
   "metadata": {
    "_kg_hide-input": true,
    "execution": {
     "iopub.execute_input": "2024-07-17T20:02:13.262130Z",
     "iopub.status.busy": "2024-07-17T20:02:13.261846Z",
     "iopub.status.idle": "2024-07-17T20:02:21.387981Z",
     "shell.execute_reply": "2024-07-17T20:02:21.387013Z"
    },
    "papermill": {
     "duration": 8.144705,
     "end_time": "2024-07-17T20:02:21.390601",
     "exception": false,
     "start_time": "2024-07-17T20:02:13.245896",
     "status": "completed"
    },
    "tags": []
   },
   "outputs": [
    {
     "data": {
      "image/png": "[encoded data removed]",
      "text/plain": [
       "<Figure size 2000x1500 with 8 Axes>"
      ]
     },
     "metadata": {},
     "output_type": "display_data"
    }
   ],
   "source": [
    "fig, axes = plt.subplots(2, 2, figsize=(20, 15))\n",
    "\n",
    "cmap = sns.diverging_palette(100, 7, s = 75, l = 40, n = 5, center = 'light', as_cmap = True)\n",
    "\n",
    "sns.heatmap(data=round(100*pd.crosstab(train['Gender'], train['Response'], normalize=0), 2), annot=True, cmap=cmap, fmt='.0f', ax=axes[0, 0])\n",
    "sns.heatmap(data=round(100*pd.crosstab(train['Vehicle_Age'], train['Response'], normalize=0), 2), annot=True, cmap=cmap, fmt='.0f', ax=axes[0, 1])\n",
    "sns.heatmap(data=round(100*pd.crosstab(train['Vehicle_Damage'], train['Response'], normalize=0), 2), annot=True, cmap=cmap, fmt='.0f', ax=axes[1, 0]);\n",
    "sns.heatmap(data=round(100*pd.crosstab(train['Driving_License'], train['Response'], normalize=0), 2), annot=True, cmap=cmap, fmt='.0f', ax=axes[1, 1]);"
   ]
  },
  {
   "cell_type": "markdown",
   "id": "af51a0cb",
   "metadata": {
    "papermill": {
     "duration": 0.014854,
     "end_time": "2024-07-17T20:02:21.420475",
     "exception": false,
     "start_time": "2024-07-17T20:02:21.405621",
     "status": "completed"
    },
    "tags": []
   },
   "source": [
    "These are a couple of observations from the above charts:\n",
    "\n",
    "- Males a litle more likely to have `Response = 1` than females.\n",
    "- The older the car is, the more likely `Response = 1` is.\n",
    "\n",
    "It seems that `Region_Code`, `Policy_Sales_Channel`, `Vintage` are categorical features. Let's check of the vales in each of those features are consistent across the `train` and `test` datasets."
   ]
  },
  {
   "cell_type": "code",
   "execution_count": 12,
   "id": "26d71007",
   "metadata": {
    "_kg_hide-input": true,
    "execution": {
     "iopub.execute_input": "2024-07-17T20:02:21.451913Z",
     "iopub.status.busy": "2024-07-17T20:02:21.451512Z",
     "iopub.status.idle": "2024-07-17T20:02:21.957092Z",
     "shell.execute_reply": "2024-07-17T20:02:21.956049Z"
    },
    "papermill": {
     "duration": 0.523932,
     "end_time": "2024-07-17T20:02:21.959099",
     "exception": false,
     "start_time": "2024-07-17T20:02:21.435167",
     "status": "completed"
    },
    "tags": []
   },
   "outputs": [
    {
     "name": "stdout",
     "output_type": "stream",
     "text": [
      "There are 0 labels in Region_Code in the test dataset that don't appear in the train dataset.\n",
      "There are 2 labels in Policy_Sales_Channel in the test dataset that don't appear in the train dataset.\n",
      "There are 0 labels in Vintage in the test dataset that don't appear in the train dataset.\n"
     ]
    }
   ],
   "source": [
    "print(f\"There are {sum(~np.isin(test['Region_Code'].unique(), train['Region_Code'].unique()))} labels in Region_Code in the test dataset that don't appear in the train dataset.\")\n",
    "print(f\"There are {sum(~np.isin(test['Policy_Sales_Channel'].unique(), train['Policy_Sales_Channel'].unique()))} labels in Policy_Sales_Channel in the test dataset that don't appear in the train dataset.\")\n",
    "print(f\"There are {sum(~np.isin(test['Vintage'].unique(), train['Vintage'].unique()))} labels in Vintage in the test dataset that don't appear in the train dataset.\")"
   ]
  },
  {
   "cell_type": "markdown",
   "id": "f54ee76f",
   "metadata": {
    "papermill": {
     "duration": 0.014212,
     "end_time": "2024-07-17T20:02:21.987839",
     "exception": false,
     "start_time": "2024-07-17T20:02:21.973627",
     "status": "completed"
    },
    "tags": []
   },
   "source": [
    "Let's identify those `Policy_Sales_Channel` labels in the `test` dataset that don't appear in the `train` dataset."
   ]
  },
  {
   "cell_type": "code",
   "execution_count": 13,
   "id": "b982c9a7",
   "metadata": {
    "execution": {
     "iopub.execute_input": "2024-07-17T20:02:22.058805Z",
     "iopub.status.busy": "2024-07-17T20:02:22.058186Z",
     "iopub.status.idle": "2024-07-17T20:02:22.333061Z",
     "shell.execute_reply": "2024-07-17T20:02:22.332186Z"
    },
    "papermill": {
     "duration": 0.292148,
     "end_time": "2024-07-17T20:02:22.335016",
     "exception": false,
     "start_time": "2024-07-17T20:02:22.042868",
     "status": "completed"
    },
    "tags": []
   },
   "outputs": [
    {
     "data": {
      "text/plain": [
       "array([149., 144.])"
      ]
     },
     "execution_count": 13,
     "metadata": {},
     "output_type": "execute_result"
    }
   ],
   "source": [
    "test['Policy_Sales_Channel'].unique()[~np.isin(test['Policy_Sales_Channel'].unique(), train['Policy_Sales_Channel'].unique())]"
   ]
  },
  {
   "cell_type": "markdown",
   "id": "ad8e7076",
   "metadata": {
    "papermill": {
     "duration": 0.01464,
     "end_time": "2024-07-17T20:02:22.364094",
     "exception": false,
     "start_time": "2024-07-17T20:02:22.349454",
     "status": "completed"
    },
    "tags": []
   },
   "source": [
    "Let's replace those labels as follows."
   ]
  },
  {
   "cell_type": "code",
   "execution_count": 14,
   "id": "39a2cb93",
   "metadata": {
    "execution": {
     "iopub.execute_input": "2024-07-17T20:02:22.395782Z",
     "iopub.status.busy": "2024-07-17T20:02:22.395119Z",
     "iopub.status.idle": "2024-07-17T20:02:22.496392Z",
     "shell.execute_reply": "2024-07-17T20:02:22.495528Z"
    },
    "papermill": {
     "duration": 0.119379,
     "end_time": "2024-07-17T20:02:22.498721",
     "exception": false,
     "start_time": "2024-07-17T20:02:22.379342",
     "status": "completed"
    },
    "tags": []
   },
   "outputs": [],
   "source": [
    "test['Policy_Sales_Channel'] = np.where(test['Policy_Sales_Channel']==144., 145., test['Policy_Sales_Channel'])\n",
    "test['Policy_Sales_Channel'] = np.where(test['Policy_Sales_Channel']==149., 150., test['Policy_Sales_Channel'])"
   ]
  },
  {
   "cell_type": "markdown",
   "id": "ab8d5cf9",
   "metadata": {
    "papermill": {
     "duration": 0.014117,
     "end_time": "2024-07-17T20:02:22.527686",
     "exception": false,
     "start_time": "2024-07-17T20:02:22.513569",
     "status": "completed"
    },
    "tags": []
   },
   "source": [
    "Next, we explore the distribution of `Age`."
   ]
  },
  {
   "cell_type": "code",
   "execution_count": 15,
   "id": "8c60946e",
   "metadata": {
    "_kg_hide-input": true,
    "execution": {
     "iopub.execute_input": "2024-07-17T20:02:22.557444Z",
     "iopub.status.busy": "2024-07-17T20:02:22.557168Z",
     "iopub.status.idle": "2024-07-17T20:03:07.198358Z",
     "shell.execute_reply": "2024-07-17T20:03:07.197434Z"
    },
    "papermill": {
     "duration": 44.673634,
     "end_time": "2024-07-17T20:03:07.215661",
     "exception": false,
     "start_time": "2024-07-17T20:02:22.542027",
     "status": "completed"
    },
    "tags": []
   },
   "outputs": [
    {
     "data": {
      "image/png": "[encoded data removed]",
      "text/plain": [
       "<Figure size 640x480 with 1 Axes>"
      ]
     },
     "metadata": {},
     "output_type": "display_data"
    }
   ],
   "source": [
    "sns.kdeplot(data=train, x='Age', hue='Response');"
   ]
  },
  {
   "cell_type": "markdown",
   "id": "b8663550",
   "metadata": {
    "papermill": {
     "duration": 0.014601,
     "end_time": "2024-07-17T20:03:07.245199",
     "exception": false,
     "start_time": "2024-07-17T20:03:07.230598",
     "status": "completed"
    },
    "tags": []
   },
   "source": [
    "From the above chart, the distributions of `Age` are similar. Next, we explore the distribution of `Annual_Premium`."
   ]
  },
  {
   "cell_type": "code",
   "execution_count": 16,
   "id": "c4d39bee",
   "metadata": {
    "_kg_hide-input": true,
    "execution": {
     "iopub.execute_input": "2024-07-17T20:03:07.276470Z",
     "iopub.status.busy": "2024-07-17T20:03:07.276137Z",
     "iopub.status.idle": "2024-07-17T20:03:49.310813Z",
     "shell.execute_reply": "2024-07-17T20:03:49.309841Z"
    },
    "papermill": {
     "duration": 42.068989,
     "end_time": "2024-07-17T20:03:49.329044",
     "exception": false,
     "start_time": "2024-07-17T20:03:07.260055",
     "status": "completed"
    },
    "tags": []
   },
   "outputs": [
    {
     "data": {
      "image/png": "[encoded data removed]",
      "text/plain": [
       "<Figure size 640x480 with 1 Axes>"
      ]
     },
     "metadata": {},
     "output_type": "display_data"
    }
   ],
   "source": [
    "sns.kdeplot(data=train, x='Annual_Premium', hue='Response');"
   ]
  },
  {
   "cell_type": "markdown",
   "id": "58090d30",
   "metadata": {
    "papermill": {
     "duration": 0.015841,
     "end_time": "2024-07-17T20:03:49.360577",
     "exception": false,
     "start_time": "2024-07-17T20:03:49.344736",
     "status": "completed"
    },
    "tags": []
   },
   "source": [
    "From the above chart, the distributions of `Annual_Premium` are similar."
   ]
  },
  {
   "cell_type": "code",
   "execution_count": 17,
   "id": "4f1804f6",
   "metadata": {
    "_kg_hide-input": true,
    "execution": {
     "iopub.execute_input": "2024-07-17T20:03:49.392798Z",
     "iopub.status.busy": "2024-07-17T20:03:49.391953Z",
     "iopub.status.idle": "2024-07-17T20:03:49.559534Z",
     "shell.execute_reply": "2024-07-17T20:03:49.558449Z"
    },
    "papermill": {
     "duration": 0.186058,
     "end_time": "2024-07-17T20:03:49.561798",
     "exception": false,
     "start_time": "2024-07-17T20:03:49.375740",
     "status": "completed"
    },
    "tags": []
   },
   "outputs": [
    {
     "data": {
      "text/plain": [
       "3755"
      ]
     },
     "execution_count": 17,
     "metadata": {},
     "output_type": "execute_result"
    }
   ],
   "source": [
    "gc.collect()"
   ]
  },
  {
   "cell_type": "markdown",
   "id": "b6a66838",
   "metadata": {
    "papermill": {
     "duration": 0.015646,
     "end_time": "2024-07-17T20:03:49.594857",
     "exception": false,
     "start_time": "2024-07-17T20:03:49.579211",
     "status": "completed"
    },
    "tags": []
   },
   "source": [
    "# Baseline Modeling 1.0\n",
    "\n",
    "First, we pre-process the data as follows. "
   ]
  },
  {
   "cell_type": "code",
   "execution_count": 18,
   "id": "40b59d54",
   "metadata": {
    "execution": {
     "iopub.execute_input": "2024-07-17T20:03:49.627515Z",
     "iopub.status.busy": "2024-07-17T20:03:49.627243Z",
     "iopub.status.idle": "2024-07-17T20:04:08.722331Z",
     "shell.execute_reply": "2024-07-17T20:04:08.721341Z"
    },
    "papermill": {
     "duration": 19.11373,
     "end_time": "2024-07-17T20:04:08.724518",
     "exception": false,
     "start_time": "2024-07-17T20:03:49.610788",
     "status": "completed"
    },
    "tags": []
   },
   "outputs": [
    {
     "name": "stdout",
     "output_type": "stream",
     "text": [
      "CPU times: user 16.6 s, sys: 2.53 s, total: 19.1 s\n",
      "Wall time: 19.1 s\n"
     ]
    }
   ],
   "source": [
    "%%time\n",
    "def converting_datatypes(df, df_train=False):\n",
    "    \n",
    "    df = df.copy()\n",
    "\n",
    "    df['Age'] = df['Age'].astype('int8')\n",
    "    df['Driving_License'] = df['Driving_License'].astype('int8')\n",
    "    df['Region_Code'] = df['Region_Code'].astype('int8')\n",
    "    df['Previously_Insured'] = df['Previously_Insured'].astype('int8')\n",
    "    df['Annual_Premium'] = df['Annual_Premium'].astype('int32')\n",
    "    df['Policy_Sales_Channel'] = df['Policy_Sales_Channel'].astype('int16')\n",
    "    df['Vintage'] = df['Vintage'].astype('int16')\n",
    "    df['Gender'] = df['Gender'].map({'Female': 0, 'Male': 1}).astype('int8')\n",
    "    df['Vehicle_Age'] = df['Vehicle_Age'].map({'< 1 Year': 0, '1-2 Year': 1, '> 2 Years': 3}).astype('int8')\n",
    "    df['Vehicle_Damage'] = df['Vehicle_Damage'].map({'No': 0, 'Yes': 1}).astype('int8')\n",
    "\n",
    "    if df_train==True:\n",
    "\n",
    "        df['Response'] = df['Response'].astype('int8')\n",
    "\n",
    "    return df\n",
    "\n",
    "train = pd.read_csv('../input/playground-series-s4e7/train.csv', index_col=0)\n",
    "train = converting_datatypes(train, df_train=True)"
   ]
  },
  {
   "cell_type": "markdown",
   "id": "5f936928",
   "metadata": {
    "papermill": {
     "duration": 0.015462,
     "end_time": "2024-07-17T20:04:08.756333",
     "exception": false,
     "start_time": "2024-07-17T20:04:08.740871",
     "status": "completed"
    },
    "tags": []
   },
   "source": [
    "Then, we define the input and target feature for modeling purposes."
   ]
  },
  {
   "cell_type": "code",
   "execution_count": 19,
   "id": "bf95a3f2",
   "metadata": {
    "execution": {
     "iopub.execute_input": "2024-07-17T20:04:08.789268Z",
     "iopub.status.busy": "2024-07-17T20:04:08.788966Z",
     "iopub.status.idle": "2024-07-17T20:04:09.137616Z",
     "shell.execute_reply": "2024-07-17T20:04:09.136320Z"
    },
    "papermill": {
     "duration": 0.368272,
     "end_time": "2024-07-17T20:04:09.140079",
     "exception": false,
     "start_time": "2024-07-17T20:04:08.771807",
     "status": "completed"
    },
    "tags": []
   },
   "outputs": [
    {
     "name": "stdout",
     "output_type": "stream",
     "text": [
      "CPU times: user 305 ms, sys: 37.1 ms, total: 342 ms\n",
      "Wall time: 343 ms\n"
     ]
    }
   ],
   "source": [
    "%%time\n",
    "X = train.drop(columns=['Response'], axis=1)\n",
    "Y = train['Response']\n",
    "\n",
    "skf = RepeatedStratifiedKFold(n_splits=10, n_repeats=1, random_state=42)"
   ]
  },
  {
   "cell_type": "markdown",
   "id": "18aa14c8",
   "metadata": {
    "papermill": {
     "duration": 0.015373,
     "end_time": "2024-07-17T20:04:09.171503",
     "exception": false,
     "start_time": "2024-07-17T20:04:09.156130",
     "status": "completed"
    },
    "tags": []
   },
   "source": [
    "Then, we define a basic model (`LogisticRegression`) and run a cross-validation routine."
   ]
  },
  {
   "cell_type": "code",
   "execution_count": 20,
   "id": "c7bf03e9",
   "metadata": {
    "execution": {
     "iopub.execute_input": "2024-07-17T20:04:09.204104Z",
     "iopub.status.busy": "2024-07-17T20:04:09.203814Z",
     "iopub.status.idle": "2024-07-17T20:05:28.685076Z",
     "shell.execute_reply": "2024-07-17T20:05:28.684183Z"
    },
    "papermill": {
     "duration": 79.516009,
     "end_time": "2024-07-17T20:05:28.702985",
     "exception": false,
     "start_time": "2024-07-17T20:04:09.186976",
     "status": "completed"
    },
    "tags": []
   },
   "outputs": [
    {
     "name": "stdout",
     "output_type": "stream",
     "text": [
      "The 10-fold average oof ROC-AUC score of the Logistic Regression model is 0.830313654466828\n",
      "The 10-fold std oof ROC-AUC score of the Logistic Regression model is 0.0004703269630647106\n",
      "CPU times: user 3.79 s, sys: 1.68 s, total: 5.48 s\n",
      "Wall time: 1min 19s\n"
     ]
    },
    {
     "data": {
      "text/plain": [
       "4006"
      ]
     },
     "execution_count": 20,
     "metadata": {},
     "output_type": "execute_result"
    }
   ],
   "source": [
    "%%time\n",
    "LR_md = Pipeline([('stand', StandardScaler()), \n",
    "                  ('LR', LogisticRegression(C=0.1,\n",
    "                                            solver='newton-cholesky'))])\n",
    "\n",
    "LR_cv = cross_val_score(LR_md, X, Y, cv=skf, scoring='roc_auc', n_jobs=-1)\n",
    "\n",
    "print(f\"The 10-fold average oof ROC-AUC score of the Logistic Regression model is {LR_cv.mean()}\")\n",
    "print(f\"The 10-fold std oof ROC-AUC score of the Logistic Regression model is {LR_cv.std()}\")\n",
    "gc.collect()"
   ]
  },
  {
   "cell_type": "markdown",
   "id": "f22d2e53",
   "metadata": {
    "papermill": {
     "duration": 0.015499,
     "end_time": "2024-07-17T20:05:28.734213",
     "exception": false,
     "start_time": "2024-07-17T20:05:28.718714",
     "status": "completed"
    },
    "tags": []
   },
   "source": [
    "It's worth noting that in the above model discussed, all features were treated as numeric (or integers). However, as per the data description, features like `Region_Code`, `Policy_Sales_Channel`, and a few others are actually categorical. This shift in feature nature is a crucial step in our model building process, and we'll be using `TargetEncoder` to model these features and further improve model performance."
   ]
  },
  {
   "cell_type": "code",
   "execution_count": 21,
   "id": "ff5362db",
   "metadata": {
    "execution": {
     "iopub.execute_input": "2024-07-17T20:05:28.767190Z",
     "iopub.status.busy": "2024-07-17T20:05:28.766776Z",
     "iopub.status.idle": "2024-07-17T20:10:22.035959Z",
     "shell.execute_reply": "2024-07-17T20:10:22.034989Z"
    },
    "papermill": {
     "duration": 293.304401,
     "end_time": "2024-07-17T20:10:22.054252",
     "exception": false,
     "start_time": "2024-07-17T20:05:28.749851",
     "status": "completed"
    },
    "tags": []
   },
   "outputs": [
    {
     "name": "stdout",
     "output_type": "stream",
     "text": [
      "The 10-fold average oof ROC-AUC score of the Logistic Regression model is 0.8528281285012664\n",
      "The 10-fold std oof ROC-AUC score of the Logistic Regression model is 0.00048586136810261277\n",
      "CPU times: user 22.8 s, sys: 4.94 s, total: 27.8 s\n",
      "Wall time: 4min 53s\n"
     ]
    }
   ],
   "source": [
    "%%time\n",
    "def converting_datatypes(df, df_train=False):\n",
    "    \n",
    "    df = df.copy()\n",
    "    \n",
    "    if df_train==False:\n",
    "        \n",
    "        df['Policy_Sales_Channel'] = np.where(df['Policy_Sales_Channel']==144., 145., df['Policy_Sales_Channel'])\n",
    "        df['Policy_Sales_Channel'] = np.where(df['Policy_Sales_Channel']==149., 150., df['Policy_Sales_Channel'])\n",
    "\n",
    "    keys = np.sort(df['Region_Code'].unique()).tolist()\n",
    "    values = [i for i in keys]\n",
    "    region_code_dictionary = {}\n",
    "    for key, value in zip(keys, values):\n",
    "        region_code_dictionary[key] = 'code_' + str(value)\n",
    "\n",
    "    keys = np.sort(df['Policy_Sales_Channel'].unique()).tolist()\n",
    "    values = [i for i in keys]\n",
    "    sales_channel_dictionary = {}\n",
    "    for key, value in zip(keys, values):\n",
    "        sales_channel_dictionary[key] = 'code_' + str(value)\n",
    "    \n",
    "    df['Age'] = df['Age'].astype('int8')\n",
    "    df['Driving_License'] = df['Driving_License'].astype('int8')\n",
    "    df['Region_Code'] = df['Region_Code'].map(region_code_dictionary).astype('category')\n",
    "    df['Previously_Insured'] = df['Previously_Insured'].astype('int8')\n",
    "    df['Annual_Premium'] = df['Annual_Premium'].astype('int32')\n",
    "    df['Policy_Sales_Channel'] = df['Policy_Sales_Channel'].map(sales_channel_dictionary).astype('category')\n",
    "    df['Vintage'] = df['Vintage'].astype('int16')\n",
    "    df['Gender'] = df['Gender'].astype('category')\n",
    "    df['Vehicle_Age'] = df['Vehicle_Age'].astype('category')\n",
    "    df['Vehicle_Damage'] = df['Vehicle_Damage'].astype('category')\n",
    "\n",
    "    if df_train==True:\n",
    "\n",
    "        df['Response'] = df['Response'].astype('int8')\n",
    "\n",
    "    return df\n",
    "\n",
    "train = pd.read_csv('../input/playground-series-s4e7/train.csv', index_col=0)\n",
    "train = converting_datatypes(train, df_train=True)\n",
    "\n",
    "X = train.drop(columns=['Response'], axis=1)\n",
    "Y = train['Response']\n",
    "\n",
    "step_1 = ColumnTransformer([('stand', StandardScaler(), ['Age', 'Annual_Premium', 'Vintage'])],\n",
    "                            remainder='passthrough', verbose_feature_names_out=False).set_output(transform='pandas')\n",
    "\n",
    "step_2 = ColumnTransformer([('poly', PolynomialFeatures(include_bias=False),\n",
    "                            ['Age', 'Annual_Premium', 'Vintage'])],\n",
    "                            remainder='passthrough', verbose_feature_names_out=False).set_output(transform='pandas')\n",
    "\n",
    "step_3 = ColumnTransformer([('target_encoder', TargetEncoder(smoothing=30), ['Gender', 'Vehicle_Age', 'Vehicle_Damage', \n",
    "                                                                             'Region_Code', 'Policy_Sales_Channel'])],\n",
    "                            remainder='passthrough').set_output(transform='pandas')\n",
    "\n",
    "feature_trans = Pipeline([('step-1', step_1),\n",
    "                          ('step-2', step_2),\n",
    "                          ('step-3', step_3)])\n",
    "\n",
    "LR_md = Pipeline([('transformations', feature_trans),\n",
    "                  ('LR', LogisticRegression(C=0.1,\n",
    "                                            solver='newton-cholesky'))])\n",
    "\n",
    "LR_cv = cross_val_score(LR_md, X, Y, cv=skf, scoring='roc_auc', n_jobs=-1)\n",
    "\n",
    "print(f\"The 10-fold average oof ROC-AUC score of the Logistic Regression model is {LR_cv.mean()}\")\n",
    "print(f\"The 10-fold std oof ROC-AUC score of the Logistic Regression model is {LR_cv.std()}\")"
   ]
  },
  {
   "cell_type": "code",
   "execution_count": 22,
   "id": "8583c048",
   "metadata": {
    "execution": {
     "iopub.execute_input": "2024-07-17T20:10:22.087786Z",
     "iopub.status.busy": "2024-07-17T20:10:22.087142Z",
     "iopub.status.idle": "2024-07-17T20:11:56.687103Z",
     "shell.execute_reply": "2024-07-17T20:11:56.686162Z"
    },
    "papermill": {
     "duration": 94.635722,
     "end_time": "2024-07-17T20:11:56.705923",
     "exception": false,
     "start_time": "2024-07-17T20:10:22.070201",
     "status": "completed"
    },
    "tags": []
   },
   "outputs": [
    {
     "name": "stdout",
     "output_type": "stream",
     "text": [
      "CPU times: user 1min 36s, sys: 20.9 s, total: 1min 57s\n",
      "Wall time: 1min 34s\n"
     ]
    },
    {
     "data": {
      "text/html": [
       "<div>\n",
       "<style scoped>\n",
       "    .dataframe tbody tr th:only-of-type {\n",
       "        vertical-align: middle;\n",
       "    }\n",
       "\n",
       "    .dataframe tbody tr th {\n",
       "        vertical-align: top;\n",
       "    }\n",
       "\n",
       "    .dataframe thead th {\n",
       "        text-align: right;\n",
       "    }\n",
       "</style>\n",
       "<table border=\"1\" class=\"dataframe\">\n",
       "  <thead>\n",
       "    <tr style=\"text-align: right;\">\n",
       "      <th></th>\n",
       "      <th>id</th>\n",
       "      <th>Response</th>\n",
       "    </tr>\n",
       "  </thead>\n",
       "  <tbody>\n",
       "    <tr>\n",
       "      <th>0</th>\n",
       "      <td>11504798</td>\n",
       "      <td>0.011655</td>\n",
       "    </tr>\n",
       "    <tr>\n",
       "      <th>1</th>\n",
       "      <td>11504799</td>\n",
       "      <td>0.352271</td>\n",
       "    </tr>\n",
       "    <tr>\n",
       "      <th>2</th>\n",
       "      <td>11504800</td>\n",
       "      <td>0.270829</td>\n",
       "    </tr>\n",
       "    <tr>\n",
       "      <th>3</th>\n",
       "      <td>11504801</td>\n",
       "      <td>0.000286</td>\n",
       "    </tr>\n",
       "    <tr>\n",
       "      <th>4</th>\n",
       "      <td>11504802</td>\n",
       "      <td>0.055286</td>\n",
       "    </tr>\n",
       "  </tbody>\n",
       "</table>\n",
       "</div>"
      ],
      "text/plain": [
       "         id  Response\n",
       "0  11504798  0.011655\n",
       "1  11504799  0.352271\n",
       "2  11504800  0.270829\n",
       "3  11504801  0.000286\n",
       "4  11504802  0.055286"
      ]
     },
     "execution_count": 22,
     "metadata": {},
     "output_type": "execute_result"
    }
   ],
   "source": [
    "%%time\n",
    "LR_fit = LR_md.fit(X, Y)\n",
    "\n",
    "test_cv = converting_datatypes(test, df_train=False)\n",
    "LR_pred = LR_fit.predict_proba(test_cv)[:, 1]\n",
    "\n",
    "submission = pd.read_csv('../input/playground-series-s4e7/sample_submission.csv')\n",
    "submission['Response'] = LR_pred\n",
    "submission.head()"
   ]
  },
  {
   "cell_type": "code",
   "execution_count": 23,
   "id": "071d7917",
   "metadata": {
    "execution": {
     "iopub.execute_input": "2024-07-17T20:11:56.739767Z",
     "iopub.status.busy": "2024-07-17T20:11:56.739444Z",
     "iopub.status.idle": "2024-07-17T20:12:19.206566Z",
     "shell.execute_reply": "2024-07-17T20:12:19.205720Z"
    },
    "papermill": {
     "duration": 22.486543,
     "end_time": "2024-07-17T20:12:19.208831",
     "exception": false,
     "start_time": "2024-07-17T20:11:56.722288",
     "status": "completed"
    },
    "tags": []
   },
   "outputs": [
    {
     "data": {
      "text/plain": [
       "85"
      ]
     },
     "execution_count": 23,
     "metadata": {},
     "output_type": "execute_result"
    }
   ],
   "source": [
    "submission.to_csv('baseline_sub_1.csv', index=False)\n",
    "gc.collect()"
   ]
  },
  {
   "cell_type": "markdown",
   "id": "b4dc852e",
   "metadata": {
    "papermill": {
     "duration": 0.016413,
     "end_time": "2024-07-17T20:12:19.242372",
     "exception": false,
     "start_time": "2024-07-17T20:12:19.225959",
     "status": "completed"
    },
    "tags": []
   },
   "source": [
    "# Baseline Modeling 2.0\n",
    "\n",
    "First, we preprocess the data as follows."
   ]
  },
  {
   "cell_type": "code",
   "execution_count": 24,
   "id": "3134e22c",
   "metadata": {
    "execution": {
     "iopub.execute_input": "2024-07-17T20:12:19.276297Z",
     "iopub.status.busy": "2024-07-17T20:12:19.275893Z",
     "iopub.status.idle": "2024-07-17T20:12:50.917301Z",
     "shell.execute_reply": "2024-07-17T20:12:50.916425Z"
    },
    "papermill": {
     "duration": 31.677309,
     "end_time": "2024-07-17T20:12:50.936046",
     "exception": false,
     "start_time": "2024-07-17T20:12:19.258737",
     "status": "completed"
    },
    "tags": []
   },
   "outputs": [
    {
     "name": "stdout",
     "output_type": "stream",
     "text": [
      "CPU times: user 27.5 s, sys: 4.17 s, total: 31.6 s\n",
      "Wall time: 31.6 s\n"
     ]
    }
   ],
   "source": [
    "%%time\n",
    "def converting_datatypes(df, df_train=False):\n",
    "    \n",
    "    df = df.copy()\n",
    "    \n",
    "    if df_train==False:\n",
    "        \n",
    "        df['Policy_Sales_Channel'] = np.where(df['Policy_Sales_Channel']==144., 145., df['Policy_Sales_Channel'])\n",
    "        df['Policy_Sales_Channel'] = np.where(df['Policy_Sales_Channel']==149., 150., df['Policy_Sales_Channel'])\n",
    "    \n",
    "    df['Age'] = df['Age'].astype('int8')\n",
    "    df['Driving_License'] = df['Driving_License'].astype('int8')\n",
    "    df['Region_Code'] = df['Region_Code'].astype('int8')\n",
    "    df['Previously_Insured'] = df['Previously_Insured'].astype('int8')\n",
    "    df['Annual_Premium'] = df['Annual_Premium'].astype('int32')\n",
    "    df['Policy_Sales_Channel'] = df['Policy_Sales_Channel'].astype('int16')\n",
    "    df['Vintage'] = df['Vintage'].astype('int16')\n",
    "\n",
    "    df['Gender'] = df['Gender'].map({'Female': 0, 'Male': 1}).astype('int8')\n",
    "\n",
    "    df['Vehicle_Age'] = df['Vehicle_Age'].map({'< 1 Year': 0, \n",
    "                                               '1-2 Year': 1,\n",
    "                                               '> 2 Years': 2}).astype('int8')\n",
    "\n",
    "    df['Vehicle_Damage'] = df['Vehicle_Damage'].map({'No': 0, 'Yes': 1}).astype('int8')\n",
    "\n",
    "    if df_train==True:\n",
    "\n",
    "        df['Response'] = df['Response'].astype('int8')\n",
    "\n",
    "    return df\n",
    "\n",
    "train = pd.read_csv('../input/playground-series-s4e7/train.csv', index_col=0)\n",
    "train = converting_datatypes(train, df_train=True)\n",
    "\n",
    "test = pd.read_csv('../input/playground-series-s4e7/test.csv', index_col=0)\n",
    "test = converting_datatypes(test, df_train=False)\n",
    "\n",
    "X = train.drop(columns=['Response'], axis=1)\n",
    "Y = train['Response']"
   ]
  },
  {
   "cell_type": "markdown",
   "id": "9cf708db",
   "metadata": {
    "papermill": {
     "duration": 0.016257,
     "end_time": "2024-07-17T20:12:50.968826",
     "exception": false,
     "start_time": "2024-07-17T20:12:50.952569",
     "status": "completed"
    },
    "tags": []
   },
   "source": [
    "Then, we run the usual cross-validation over 10-folds using a tuned `XGBClassififer` model."
   ]
  },
  {
   "cell_type": "code",
   "execution_count": 25,
   "id": "1ee6544b",
   "metadata": {
    "execution": {
     "iopub.execute_input": "2024-07-17T20:12:51.003279Z",
     "iopub.status.busy": "2024-07-17T20:12:51.002533Z",
     "iopub.status.idle": "2024-07-17T20:38:47.397084Z",
     "shell.execute_reply": "2024-07-17T20:38:47.395997Z"
    },
    "papermill": {
     "duration": 1556.414186,
     "end_time": "2024-07-17T20:38:47.399276",
     "exception": false,
     "start_time": "2024-07-17T20:12:50.985090",
     "status": "completed"
    },
    "tags": []
   },
   "outputs": [
    {
     "name": "stdout",
     "output_type": "stream",
     "text": [
      "------------ Working on Fold 0 ------------\n",
      "The oof ROC-AUC score is 0.8855562832281489\n",
      "------------ Working on Fold 1 ------------\n",
      "The oof ROC-AUC score is 0.8857512805974903\n",
      "------------ Working on Fold 2 ------------\n",
      "The oof ROC-AUC score is 0.8857288142109003\n",
      "------------ Working on Fold 3 ------------\n",
      "The oof ROC-AUC score is 0.8852139411864459\n",
      "------------ Working on Fold 4 ------------\n",
      "The oof ROC-AUC score is 0.8853219992145747\n",
      "------------ Working on Fold 5 ------------\n",
      "The oof ROC-AUC score is 0.8860572414718169\n",
      "------------ Working on Fold 6 ------------\n",
      "The oof ROC-AUC score is 0.8853326816180389\n",
      "------------ Working on Fold 7 ------------\n",
      "The oof ROC-AUC score is 0.8856468192729403\n",
      "------------ Working on Fold 8 ------------\n",
      "The oof ROC-AUC score is 0.886460027258858\n",
      "------------ Working on Fold 9 ------------\n",
      "The oof ROC-AUC score is 0.886183136881322\n",
      "The 10-fold average oof ROC-AUC score of the XGBClassifier model is 0.8857252224940536\n",
      "The 10-fold std oof ROC-AUC score of the XGBClassifier model is 0.0003838392402864361\n",
      "CPU times: user 26min 35s, sys: 14.6 s, total: 26min 50s\n",
      "Wall time: 25min 56s\n"
     ]
    }
   ],
   "source": [
    "%%time\n",
    "params = {'device': 'cuda',\n",
    "          'max_depth': 15, \n",
    "          'learning_rate': 0.05685820957612027, \n",
    "          'gamma': 0.03555294130911486, \n",
    "          'alpha': 3.08060204795093, \n",
    "          'min_child_weight': 83, \n",
    "          'max_bin': 10000, \n",
    "          'colsample_bytree': 0.948672654438626, \n",
    "          'subsample': 0.7661213515695401, \n",
    "          'n_jobs': -1}\n",
    "\n",
    "skf = RepeatedStratifiedKFold(n_splits=10, n_repeats=1, random_state=42)\n",
    "scores, test_preds = list(), list()\n",
    "for i, (train_index, test_index) in enumerate(skf.split(X, Y)):\n",
    "    \n",
    "    print(f\"------------ Working on Fold {i} ------------\")\n",
    "    \n",
    "    X_train, X_test = X.iloc[train_index], X.iloc[test_index]\n",
    "    y_train, y_test = Y[train_index], Y.iloc[test_index]\n",
    "            \n",
    "    dtrain = xgb.DMatrix(X_train, label=y_train)\n",
    "    dvalid = xgb.DMatrix(X_test, label=y_test)\n",
    "    dtest = xgb.DMatrix(test)\n",
    "            \n",
    "    xgb_md = xgb.train(params, dtrain, num_boost_round=500, evals=[(dvalid, 'validation')], verbose_eval=False)\n",
    "    preds = xgb_md.predict(dvalid)\n",
    "    score = roc_auc_score(y_test, preds)\n",
    "    print(f\"The oof ROC-AUC score is {score}\")\n",
    "    scores.append(score)\n",
    "    \n",
    "    test_preds.append(xgb_md.predict(dtest))\n",
    "    \n",
    "print(f\"The 10-fold average oof ROC-AUC score of the XGBClassifier model is {np.mean(scores)}\")\n",
    "print(f\"The 10-fold std oof ROC-AUC score of the XGBClassifier model is {np.std(scores)}\")"
   ]
  },
  {
   "cell_type": "code",
   "execution_count": 26,
   "id": "0dcbee7f",
   "metadata": {
    "execution": {
     "iopub.execute_input": "2024-07-17T20:38:47.437986Z",
     "iopub.status.busy": "2024-07-17T20:38:47.437151Z",
     "iopub.status.idle": "2024-07-17T20:38:49.230141Z",
     "shell.execute_reply": "2024-07-17T20:38:49.229087Z"
    },
    "papermill": {
     "duration": 1.814436,
     "end_time": "2024-07-17T20:38:49.232192",
     "exception": false,
     "start_time": "2024-07-17T20:38:47.417756",
     "status": "completed"
    },
    "tags": []
   },
   "outputs": [
    {
     "name": "stdout",
     "output_type": "stream",
     "text": [
      "CPU times: user 1.68 s, sys: 96 ms, total: 1.77 s\n",
      "Wall time: 1.78 s\n"
     ]
    },
    {
     "data": {
      "text/html": [
       "<div>\n",
       "<style scoped>\n",
       "    .dataframe tbody tr th:only-of-type {\n",
       "        vertical-align: middle;\n",
       "    }\n",
       "\n",
       "    .dataframe tbody tr th {\n",
       "        vertical-align: top;\n",
       "    }\n",
       "\n",
       "    .dataframe thead th {\n",
       "        text-align: right;\n",
       "    }\n",
       "</style>\n",
       "<table border=\"1\" class=\"dataframe\">\n",
       "  <thead>\n",
       "    <tr style=\"text-align: right;\">\n",
       "      <th></th>\n",
       "      <th>id</th>\n",
       "      <th>Response</th>\n",
       "    </tr>\n",
       "  </thead>\n",
       "  <tbody>\n",
       "    <tr>\n",
       "      <th>0</th>\n",
       "      <td>11504798</td>\n",
       "      <td>-0.000204</td>\n",
       "    </tr>\n",
       "    <tr>\n",
       "      <th>1</th>\n",
       "      <td>11504799</td>\n",
       "      <td>0.508107</td>\n",
       "    </tr>\n",
       "    <tr>\n",
       "      <th>2</th>\n",
       "      <td>11504800</td>\n",
       "      <td>0.250753</td>\n",
       "    </tr>\n",
       "    <tr>\n",
       "      <th>3</th>\n",
       "      <td>11504801</td>\n",
       "      <td>0.001874</td>\n",
       "    </tr>\n",
       "    <tr>\n",
       "      <th>4</th>\n",
       "      <td>11504802</td>\n",
       "      <td>0.092215</td>\n",
       "    </tr>\n",
       "  </tbody>\n",
       "</table>\n",
       "</div>"
      ],
      "text/plain": [
       "         id  Response\n",
       "0  11504798 -0.000204\n",
       "1  11504799  0.508107\n",
       "2  11504800  0.250753\n",
       "3  11504801  0.001874\n",
       "4  11504802  0.092215"
      ]
     },
     "execution_count": 26,
     "metadata": {},
     "output_type": "execute_result"
    }
   ],
   "source": [
    "%%time\n",
    "submission = pd.read_csv('../input/playground-series-s4e7/sample_submission.csv')\n",
    "submission['Response'] = np.mean(test_preds, axis=0)\n",
    "submission.head()"
   ]
  },
  {
   "cell_type": "code",
   "execution_count": 27,
   "id": "0ebf4c8c",
   "metadata": {
    "execution": {
     "iopub.execute_input": "2024-07-17T20:38:49.272798Z",
     "iopub.status.busy": "2024-07-17T20:38:49.272477Z",
     "iopub.status.idle": "2024-07-17T20:39:06.548602Z",
     "shell.execute_reply": "2024-07-17T20:39:06.547664Z"
    },
    "papermill": {
     "duration": 17.297767,
     "end_time": "2024-07-17T20:39:06.550811",
     "exception": false,
     "start_time": "2024-07-17T20:38:49.253044",
     "status": "completed"
    },
    "tags": []
   },
   "outputs": [
    {
     "data": {
      "text/plain": [
       "71"
      ]
     },
     "execution_count": 27,
     "metadata": {},
     "output_type": "execute_result"
    }
   ],
   "source": [
    "submission.to_csv('baseline_sub_2.csv', index=False)\n",
    "gc.collect()"
   ]
  },
  {
   "cell_type": "markdown",
   "id": "49d8b146",
   "metadata": {
    "papermill": {
     "duration": 0.018676,
     "end_time": "2024-07-17T20:39:06.588426",
     "exception": false,
     "start_time": "2024-07-17T20:39:06.569750",
     "status": "completed"
    },
    "tags": []
   },
   "source": [
    "# Baseline Modeling 3.0\n",
    "\n",
    "First, we preprocess the data as follows. Notice that we indclude four interactions features as suggested in [here](https://www.kaggle.com/code/rohanrao/automl-grand-prix-1st-place-solution)."
   ]
  },
  {
   "cell_type": "code",
   "execution_count": 28,
   "id": "9fe863e0",
   "metadata": {
    "execution": {
     "iopub.execute_input": "2024-07-17T20:39:06.626328Z",
     "iopub.status.busy": "2024-07-17T20:39:06.626030Z",
     "iopub.status.idle": "2024-07-17T20:39:38.708883Z",
     "shell.execute_reply": "2024-07-17T20:39:38.708018Z"
    },
    "papermill": {
     "duration": 32.104569,
     "end_time": "2024-07-17T20:39:38.711310",
     "exception": false,
     "start_time": "2024-07-17T20:39:06.606741",
     "status": "completed"
    },
    "tags": []
   },
   "outputs": [],
   "source": [
    "def converting_datatypes(df, df_train=False):\n",
    "    \n",
    "    df = df.copy()\n",
    "    \n",
    "    if df_train==False:\n",
    "        \n",
    "        df['Policy_Sales_Channel'] = np.where(df['Policy_Sales_Channel']==144., 145., df['Policy_Sales_Channel'])\n",
    "        df['Policy_Sales_Channel'] = np.where(df['Policy_Sales_Channel']==149., 150., df['Policy_Sales_Channel'])\n",
    "\n",
    "    df['Age'] = df['Age'].astype('int8')\n",
    "    df['Driving_License'] = df['Driving_License'].astype('int8')\n",
    "    df['Region_Code'] = df['Region_Code'].astype('int8')\n",
    "    df['Previously_Insured'] = df['Previously_Insured'].astype('int8')\n",
    "    df['Annual_Premium'] = df['Annual_Premium'].astype('int32')\n",
    "    df['Policy_Sales_Channel'] = df['Policy_Sales_Channel'].astype('int16')\n",
    "    df['Vintage'] = df['Vintage'].astype('int16')\n",
    "\n",
    "    df['Gender'] = df['Gender'].map({'Female': 0, 'Male': 1}).astype('int8')\n",
    "\n",
    "    df['Vehicle_Age'] = df['Vehicle_Age'].map({'< 1 Year': 0, \n",
    "                                               '1-2 Year': 1,\n",
    "                                               '> 2 Years': 2}).astype('int8')\n",
    "\n",
    "    df['Vehicle_Damage'] = df['Vehicle_Damage'].map({'No': 0, 'Yes': 1}).astype('int8')\n",
    "\n",
    "    if df_train==True:\n",
    "\n",
    "        df['Response'] = df['Response'].astype('int8')\n",
    "\n",
    "    return df\n",
    "\n",
    "\n",
    "def fe(df_train, df_test):\n",
    "\n",
    "    n = df_train.shape[0]\n",
    "    df_tot = pd.concat([df_train, df_test], axis=0).reset_index(drop=True)\n",
    "    \n",
    "    df_tot['interaction_1'] = pd.factorize((df_tot['Previously_Insured'] + df_tot['Vehicle_Age']).to_numpy())[0]\n",
    "    df_tot['interaction_2'] = pd.factorize((df_tot['Previously_Insured'] + df_tot['Vehicle_Damage']).to_numpy())[0]\n",
    "    df_tot['interaction_3'] = pd.factorize((df_tot['Previously_Insured'] + df_tot['Vintage']).to_numpy())[0]\n",
    "    df_tot['interaction_4'] = pd.factorize((df_tot['Previously_Insured'] + df_tot['Annual_Premium']).to_numpy())[0]\n",
    "\n",
    "    return [df_tot[:n], df_tot[n:].drop(columns=['Response'], axis=1)]\n",
    "\n",
    "\n",
    "train = pd.read_csv('../input/playground-series-s4e7/train.csv', index_col=0)\n",
    "train = converting_datatypes(train, df_train=True)\n",
    "\n",
    "test = pd.read_csv('../input/playground-series-s4e7/test.csv', index_col=0)\n",
    "test = converting_datatypes(test, df_train=False)\n",
    "\n",
    "dat_tot = fe(train, test)\n",
    "train = dat_tot[0]\n",
    "test = dat_tot[1]\n",
    "\n",
    "X = train.drop(columns=['Response'], axis=1)\n",
    "Y = train['Response']"
   ]
  },
  {
   "cell_type": "markdown",
   "id": "43a858e2",
   "metadata": {
    "papermill": {
     "duration": 0.018522,
     "end_time": "2024-07-17T20:39:38.749063",
     "exception": false,
     "start_time": "2024-07-17T20:39:38.730541",
     "status": "completed"
    },
    "tags": []
   },
   "source": [
    "Then, we run the usual cross-validation over 10-folds using a tuned `XGBClassififer` model."
   ]
  },
  {
   "cell_type": "code",
   "execution_count": 29,
   "id": "c329bd5f",
   "metadata": {
    "execution": {
     "iopub.execute_input": "2024-07-17T20:39:38.787892Z",
     "iopub.status.busy": "2024-07-17T20:39:38.787506Z",
     "iopub.status.idle": "2024-07-18T00:49:35.359018Z",
     "shell.execute_reply": "2024-07-18T00:49:35.357898Z"
    },
    "papermill": {
     "duration": 14996.593743,
     "end_time": "2024-07-18T00:49:35.361306",
     "exception": false,
     "start_time": "2024-07-17T20:39:38.767563",
     "status": "completed"
    },
    "tags": []
   },
   "outputs": [
    {
     "name": "stdout",
     "output_type": "stream",
     "text": [
      "------------ Working on Fold 0 ------------\n",
      "The oof ROC-AUC score is 0.8882181089386566\n",
      "------------ Working on Fold 1 ------------\n",
      "The oof ROC-AUC score is 0.8883960253795664\n",
      "------------ Working on Fold 2 ------------\n",
      "The oof ROC-AUC score is 0.8886411822804661\n",
      "------------ Working on Fold 3 ------------\n",
      "The oof ROC-AUC score is 0.8879769437310358\n",
      "------------ Working on Fold 4 ------------\n",
      "The oof ROC-AUC score is 0.8883126075016299\n",
      "------------ Working on Fold 5 ------------\n",
      "The oof ROC-AUC score is 0.8889729241594897\n",
      "------------ Working on Fold 6 ------------\n",
      "The oof ROC-AUC score is 0.8880476760659699\n",
      "------------ Working on Fold 7 ------------\n",
      "The oof ROC-AUC score is 0.8885474419268197\n",
      "------------ Working on Fold 8 ------------\n",
      "The oof ROC-AUC score is 0.8890670966980893\n",
      "------------ Working on Fold 9 ------------\n",
      "The oof ROC-AUC score is 0.8888792571883263\n",
      "The 10-fold average oof ROC-AUC score of the XGBClassifier model is 0.888505926387005\n",
      "The 10-fold std oof ROC-AUC score of the XGBClassifier model is 0.00036256005502852037\n",
      "CPU times: user 4h 10min 44s, sys: 32.8 s, total: 4h 11min 17s\n",
      "Wall time: 4h 9min 56s\n"
     ]
    }
   ],
   "source": [
    "%%time\n",
    "params = {'device': 'cuda',\n",
    "          'max_depth': 15, \n",
    "          'learning_rate': 0.02, \n",
    "          'gamma': 0.03555294130911486, \n",
    "          'alpha': 3.08060204795093, \n",
    "          'min_child_weight': 70, \n",
    "          'max_bin': 200000, \n",
    "          'colsample_bytree': 0.948672654438626, \n",
    "          'subsample': 0.7661213515695401, \n",
    "          'n_jobs': -1}\n",
    "\n",
    "skf = RepeatedStratifiedKFold(n_splits=10, n_repeats=1, random_state=42)\n",
    "scores, test_preds = list(), list()\n",
    "for i, (train_index, test_index) in enumerate(skf.split(X, Y)):\n",
    "    \n",
    "    print(f\"------------ Working on Fold {i} ------------\")\n",
    "    \n",
    "    X_train, X_test = X.iloc[train_index], X.iloc[test_index]\n",
    "    y_train, y_test = Y[train_index], Y.iloc[test_index]\n",
    "            \n",
    "    dtrain = xgb.DMatrix(X_train, label=y_train)\n",
    "    dvalid = xgb.DMatrix(X_test, label=y_test)\n",
    "    dtest = xgb.DMatrix(test)\n",
    "            \n",
    "    xgb_md = xgb.train(params, dtrain, num_boost_round=1500, evals=[(dvalid, 'validation')], verbose_eval=False)\n",
    "    preds = xgb_md.predict(dvalid)\n",
    "    score = roc_auc_score(y_test, preds)\n",
    "    print(f\"The oof ROC-AUC score is {score}\")\n",
    "    scores.append(score)\n",
    "    \n",
    "    test_preds.append(xgb_md.predict(dtest))\n",
    "    \n",
    "print(f\"The 10-fold average oof ROC-AUC score of the XGBClassifier model is {np.mean(scores)}\")\n",
    "print(f\"The 10-fold std oof ROC-AUC score of the XGBClassifier model is {np.std(scores)}\")"
   ]
  },
  {
   "cell_type": "code",
   "execution_count": 30,
   "id": "38f4b087",
   "metadata": {
    "execution": {
     "iopub.execute_input": "2024-07-18T00:49:35.404223Z",
     "iopub.status.busy": "2024-07-18T00:49:35.403904Z",
     "iopub.status.idle": "2024-07-18T00:49:37.189400Z",
     "shell.execute_reply": "2024-07-18T00:49:37.188454Z"
    },
    "papermill": {
     "duration": 1.809179,
     "end_time": "2024-07-18T00:49:37.191471",
     "exception": false,
     "start_time": "2024-07-18T00:49:35.382292",
     "status": "completed"
    },
    "tags": []
   },
   "outputs": [
    {
     "name": "stdout",
     "output_type": "stream",
     "text": [
      "CPU times: user 1.67 s, sys: 105 ms, total: 1.77 s\n",
      "Wall time: 1.78 s\n"
     ]
    },
    {
     "data": {
      "text/html": [
       "<div>\n",
       "<style scoped>\n",
       "    .dataframe tbody tr th:only-of-type {\n",
       "        vertical-align: middle;\n",
       "    }\n",
       "\n",
       "    .dataframe tbody tr th {\n",
       "        vertical-align: top;\n",
       "    }\n",
       "\n",
       "    .dataframe thead th {\n",
       "        text-align: right;\n",
       "    }\n",
       "</style>\n",
       "<table border=\"1\" class=\"dataframe\">\n",
       "  <thead>\n",
       "    <tr style=\"text-align: right;\">\n",
       "      <th></th>\n",
       "      <th>id</th>\n",
       "      <th>Response</th>\n",
       "    </tr>\n",
       "  </thead>\n",
       "  <tbody>\n",
       "    <tr>\n",
       "      <th>0</th>\n",
       "      <td>11504798</td>\n",
       "      <td>0.002625</td>\n",
       "    </tr>\n",
       "    <tr>\n",
       "      <th>1</th>\n",
       "      <td>11504799</td>\n",
       "      <td>0.571922</td>\n",
       "    </tr>\n",
       "    <tr>\n",
       "      <th>2</th>\n",
       "      <td>11504800</td>\n",
       "      <td>0.235804</td>\n",
       "    </tr>\n",
       "    <tr>\n",
       "      <th>3</th>\n",
       "      <td>11504801</td>\n",
       "      <td>0.002423</td>\n",
       "    </tr>\n",
       "    <tr>\n",
       "      <th>4</th>\n",
       "      <td>11504802</td>\n",
       "      <td>0.153609</td>\n",
       "    </tr>\n",
       "  </tbody>\n",
       "</table>\n",
       "</div>"
      ],
      "text/plain": [
       "         id  Response\n",
       "0  11504798  0.002625\n",
       "1  11504799  0.571922\n",
       "2  11504800  0.235804\n",
       "3  11504801  0.002423\n",
       "4  11504802  0.153609"
      ]
     },
     "execution_count": 30,
     "metadata": {},
     "output_type": "execute_result"
    }
   ],
   "source": [
    "%%time\n",
    "submission = pd.read_csv('../input/playground-series-s4e7/sample_submission.csv')\n",
    "submission['Response'] = np.mean(test_preds, axis=0)\n",
    "submission.head()"
   ]
  },
  {
   "cell_type": "code",
   "execution_count": 31,
   "id": "f971170e",
   "metadata": {
    "execution": {
     "iopub.execute_input": "2024-07-18T00:49:37.234624Z",
     "iopub.status.busy": "2024-07-18T00:49:37.234351Z",
     "iopub.status.idle": "2024-07-18T00:49:54.424038Z",
     "shell.execute_reply": "2024-07-18T00:49:54.423182Z"
    },
    "papermill": {
     "duration": 17.2135,
     "end_time": "2024-07-18T00:49:54.426230",
     "exception": false,
     "start_time": "2024-07-18T00:49:37.212730",
     "status": "completed"
    },
    "tags": []
   },
   "outputs": [
    {
     "data": {
      "text/plain": [
       "80"
      ]
     },
     "execution_count": 31,
     "metadata": {},
     "output_type": "execute_result"
    }
   ],
   "source": [
    "submission.to_csv('baseline_sub_3.csv', index=False)\n",
    "gc.collect()"
   ]
  }
 ],
 "metadata": {
  "kaggle": {
   "accelerator": "nvidiaTeslaT4",
   "dataSources": [
    {
     "databundleVersionId": 8930475,
     "sourceId": 73291,
     "sourceType": "competition"
    }
   ],
   "dockerImageVersionId": 30732,
   "isGpuEnabled": true,
   "isInternetEnabled": true,
   "language": "python",
   "sourceType": "notebook"
  },
  "kernelspec": {
   "display_name": "Python 3",
   "language": "python",
   "name": "python3"
  },
  "language_info": {
   "codemirror_mode": {
    "name": "ipython",
    "version": 3
   },
   "file_extension": ".py",
   "mimetype": "text/x-python",
   "name": "python",
   "nbconvert_exporter": "python",
   "pygments_lexer": "ipython3",
   "version": "3.10.13"
  },
  "papermill": {
   "default_parameters": {},
   "duration": 17353.209215,
   "end_time": "2024-07-18T00:49:57.301609",
   "environment_variables": {},
   "exception": null,
   "input_path": "__notebook__.ipynb",
   "output_path": "__notebook__.ipynb",
   "parameters": {},
   "start_time": "2024-07-17T20:00:44.092394",
   "version": "2.5.0"
  }
 },
 "nbformat": 4,
 "nbformat_minor": 5
}
