{
 "cells": [
  {
   "cell_type": "markdown",
   "id": "10f71a7a",
   "metadata": {
    "papermill": {
     "duration": 0.005565,
     "end_time": "2025-07-01T16:01:30.403730",
     "exception": false,
     "start_time": "2025-07-01T16:01:30.398165",
     "status": "completed"
    },
    "tags": []
   },
   "source": [
    "# Loading Libraries"
   ]
  },
  {
   "cell_type": "code",
   "execution_count": 1,
   "id": "a38690fe",
   "metadata": {
    "execution": {
     "iopub.execute_input": "2025-07-01T16:01:30.414177Z",
     "iopub.status.busy": "2025-07-01T16:01:30.413930Z",
     "iopub.status.idle": "2025-07-01T16:01:42.093770Z",
     "shell.execute_reply": "2025-07-01T16:01:42.092884Z"
    },
    "papermill": {
     "duration": 11.686331,
     "end_time": "2025-07-01T16:01:42.095069",
     "exception": false,
     "start_time": "2025-07-01T16:01:30.408738",
     "status": "completed"
    },
    "tags": []
   },
   "outputs": [
    {
     "name": "stdout",
     "output_type": "stream",
     "text": [
      "CPU times: user 6.06 s, sys: 2.9 s, total: 8.96 s\n",
      "Wall time: 11.7 s\n"
     ]
    }
   ],
   "source": [
    "%%time\n",
    "import pandas as pd; pd.set_option('display.max_columns', 100)\n",
    "import numpy as np\n",
    "\n",
    "from tqdm.notebook import tqdm\n",
    "import gc\n",
    "\n",
    "import warnings\n",
    "warnings.filterwarnings('ignore')\n",
    "\n",
    "from functools import partial\n",
    "import scipy as sp\n",
    "\n",
    "import matplotlib.pyplot as plt; plt.style.use('ggplot')\n",
    "import seaborn as sns\n",
    "import plotly.express as px\n",
    "\n",
    "from sklearn.tree import DecisionTreeClassifier, plot_tree\n",
    "from sklearn.preprocessing import MinMaxScaler, StandardScaler, LabelEncoder\n",
    "from sklearn.pipeline import make_pipeline\n",
    "from sklearn.model_selection import KFold, StratifiedKFold, cross_val_score, cross_val_predict\n",
    "from sklearn.metrics import roc_auc_score, roc_curve, RocCurveDisplay, cohen_kappa_score, log_loss, accuracy_score\n",
    "from sklearn.discriminant_analysis import LinearDiscriminantAnalysis, QuadraticDiscriminantAnalysis\n",
    "from sklearn.neighbors import KNeighborsClassifier\n",
    "from sklearn.feature_selection import RFE, RFECV\n",
    "from sklearn.isotonic import IsotonicRegression\n",
    "from sklearn.calibration import CalibrationDisplay\n",
    "from sklearn.inspection import PartialDependenceDisplay\n",
    "from sklearn.linear_model import LogisticRegression\n",
    "from collections import Counter\n",
    "from sklearn.ensemble import RandomForestClassifier, HistGradientBoostingClassifier, GradientBoostingClassifier, ExtraTreesClassifier\n",
    "from sklearn.svm import SVC, LinearSVC\n",
    "\n",
    "import lightgbm as lgb\n",
    "from lightgbm import LGBMClassifier, early_stopping, log_evaluation\n",
    "\n",
    "import xgboost as xgb\n",
    "from xgboost import XGBClassifier\n",
    "\n",
    "from catboost import CatBoostClassifier, Pool"
   ]
  },
  {
   "cell_type": "markdown",
   "id": "434871d8",
   "metadata": {
    "papermill": {
     "duration": 0.004173,
     "end_time": "2025-07-01T16:01:42.103706",
     "exception": false,
     "start_time": "2025-07-01T16:01:42.099533",
     "status": "completed"
    },
    "tags": []
   },
   "source": [
    "# Reading Data Files"
   ]
  },
  {
   "cell_type": "code",
   "execution_count": 2,
   "id": "7ba37216",
   "metadata": {
    "execution": {
     "iopub.execute_input": "2025-07-01T16:01:42.113522Z",
     "iopub.status.busy": "2025-07-01T16:01:42.112509Z",
     "iopub.status.idle": "2025-07-01T16:01:42.172222Z",
     "shell.execute_reply": "2025-07-01T16:01:42.171428Z"
    },
    "papermill": {
     "duration": 0.065637,
     "end_time": "2025-07-01T16:01:42.173364",
     "exception": false,
     "start_time": "2025-07-01T16:01:42.107727",
     "status": "completed"
    },
    "tags": []
   },
   "outputs": [
    {
     "name": "stdout",
     "output_type": "stream",
     "text": [
      "The dimension of the train dataset is: (18524, 8)\n",
      "The dimension of the test dataset is: (6175, 7)\n",
      "CPU times: user 17.9 ms, sys: 4.76 ms, total: 22.7 ms\n",
      "Wall time: 54.5 ms\n"
     ]
    }
   ],
   "source": [
    "%%time\n",
    "train = pd.read_csv('../input/playground-series-s5e7/train.csv', index_col=0)\n",
    "test = pd.read_csv('../input/playground-series-s5e7/test.csv', index_col=0)\n",
    "\n",
    "print('The dimension of the train dataset is:', train.shape)\n",
    "print('The dimension of the test dataset is:', test.shape)"
   ]
  },
  {
   "cell_type": "markdown",
   "id": "0b33a838",
   "metadata": {
    "papermill": {
     "duration": 0.004199,
     "end_time": "2025-07-01T16:01:42.182236",
     "exception": false,
     "start_time": "2025-07-01T16:01:42.178037",
     "status": "completed"
    },
    "tags": []
   },
   "source": [
    "# Data Exploration\n",
    "\n",
    "First, we start by exploring the target variable."
   ]
  },
  {
   "cell_type": "code",
   "execution_count": 3,
   "id": "b13862d7",
   "metadata": {
    "execution": {
     "iopub.execute_input": "2025-07-01T16:01:42.191531Z",
     "iopub.status.busy": "2025-07-01T16:01:42.191121Z",
     "iopub.status.idle": "2025-07-01T16:01:42.201251Z",
     "shell.execute_reply": "2025-07-01T16:01:42.200442Z"
    },
    "papermill": {
     "duration": 0.016085,
     "end_time": "2025-07-01T16:01:42.202488",
     "exception": false,
     "start_time": "2025-07-01T16:01:42.186403",
     "status": "completed"
    },
    "tags": []
   },
   "outputs": [
    {
     "name": "stdout",
     "output_type": "stream",
     "text": [
      "CPU times: user 1.89 ms, sys: 0 ns, total: 1.89 ms\n",
      "Wall time: 2.97 ms\n"
     ]
    },
    {
     "data": {
      "text/plain": [
       "Personality\n",
       "Extrovert    73.95\n",
       "Introvert    26.05\n",
       "Name: proportion, dtype: float64"
      ]
     },
     "execution_count": 3,
     "metadata": {},
     "output_type": "execute_result"
    }
   ],
   "source": [
    "%%time\n",
    "round(100*train[\"Personality\"].value_counts(normalize=True), 2)"
   ]
  },
  {
   "cell_type": "markdown",
   "id": "a9c358ed",
   "metadata": {
    "papermill": {
     "duration": 0.004363,
     "end_time": "2025-07-01T16:01:42.211581",
     "exception": false,
     "start_time": "2025-07-01T16:01:42.207218",
     "status": "completed"
    },
    "tags": []
   },
   "source": [
    "From the above table, we can see the dataset is imbalanced. Next, we start running some simple sanity checks."
   ]
  },
  {
   "cell_type": "code",
   "execution_count": 4,
   "id": "91f8d7cc",
   "metadata": {
    "execution": {
     "iopub.execute_input": "2025-07-01T16:01:42.221139Z",
     "iopub.status.busy": "2025-07-01T16:01:42.220748Z",
     "iopub.status.idle": "2025-07-01T16:01:42.238749Z",
     "shell.execute_reply": "2025-07-01T16:01:42.238082Z"
    },
    "papermill": {
     "duration": 0.023985,
     "end_time": "2025-07-01T16:01:42.239814",
     "exception": false,
     "start_time": "2025-07-01T16:01:42.215829",
     "status": "completed"
    },
    "tags": []
   },
   "outputs": [
    {
     "name": "stdout",
     "output_type": "stream",
     "text": [
      "There are 0 duplicated observations in the train dataset\n",
      "There are 0 duplicated observations in the test dataset\n",
      "CPU times: user 9.4 ms, sys: 2.15 ms, total: 11.6 ms\n",
      "Wall time: 14.2 ms\n"
     ]
    }
   ],
   "source": [
    "%%time\n",
    "print('There are', sum(train.drop(columns=[\"Personality\"]).duplicated()), 'duplicated observations in the train dataset')\n",
    "print('There are', sum(test.duplicated()), 'duplicated observations in the test dataset')"
   ]
  },
  {
   "cell_type": "markdown",
   "id": "e3c95a1c",
   "metadata": {
    "papermill": {
     "duration": 0.004314,
     "end_time": "2025-07-01T16:01:42.248681",
     "exception": false,
     "start_time": "2025-07-01T16:01:42.244367",
     "status": "completed"
    },
    "tags": []
   },
   "source": [
    "There are no duplicates in either the `train` and `test` datasets. We next proceed to check to potential duplicated observations that may appear in the train and test datasets.\n"
   ]
  },
  {
   "cell_type": "code",
   "execution_count": 5,
   "id": "84ad4dec",
   "metadata": {
    "execution": {
     "iopub.execute_input": "2025-07-01T16:01:42.259232Z",
     "iopub.status.busy": "2025-07-01T16:01:42.258821Z",
     "iopub.status.idle": "2025-07-01T16:01:42.284541Z",
     "shell.execute_reply": "2025-07-01T16:01:42.283825Z"
    },
    "papermill": {
     "duration": 0.031849,
     "end_time": "2025-07-01T16:01:42.285672",
     "exception": false,
     "start_time": "2025-07-01T16:01:42.253823",
     "status": "completed"
    },
    "tags": []
   },
   "outputs": [
    {
     "name": "stdout",
     "output_type": "stream",
     "text": [
      "There are 0 rows that appear in the train and test dataset.\n",
      "\n",
      "CPU times: user 16.6 ms, sys: 1.83 ms, total: 18.5 ms\n",
      "Wall time: 21.7 ms\n"
     ]
    }
   ],
   "source": [
    "%%time\n",
    "to_consider = train.drop(columns=[\"Personality\"], axis=1).columns.tolist()\n",
    "\n",
    "train_dup = train.drop(columns=[\"Personality\"], axis=1).drop_duplicates()\n",
    "test_dup = test.drop_duplicates()\n",
    "duplicates = pd.merge(train_dup, test_dup, on=to_consider)\n",
    "\n",
    "print('There are', duplicates.shape[0], 'rows that appear in the train and test dataset.\\n')"
   ]
  },
  {
   "cell_type": "markdown",
   "id": "394f8405",
   "metadata": {
    "papermill": {
     "duration": 0.004369,
     "end_time": "2025-07-01T16:01:42.294424",
     "exception": false,
     "start_time": "2025-07-01T16:01:42.290055",
     "status": "completed"
    },
    "tags": []
   },
   "source": [
    "Next, we check for missing values in the `train` and `test` datasets."
   ]
  },
  {
   "cell_type": "code",
   "execution_count": 6,
   "id": "e7820a7c",
   "metadata": {
    "execution": {
     "iopub.execute_input": "2025-07-01T16:01:42.303973Z",
     "iopub.status.busy": "2025-07-01T16:01:42.303428Z",
     "iopub.status.idle": "2025-07-01T16:01:42.312531Z",
     "shell.execute_reply": "2025-07-01T16:01:42.311659Z"
    },
    "papermill": {
     "duration": 0.015019,
     "end_time": "2025-07-01T16:01:42.313588",
     "exception": false,
     "start_time": "2025-07-01T16:01:42.298569",
     "status": "completed"
    },
    "tags": []
   },
   "outputs": [
    {
     "name": "stdout",
     "output_type": "stream",
     "text": [
      "Missing values in the train dataset \n",
      "\n",
      "Time_spent_Alone             1190\n",
      "Stage_fear                   1893\n",
      "Social_event_attendance      1180\n",
      "Going_outside                1466\n",
      "Drained_after_socializing    1149\n",
      "Friends_circle_size          1054\n",
      "Post_frequency               1264\n",
      "Personality                     0\n",
      "dtype: int64\n",
      "\n",
      "Missing values in the test dataset \n",
      "\n",
      "Time_spent_Alone             425\n",
      "Stage_fear                   598\n",
      "Social_event_attendance      397\n",
      "Going_outside                466\n",
      "Drained_after_socializing    432\n",
      "Friends_circle_size          350\n",
      "Post_frequency               408\n",
      "dtype: int64\n",
      "CPU times: user 5.32 ms, sys: 119 µs, total: 5.44 ms\n",
      "Wall time: 5.03 ms\n"
     ]
    }
   ],
   "source": [
    "%%time\n",
    "print(\"Missing values in the train dataset \\n\")\n",
    "print(f\"{train.isna().sum()}\\n\")\n",
    "\n",
    "print(\"Missing values in the test dataset \\n\")\n",
    "print(test.isna().sum())"
   ]
  },
  {
   "cell_type": "markdown",
   "id": "897487f9",
   "metadata": {
    "papermill": {
     "duration": 0.004196,
     "end_time": "2025-07-01T16:01:42.322329",
     "exception": false,
     "start_time": "2025-07-01T16:01:42.318133",
     "status": "completed"
    },
    "tags": []
   },
   "source": [
    "From the above, we see that there are missing values in both datasets. Next. we create a few charts to explore potential patterns in the data."
   ]
  },
  {
   "cell_type": "code",
   "execution_count": 7,
   "id": "d0bcb4f6",
   "metadata": {
    "_kg_hide-input": true,
    "execution": {
     "iopub.execute_input": "2025-07-01T16:01:42.331716Z",
     "iopub.status.busy": "2025-07-01T16:01:42.331505Z",
     "iopub.status.idle": "2025-07-01T16:01:42.796480Z",
     "shell.execute_reply": "2025-07-01T16:01:42.795809Z"
    },
    "papermill": {
     "duration": 0.471165,
     "end_time": "2025-07-01T16:01:42.797771",
     "exception": false,
     "start_time": "2025-07-01T16:01:42.326606",
     "status": "completed"
    },
    "tags": []
   },
   "outputs": [
    {
     "data": {
      "image/png": "[encoded data removed]",
      "text/plain": [
       "<Figure size 2000x600 with 3 Axes>"
      ]
     },
     "metadata": {},
     "output_type": "display_data"
    }
   ],
   "source": [
    "fig, ax = plt.subplots(1, 3, figsize=(20, 6))\n",
    "\n",
    "sns.boxplot(data=train, x=\"Personality\", y=\"Time_spent_Alone\", ax=ax[0], color=\"steelblue\")\n",
    "sns.boxplot(data=train, x=\"Personality\", y=\"Social_event_attendance\", ax=ax[1], color=\"orange\");\n",
    "sns.boxplot(data=train, x=\"Personality\", y=\"Going_outside\", ax=ax[2], color=\"orange\");"
   ]
  },
  {
   "cell_type": "code",
   "execution_count": 8,
   "id": "dc92c525",
   "metadata": {
    "_kg_hide-input": true,
    "execution": {
     "iopub.execute_input": "2025-07-01T16:01:42.809022Z",
     "iopub.status.busy": "2025-07-01T16:01:42.808796Z",
     "iopub.status.idle": "2025-07-01T16:01:43.056658Z",
     "shell.execute_reply": "2025-07-01T16:01:43.055906Z"
    },
    "papermill": {
     "duration": 0.254601,
     "end_time": "2025-07-01T16:01:43.057758",
     "exception": false,
     "start_time": "2025-07-01T16:01:42.803157",
     "status": "completed"
    },
    "tags": []
   },
   "outputs": [
    {
     "data": {
      "image/png": "[encoded data removed]",
      "text/plain": [
       "<Figure size 1400x600 with 2 Axes>"
      ]
     },
     "metadata": {},
     "output_type": "display_data"
    }
   ],
   "source": [
    "fig, ax = plt.subplots(1, 2, figsize=(14, 6))\n",
    "\n",
    "sns.boxplot(data=train, x=\"Personality\", y=\"Friends_circle_size\", ax=ax[0], color=\"steelblue\")\n",
    "sns.boxplot(data=train, x=\"Personality\", y=\"Post_frequency\", ax=ax[1], color=\"orange\");"
   ]
  },
  {
   "cell_type": "markdown",
   "id": "cdc037ed",
   "metadata": {
    "papermill": {
     "duration": 0.005519,
     "end_time": "2025-07-01T16:01:43.069177",
     "exception": false,
     "start_time": "2025-07-01T16:01:43.063658",
     "status": "completed"
    },
    "tags": []
   },
   "source": [
    "Based on the above boxplots, it seems that the classes are separable."
   ]
  },
  {
   "cell_type": "code",
   "execution_count": 9,
   "id": "c889627f",
   "metadata": {
    "_kg_hide-input": true,
    "execution": {
     "iopub.execute_input": "2025-07-01T16:01:43.080956Z",
     "iopub.status.busy": "2025-07-01T16:01:43.080733Z",
     "iopub.status.idle": "2025-07-01T16:01:43.111820Z",
     "shell.execute_reply": "2025-07-01T16:01:43.111242Z"
    },
    "papermill": {
     "duration": 0.038083,
     "end_time": "2025-07-01T16:01:43.112800",
     "exception": false,
     "start_time": "2025-07-01T16:01:43.074717",
     "status": "completed"
    },
    "tags": []
   },
   "outputs": [
    {
     "data": {
      "text/html": [
       "<div>\n",
       "<style scoped>\n",
       "    .dataframe tbody tr th:only-of-type {\n",
       "        vertical-align: middle;\n",
       "    }\n",
       "\n",
       "    .dataframe tbody tr th {\n",
       "        vertical-align: top;\n",
       "    }\n",
       "\n",
       "    .dataframe thead th {\n",
       "        text-align: right;\n",
       "    }\n",
       "</style>\n",
       "<table border=\"1\" class=\"dataframe\">\n",
       "  <thead>\n",
       "    <tr style=\"text-align: right;\">\n",
       "      <th>Personality</th>\n",
       "      <th>Extrovert</th>\n",
       "      <th>Introvert</th>\n",
       "    </tr>\n",
       "    <tr>\n",
       "      <th>Stage_fear</th>\n",
       "      <th></th>\n",
       "      <th></th>\n",
       "    </tr>\n",
       "  </thead>\n",
       "  <tbody>\n",
       "    <tr>\n",
       "      <th>No</th>\n",
       "      <td>98.12</td>\n",
       "      <td>7.23</td>\n",
       "    </tr>\n",
       "    <tr>\n",
       "      <th>Yes</th>\n",
       "      <td>1.88</td>\n",
       "      <td>92.77</td>\n",
       "    </tr>\n",
       "  </tbody>\n",
       "</table>\n",
       "</div>"
      ],
      "text/plain": [
       "Personality  Extrovert  Introvert\n",
       "Stage_fear                       \n",
       "No               98.12       7.23\n",
       "Yes               1.88      92.77"
      ]
     },
     "execution_count": 9,
     "metadata": {},
     "output_type": "execute_result"
    }
   ],
   "source": [
    "round(100*pd.crosstab(train[\"Stage_fear\"], train[\"Personality\"], normalize=\"columns\"), 2)"
   ]
  },
  {
   "cell_type": "code",
   "execution_count": 10,
   "id": "8d53c189",
   "metadata": {
    "_kg_hide-input": true,
    "execution": {
     "iopub.execute_input": "2025-07-01T16:01:43.124541Z",
     "iopub.status.busy": "2025-07-01T16:01:43.124312Z",
     "iopub.status.idle": "2025-07-01T16:01:43.139264Z",
     "shell.execute_reply": "2025-07-01T16:01:43.138713Z"
    },
    "papermill": {
     "duration": 0.022079,
     "end_time": "2025-07-01T16:01:43.140277",
     "exception": false,
     "start_time": "2025-07-01T16:01:43.118198",
     "status": "completed"
    },
    "tags": []
   },
   "outputs": [
    {
     "data": {
      "text/html": [
       "<div>\n",
       "<style scoped>\n",
       "    .dataframe tbody tr th:only-of-type {\n",
       "        vertical-align: middle;\n",
       "    }\n",
       "\n",
       "    .dataframe tbody tr th {\n",
       "        vertical-align: top;\n",
       "    }\n",
       "\n",
       "    .dataframe thead th {\n",
       "        text-align: right;\n",
       "    }\n",
       "</style>\n",
       "<table border=\"1\" class=\"dataframe\">\n",
       "  <thead>\n",
       "    <tr style=\"text-align: right;\">\n",
       "      <th>Personality</th>\n",
       "      <th>Extrovert</th>\n",
       "      <th>Introvert</th>\n",
       "    </tr>\n",
       "    <tr>\n",
       "      <th>Drained_after_socializing</th>\n",
       "      <th></th>\n",
       "      <th></th>\n",
       "    </tr>\n",
       "  </thead>\n",
       "  <tbody>\n",
       "    <tr>\n",
       "      <th>No</th>\n",
       "      <td>98.22</td>\n",
       "      <td>7.54</td>\n",
       "    </tr>\n",
       "    <tr>\n",
       "      <th>Yes</th>\n",
       "      <td>1.78</td>\n",
       "      <td>92.46</td>\n",
       "    </tr>\n",
       "  </tbody>\n",
       "</table>\n",
       "</div>"
      ],
      "text/plain": [
       "Personality                Extrovert  Introvert\n",
       "Drained_after_socializing                      \n",
       "No                             98.22       7.54\n",
       "Yes                             1.78      92.46"
      ]
     },
     "execution_count": 10,
     "metadata": {},
     "output_type": "execute_result"
    }
   ],
   "source": [
    "round(100*pd.crosstab(train[\"Drained_after_socializing\"], train[\"Personality\"], normalize=\"columns\"), 2)"
   ]
  },
  {
   "cell_type": "markdown",
   "id": "1b446b12",
   "metadata": {
    "papermill": {
     "duration": 0.005773,
     "end_time": "2025-07-01T16:01:43.152005",
     "exception": false,
     "start_time": "2025-07-01T16:01:43.146232",
     "status": "completed"
    },
    "tags": []
   },
   "source": [
    "# Baseline Modeling 1.0\n",
    "\n",
    "In this section, we train a couple of standard models using the raw data. First, we define the input and target features as follows."
   ]
  },
  {
   "cell_type": "code",
   "execution_count": 11,
   "id": "54f593df",
   "metadata": {
    "execution": {
     "iopub.execute_input": "2025-07-01T16:01:43.164292Z",
     "iopub.status.busy": "2025-07-01T16:01:43.164091Z",
     "iopub.status.idle": "2025-07-01T16:01:43.310342Z",
     "shell.execute_reply": "2025-07-01T16:01:43.309629Z"
    },
    "papermill": {
     "duration": 0.154087,
     "end_time": "2025-07-01T16:01:43.311775",
     "exception": false,
     "start_time": "2025-07-01T16:01:43.157688",
     "status": "completed"
    },
    "tags": []
   },
   "outputs": [
    {
     "name": "stdout",
     "output_type": "stream",
     "text": [
      "CPU times: user 142 ms, sys: 1.85 ms, total: 144 ms\n",
      "Wall time: 142 ms\n"
     ]
    }
   ],
   "source": [
    "%%time\n",
    "X = train.drop(columns=[\"Personality\"])\n",
    "y = train[\"Personality\"].map({\"Extrovert\": 0, \"Introvert\": 1})\n",
    "\n",
    "del train\n",
    "gc.collect()\n",
    "\n",
    "cat_features = [\"Stage_fear\", \"Drained_after_socializing\"]\n",
    "for col in cat_features:\n",
    "    X[col] = X[col].fillna(\"missing\").astype(\"category\")\n",
    "    test[col] = test[col].fillna(\"missing\").astype(\"category\")\n",
    "\n",
    "skf = StratifiedKFold(n_splits=10, shuffle=True, random_state=42)"
   ]
  },
  {
   "cell_type": "markdown",
   "id": "02049487",
   "metadata": {
    "papermill": {
     "duration": 0.005654,
     "end_time": "2025-07-01T16:01:43.323332",
     "exception": false,
     "start_time": "2025-07-01T16:01:43.317678",
     "status": "completed"
    },
    "tags": []
   },
   "source": [
    "Then, we train the `LGBMClassifier` model."
   ]
  },
  {
   "cell_type": "code",
   "execution_count": 12,
   "id": "7258a1e3",
   "metadata": {
    "execution": {
     "iopub.execute_input": "2025-07-01T16:01:43.335975Z",
     "iopub.status.busy": "2025-07-01T16:01:43.335756Z",
     "iopub.status.idle": "2025-07-01T16:01:50.506206Z",
     "shell.execute_reply": "2025-07-01T16:01:50.505599Z"
    },
    "papermill": {
     "duration": 7.178357,
     "end_time": "2025-07-01T16:01:50.507658",
     "exception": false,
     "start_time": "2025-07-01T16:01:43.329301",
     "status": "completed"
    },
    "tags": []
   },
   "outputs": [
    {
     "name": "stdout",
     "output_type": "stream",
     "text": [
      "---- Working on Fold 1 ----\n"
     ]
    },
    {
     "name": "stderr",
     "output_type": "stream",
     "text": [
      "1 warning generated.\n",
      "1 warning generated.\n",
      "1 warning generated.\n",
      "1 warning generated.\n",
      "1 warning generated.\n",
      "1 warning generated.\n",
      "1 warning generated.\n",
      "1 warning generated.\n",
      "1 warning generated.\n",
      "1 warning generated.\n",
      "1 warning generated.\n",
      "1 warning generated.\n",
      "1 warning generated.\n",
      "1 warning generated.\n",
      "1 warning generated.\n",
      "1 warning generated.\n",
      "1 warning generated.\n",
      "1 warning generated.\n",
      "1 warning generated.\n",
      "1 warning generated.\n",
      "1 warning generated.\n",
      "1 warning generated.\n",
      "1 warning generated.\n",
      "1 warning generated.\n",
      "1 warning generated.\n",
      "1 warning generated.\n",
      "1 warning generated.\n",
      "1 warning generated.\n",
      "1 warning generated.\n",
      "1 warning generated.\n",
      "1 warning generated.\n",
      "1 warning generated.\n",
      "1 warning generated.\n"
     ]
    },
    {
     "name": "stdout",
     "output_type": "stream",
     "text": [
      "Fold 1 accuracy: 0.9671\n",
      "---- Working on Fold 2 ----\n",
      "Fold 2 accuracy: 0.9719\n",
      "---- Working on Fold 3 ----\n",
      "Fold 3 accuracy: 0.9725\n",
      "---- Working on Fold 4 ----\n",
      "Fold 4 accuracy: 0.9644\n",
      "---- Working on Fold 5 ----\n",
      "Fold 5 accuracy: 0.9654\n",
      "---- Working on Fold 6 ----\n",
      "Fold 6 accuracy: 0.9676\n",
      "---- Working on Fold 7 ----\n",
      "Fold 7 accuracy: 0.9708\n",
      "---- Working on Fold 8 ----\n",
      "Fold 8 accuracy: 0.9698\n",
      "---- Working on Fold 9 ----\n",
      "Fold 9 accuracy: 0.9703\n",
      "---- Working on Fold 10 ----\n",
      "Fold 10 accuracy: 0.9708\n",
      "LightGBM CV accuracy: 0.9691 ± 0.0026\n",
      "CPU times: user 12.8 s, sys: 1.24 s, total: 14 s\n",
      "Wall time: 7.16 s\n"
     ]
    }
   ],
   "source": [
    "%%time\n",
    "lgb_params = {'learning_rate': 0.0951305706297959,\n",
    " 'max_depth': 7,\n",
    " 'reg_alpha': 1.803743818590143,\n",
    " 'reg_lambda': 0.01128965915670642,\n",
    " 'num_leaves': 87,\n",
    " 'colsample_bytree': 0.7749196423063947,\n",
    " 'verbose': -1,\n",
    " 'n_jobs': -1,\n",
    " 'device': 'gpu'}\n",
    "\n",
    "lgb_scores, lgb_oof_preds_df, lgb_test_preds_df = [], [], []\n",
    "for i, (train_index, test_index) in enumerate(skf.split(X, y)):\n",
    "\n",
    "    print(f\"---- Working on Fold {i+1} ----\")\n",
    "    X_train, X_test = X.iloc[train_index], X.iloc[test_index]\n",
    "    y_train, y_test = y[train_index], y[test_index]\n",
    "\n",
    "    dtrain = lgb.Dataset(X_train, label=y_train, categorical_feature=cat_features)\n",
    "    dtest = lgb.Dataset(X_test, label=y_test, reference=dtrain, categorical_feature=cat_features)\n",
    "\n",
    "    md = lgb.train(params=lgb_params, \n",
    "                   train_set=dtrain,\n",
    "                   num_boost_round=1000, \n",
    "                   valid_sets=[dtest], \n",
    "                   callbacks=[early_stopping(stopping_rounds=10, verbose=None)])\n",
    "\n",
    "    md_pred = md.predict(X_test)\n",
    "    md_pred = (md_pred > 0.5).astype(int)\n",
    "            \n",
    "    score = accuracy_score(y_test, md_pred)\n",
    "    lgb_scores.append(score)\n",
    "    print(f\"Fold {i+1} accuracy: {score:.4f}\")\n",
    "\n",
    "    oof_preds = pd.DataFrame(\n",
    "        md_pred,\n",
    "        columns=[\"lgb_pred\"]\n",
    "    )\n",
    "    oof_preds[\"y\"] = y_test.values\n",
    "    oof_preds[\"fold\"] = i + 1\n",
    "    oof_preds[\"index\"] = X_test.index\n",
    "    lgb_oof_preds_df.append(oof_preds)\n",
    "    \n",
    "    test_preds = pd.DataFrame(\n",
    "        md.predict(test),\n",
    "        columns=[\"lgb_pred\"]\n",
    "    )\n",
    "    test_preds[\"fold\"] = i + 1\n",
    "    lgb_test_preds_df.append(test_preds)\n",
    "\n",
    "lgb_mean = np.mean(lgb_scores)\n",
    "lgb_sd = np.std(lgb_scores)\n",
    "print(f\"LightGBM CV accuracy: {lgb_mean:.4f} ± {lgb_sd:.4f}\")"
   ]
  },
  {
   "cell_type": "code",
   "execution_count": 13,
   "id": "2faa1231",
   "metadata": {
    "execution": {
     "iopub.execute_input": "2025-07-01T16:01:50.525256Z",
     "iopub.status.busy": "2025-07-01T16:01:50.524976Z",
     "iopub.status.idle": "2025-07-01T16:01:50.686403Z",
     "shell.execute_reply": "2025-07-01T16:01:50.685414Z"
    },
    "papermill": {
     "duration": 0.170592,
     "end_time": "2025-07-01T16:01:50.687703",
     "exception": false,
     "start_time": "2025-07-01T16:01:50.517111",
     "status": "completed"
    },
    "tags": []
   },
   "outputs": [
    {
     "name": "stdout",
     "output_type": "stream",
     "text": [
      "      Personality\n",
      "id               \n",
      "18524   Extrovert\n",
      "18525   Introvert\n",
      "18526   Extrovert\n",
      "18527   Extrovert\n",
      "18528   Introvert\n",
      "CPU times: user 152 ms, sys: 84 µs, total: 152 ms\n",
      "Wall time: 157 ms\n"
     ]
    }
   ],
   "source": [
    "%%time\n",
    "preds = []\n",
    "for i in range(0, 10):\n",
    "    preds.append(lgb_test_preds_df[i][\"lgb_pred\"])\n",
    "\n",
    "submission = pd.read_csv(\"../input/playground-series-s5e7/sample_submission.csv\", index_col=0)\n",
    "submission[\"Personality\"] = (np.mean(preds, axis=0) > 0.5).astype(int)\n",
    "submission[\"Personality\"] = submission[\"Personality\"].map({0: \"Extrovert\", 1: \"Introvert\"})\n",
    "\n",
    "del preds\n",
    "gc.collect()\n",
    "\n",
    "print(submission.head())\n",
    "submission.to_csv(\"lgb_sub_1.csv\")"
   ]
  },
  {
   "cell_type": "markdown",
   "id": "9ac1ea94",
   "metadata": {
    "papermill": {
     "duration": 0.006547,
     "end_time": "2025-07-01T16:01:50.701787",
     "exception": false,
     "start_time": "2025-07-01T16:01:50.695240",
     "status": "completed"
    },
    "tags": []
   },
   "source": [
    "Next, we train the `XGBoost` model."
   ]
  },
  {
   "cell_type": "code",
   "execution_count": 14,
   "id": "fc367a71",
   "metadata": {
    "execution": {
     "iopub.execute_input": "2025-07-01T16:01:50.716777Z",
     "iopub.status.busy": "2025-07-01T16:01:50.716026Z",
     "iopub.status.idle": "2025-07-01T16:01:57.613660Z",
     "shell.execute_reply": "2025-07-01T16:01:57.612781Z"
    },
    "papermill": {
     "duration": 6.906283,
     "end_time": "2025-07-01T16:01:57.614819",
     "exception": false,
     "start_time": "2025-07-01T16:01:50.708536",
     "status": "completed"
    },
    "tags": []
   },
   "outputs": [
    {
     "name": "stdout",
     "output_type": "stream",
     "text": [
      "---- Working on Fold 1 ----\n",
      "Fold 1 accuracy: 0.9676\n",
      "---- Working on Fold 2 ----\n",
      "Fold 2 accuracy: 0.9714\n",
      "---- Working on Fold 3 ----\n",
      "Fold 3 accuracy: 0.9692\n",
      "---- Working on Fold 4 ----\n",
      "Fold 4 accuracy: 0.9622\n",
      "---- Working on Fold 5 ----\n",
      "Fold 5 accuracy: 0.9633\n",
      "---- Working on Fold 6 ----\n",
      "Fold 6 accuracy: 0.9654\n",
      "---- Working on Fold 7 ----\n",
      "Fold 7 accuracy: 0.9703\n",
      "---- Working on Fold 8 ----\n",
      "Fold 8 accuracy: 0.9692\n",
      "---- Working on Fold 9 ----\n",
      "Fold 9 accuracy: 0.9698\n",
      "---- Working on Fold 10 ----\n",
      "Fold 10 accuracy: 0.9714\n",
      "XGBoost CV accuracy: 0.9680 ± 0.0031\n",
      "CPU times: user 7.84 s, sys: 197 ms, total: 8.04 s\n",
      "Wall time: 6.89 s\n"
     ]
    }
   ],
   "source": [
    "%%time\n",
    "xgb_params = {'device': 'cuda',\n",
    " 'max_depth': 6,\n",
    " 'learning_rate': 0.015440059345672077,\n",
    " 'gamma': 0.062065060162521446,\n",
    " 'min_child_weight': 36,\n",
    " 'colsample_bytree': 0.65,\n",
    " 'reg_lambda': 5.612468414209365,\n",
    " 'reg_alpha': 1.20950557811261,\n",
    " 'n_jobs': -1}\n",
    "\n",
    "test_xgb = xgb.DMatrix(test, enable_categorical=True)\n",
    "xgb_scores, xgb_oof_preds_df, xgb_test_preds_df = [], [], []\n",
    "for i, (train_index, test_index) in enumerate(skf.split(X, y)):\n",
    "\n",
    "    print(f\"---- Working on Fold {i+1} ----\")\n",
    "    X_train, X_test = X.iloc[train_index], X.iloc[test_index]\n",
    "    y_train, y_test = y[train_index], y[test_index]\n",
    "\n",
    "    dtrain = xgb.DMatrix(X_train, label=y_train, enable_categorical=True)\n",
    "    dvalid = xgb.DMatrix(X_test, label=y_test, enable_categorical=True)\n",
    "             \n",
    "    md = xgb.train(xgb_params,\n",
    "                   dtrain=dtrain,\n",
    "                   num_boost_round=1000,\n",
    "                   evals=[(dvalid, 'validation')],\n",
    "                   early_stopping_rounds=10,\n",
    "                   verbose_eval=False)\n",
    "\n",
    "    md_pred = md.predict(dvalid)\n",
    "    md_pred = (md_pred > 0.5).astype(int)\n",
    "            \n",
    "    score = accuracy_score(y_test, md_pred)\n",
    "    xgb_scores.append(score)\n",
    "    print(f\"Fold {i+1} accuracy: {score:.4f}\")\n",
    "\n",
    "    oof_preds = pd.DataFrame(\n",
    "        md_pred,\n",
    "        columns=[\"xgb_pred\"]\n",
    "    )\n",
    "    oof_preds[\"y\"] = y_test.values\n",
    "    oof_preds[\"fold\"] = i + 1\n",
    "    oof_preds[\"index\"] = X_test.index\n",
    "    xgb_oof_preds_df.append(oof_preds)\n",
    "    \n",
    "    test_preds = pd.DataFrame(\n",
    "        md.predict(test_xgb),\n",
    "        columns=[\"xgb_pred\"]\n",
    "    )\n",
    "    test_preds[\"fold\"] = i + 1\n",
    "    xgb_test_preds_df.append(test_preds)\n",
    "\n",
    "xgb_mean = np.mean(xgb_scores)\n",
    "xgb_sd = np.std(xgb_scores)\n",
    "print(f\"XGBoost CV accuracy: {xgb_mean:.4f} ± {xgb_sd:.4f}\")"
   ]
  },
  {
   "cell_type": "code",
   "execution_count": 15,
   "id": "6cdca133",
   "metadata": {
    "execution": {
     "iopub.execute_input": "2025-07-01T16:01:57.630169Z",
     "iopub.status.busy": "2025-07-01T16:01:57.629949Z",
     "iopub.status.idle": "2025-07-01T16:01:57.766289Z",
     "shell.execute_reply": "2025-07-01T16:01:57.765386Z"
    },
    "papermill": {
     "duration": 0.14523,
     "end_time": "2025-07-01T16:01:57.767392",
     "exception": false,
     "start_time": "2025-07-01T16:01:57.622162",
     "status": "completed"
    },
    "tags": []
   },
   "outputs": [
    {
     "name": "stdout",
     "output_type": "stream",
     "text": [
      "      Personality\n",
      "id               \n",
      "18524   Extrovert\n",
      "18525   Introvert\n",
      "18526   Extrovert\n",
      "18527   Extrovert\n",
      "18528   Introvert\n",
      "CPU times: user 129 ms, sys: 1.74 ms, total: 131 ms\n",
      "Wall time: 132 ms\n"
     ]
    }
   ],
   "source": [
    "%%time\n",
    "preds = []\n",
    "for i in range(0, 10):\n",
    "    preds.append(xgb_test_preds_df[i][\"xgb_pred\"])\n",
    "\n",
    "submission = pd.read_csv(\"../input/playground-series-s5e7/sample_submission.csv\", index_col=0)\n",
    "submission[\"Personality\"] = (np.mean(preds, axis=0) > 0.5).astype(int)\n",
    "submission[\"Personality\"] = submission[\"Personality\"].map({0: \"Extrovert\", 1: \"Introvert\"})\n",
    "\n",
    "del preds\n",
    "gc.collect()\n",
    "\n",
    "print(submission.head())\n",
    "submission.to_csv(\"xgb_sub_1.csv\")"
   ]
  },
  {
   "cell_type": "markdown",
   "id": "db61603a",
   "metadata": {
    "papermill": {
     "duration": 0.006983,
     "end_time": "2025-07-01T16:01:57.782032",
     "exception": false,
     "start_time": "2025-07-01T16:01:57.775049",
     "status": "completed"
    },
    "tags": []
   },
   "source": [
    "Next, we train the `CatBoost` model."
   ]
  },
  {
   "cell_type": "code",
   "execution_count": 16,
   "id": "718d5e11",
   "metadata": {
    "execution": {
     "iopub.execute_input": "2025-07-01T16:01:57.797575Z",
     "iopub.status.busy": "2025-07-01T16:01:57.797225Z",
     "iopub.status.idle": "2025-07-01T16:03:36.480555Z",
     "shell.execute_reply": "2025-07-01T16:03:36.479537Z"
    },
    "papermill": {
     "duration": 98.701014,
     "end_time": "2025-07-01T16:03:36.490222",
     "exception": false,
     "start_time": "2025-07-01T16:01:57.789208",
     "status": "completed"
    },
    "tags": []
   },
   "outputs": [
    {
     "name": "stdout",
     "output_type": "stream",
     "text": [
      "---- Working on Fold 1 ----\n",
      "Fold 1 accuracy: 0.9682\n",
      "---- Working on Fold 2 ----\n",
      "Fold 2 accuracy: 0.9719\n",
      "---- Working on Fold 3 ----\n",
      "Fold 3 accuracy: 0.9719\n",
      "---- Working on Fold 4 ----\n",
      "Fold 4 accuracy: 0.9628\n",
      "---- Working on Fold 5 ----\n",
      "Fold 5 accuracy: 0.9654\n",
      "---- Working on Fold 6 ----\n",
      "Fold 6 accuracy: 0.9660\n",
      "---- Working on Fold 7 ----\n",
      "Fold 7 accuracy: 0.9708\n",
      "---- Working on Fold 8 ----\n",
      "Fold 8 accuracy: 0.9692\n",
      "---- Working on Fold 9 ----\n",
      "Fold 9 accuracy: 0.9703\n",
      "---- Working on Fold 10 ----\n",
      "Fold 10 accuracy: 0.9708\n",
      "CatBoost CV accuracy: 0.9687 ± 0.0029\n",
      "CPU times: user 1min 41s, sys: 8.25 s, total: 1min 49s\n",
      "Wall time: 1min 38s\n"
     ]
    }
   ],
   "source": [
    "%%time\n",
    "cat_params = {'loss_function': 'Logloss',\n",
    " 'iterations': 1000,\n",
    " 'depth': 8,\n",
    " 'task_type': 'GPU'}\n",
    "\n",
    "# test_cat = Pool(data=test, cat_features=cat_features)\n",
    "cat_scores, cat_oof_preds_df, cat_test_preds_df = [], [], []\n",
    "for i, (train_index, test_index) in enumerate(skf.split(X, y)):\n",
    "\n",
    "    print(f\"---- Working on Fold {i+1} ----\")\n",
    "    X_train, X_test = X.iloc[train_index], X.iloc[test_index]\n",
    "    y_train, y_test = y[train_index], y[test_index]\n",
    "\n",
    "    model_pool = Pool(data=X_train, label=y_train, cat_features=cat_features)\n",
    "    eval_pool = Pool(data=X_test, label=y_test, cat_features=cat_features)\n",
    "             \n",
    "    md = CatBoostClassifier(**cat_params).fit(model_pool, eval_set=eval_pool, verbose=0, \n",
    "                                              early_stopping_rounds=10)\n",
    "\n",
    "    md_pred = md.predict_proba(X_test)[:, 1]\n",
    "    md_pred = (md_pred > 0.5).astype(int)\n",
    "            \n",
    "    score = accuracy_score(y_test, md_pred)\n",
    "    cat_scores.append(score)\n",
    "    print(f\"Fold {i+1} accuracy: {score:.4f}\")\n",
    "\n",
    "    oof_preds = pd.DataFrame(\n",
    "        md_pred,\n",
    "        columns=[\"cat_pred\"]\n",
    "    )\n",
    "    oof_preds[\"y\"] = y_test.values\n",
    "    oof_preds[\"fold\"] = i + 1\n",
    "    oof_preds[\"index\"] = X_test.index\n",
    "    cat_oof_preds_df.append(oof_preds)\n",
    "    \n",
    "    test_preds = pd.DataFrame(\n",
    "        md.predict_proba(test)[:, 1],\n",
    "        columns=[\"cat_pred\"]\n",
    "    )\n",
    "    test_preds[\"fold\"] = i + 1\n",
    "    cat_test_preds_df.append(test_preds)\n",
    "\n",
    "cat_mean = np.mean(cat_scores)\n",
    "cat_sd = np.std(cat_scores)\n",
    "print(f\"CatBoost CV accuracy: {cat_mean:.4f} ± {cat_sd:.4f}\")"
   ]
  },
  {
   "cell_type": "code",
   "execution_count": 17,
   "id": "f39f407f",
   "metadata": {
    "execution": {
     "iopub.execute_input": "2025-07-01T16:03:36.508470Z",
     "iopub.status.busy": "2025-07-01T16:03:36.507820Z",
     "iopub.status.idle": "2025-07-01T16:03:36.656567Z",
     "shell.execute_reply": "2025-07-01T16:03:36.655814Z"
    },
    "papermill": {
     "duration": 0.159312,
     "end_time": "2025-07-01T16:03:36.657940",
     "exception": false,
     "start_time": "2025-07-01T16:03:36.498628",
     "status": "completed"
    },
    "tags": []
   },
   "outputs": [
    {
     "name": "stdout",
     "output_type": "stream",
     "text": [
      "      Personality\n",
      "id               \n",
      "18524   Extrovert\n",
      "18525   Introvert\n",
      "18526   Extrovert\n",
      "18527   Extrovert\n",
      "18528   Introvert\n",
      "CPU times: user 282 ms, sys: 657 µs, total: 282 ms\n",
      "Wall time: 142 ms\n"
     ]
    }
   ],
   "source": [
    "%%time\n",
    "preds = []\n",
    "for i in range(0, 10):\n",
    "    preds.append(cat_test_preds_df[i][\"cat_pred\"])\n",
    "\n",
    "submission = pd.read_csv(\"../input/playground-series-s5e7/sample_submission.csv\", index_col=0)\n",
    "submission[\"Personality\"] = (np.mean(preds, axis=0) > 0.5).astype(int)\n",
    "submission[\"Personality\"] = submission[\"Personality\"].map({0: \"Extrovert\", 1: \"Introvert\"})\n",
    "\n",
    "del preds\n",
    "gc.collect()\n",
    "\n",
    "print(submission.head())\n",
    "submission.to_csv(\"cat_sub_1.csv\")"
   ]
  },
  {
   "cell_type": "markdown",
   "id": "e27ed8a0",
   "metadata": {
    "papermill": {
     "duration": 0.007531,
     "end_time": "2025-07-01T16:03:36.674261",
     "exception": false,
     "start_time": "2025-07-01T16:03:36.666730",
     "status": "completed"
    },
    "tags": []
   },
   "source": [
    "Finally, we build a stacker as follows."
   ]
  },
  {
   "cell_type": "code",
   "execution_count": 18,
   "id": "f507c5ba",
   "metadata": {
    "execution": {
     "iopub.execute_input": "2025-07-01T16:03:36.690875Z",
     "iopub.status.busy": "2025-07-01T16:03:36.690628Z",
     "iopub.status.idle": "2025-07-01T16:03:39.442858Z",
     "shell.execute_reply": "2025-07-01T16:03:39.441904Z"
    },
    "papermill": {
     "duration": 2.761953,
     "end_time": "2025-07-01T16:03:39.444181",
     "exception": false,
     "start_time": "2025-07-01T16:03:36.682228",
     "status": "completed"
    },
    "tags": []
   },
   "outputs": [
    {
     "name": "stdout",
     "output_type": "stream",
     "text": [
      "Logistic stacker CV accuracy: 0.96885 ± 0.0026\n",
      "LinearSVC stacker CV accuracy: 0.96901 ± 0.0027\n",
      "CPU times: user 1.74 s, sys: 23 ms, total: 1.76 s\n",
      "Wall time: 2.75 s\n"
     ]
    }
   ],
   "source": [
    "%%time\n",
    "dat_1 = pd.concat(lgb_oof_preds_df).reset_index(drop=True)\n",
    "dat_2 = pd.concat(xgb_oof_preds_df).reset_index(drop=True)\n",
    "dat_3 = pd.concat(cat_oof_preds_df).reset_index(drop=True)\n",
    "\n",
    "dat = pd.concat([dat_1[\"lgb_pred\"], dat_2[\"xgb_pred\"], dat_3[\"cat_pred\"]], axis=1)\n",
    "dat[\"y\"] = dat_1[\"y\"]\n",
    "\n",
    "X = dat.drop(columns=[\"y\"], axis=1)\n",
    "y = dat[\"y\"]\n",
    "\n",
    "del dat_1, dat_2, dat_3, dat\n",
    "gc.collect()\n",
    "\n",
    "dat_1 = pd.concat(lgb_test_preds_df).reset_index(drop=True)\n",
    "dat_2 = pd.concat(xgb_test_preds_df).reset_index(drop=True)\n",
    "dat_3 = pd.concat(cat_test_preds_df).reset_index(drop=True)\n",
    "\n",
    "dat = pd.concat([dat_1[\"lgb_pred\"], dat_2[\"xgb_pred\"], dat_3[\"cat_pred\"]], axis=1)\n",
    "dat[\"fold\"] = dat_1[\"fold\"]\n",
    "\n",
    "del dat_1, dat_2, dat_3\n",
    "gc.collect()\n",
    "\n",
    "lr_md = LogisticRegression(max_iter=1000, random_state=42)\n",
    "lr_cv = cross_val_score(lr_md, X, y, cv=10, scoring='accuracy', n_jobs=-1)\n",
    "print(f\"Logistic stacker CV accuracy: {lr_cv.mean():.5f} ± {lr_cv.std():.4f}\")\n",
    "\n",
    "svm_md = LinearSVC(random_state=42)\n",
    "svm_cv = cross_val_score(svm_md, X, y, cv=10, scoring='accuracy', n_jobs=-1)\n",
    "print(f\"LinearSVC stacker CV accuracy: {svm_cv.mean():.5f} ± {svm_cv.std():.4f}\")\n",
    "\n",
    "lr_md.fit(X, y)\n",
    "svm_md.fit(X, y)\n",
    "\n",
    "lr_preds, svm_preds = [], []\n",
    "for i in range(1, 11):\n",
    "    temp_dat = dat[dat[\"fold\"]==i].drop(columns=[\"fold\"], axis=1).reset_index(drop=True)\n",
    "    lr_preds.append(lr_md.predict_proba(temp_dat)[:, 1])\n",
    "    svm_preds.append(svm_md.predict(temp_dat))"
   ]
  },
  {
   "cell_type": "code",
   "execution_count": 19,
   "id": "f9f09149",
   "metadata": {
    "execution": {
     "iopub.execute_input": "2025-07-01T16:03:39.462405Z",
     "iopub.status.busy": "2025-07-01T16:03:39.461983Z",
     "iopub.status.idle": "2025-07-01T16:03:39.634086Z",
     "shell.execute_reply": "2025-07-01T16:03:39.633041Z"
    },
    "papermill": {
     "duration": 0.182084,
     "end_time": "2025-07-01T16:03:39.635330",
     "exception": false,
     "start_time": "2025-07-01T16:03:39.453246",
     "status": "completed"
    },
    "tags": []
   },
   "outputs": [
    {
     "name": "stdout",
     "output_type": "stream",
     "text": [
      "      Personality\n",
      "id               \n",
      "18524   Extrovert\n",
      "18525   Introvert\n",
      "18526   Extrovert\n",
      "18527   Extrovert\n",
      "18528   Introvert\n",
      "      Personality\n",
      "id               \n",
      "18524   Extrovert\n",
      "18525   Introvert\n",
      "18526   Extrovert\n",
      "18527   Extrovert\n",
      "18528   Introvert\n",
      "CPU times: user 166 ms, sys: 715 µs, total: 166 ms\n",
      "Wall time: 167 ms\n"
     ]
    }
   ],
   "source": [
    "%%time\n",
    "submission = pd.read_csv(\"../input/playground-series-s5e7/sample_submission.csv\", index_col=0)\n",
    "submission[\"Personality\"] = (np.mean(lr_preds, axis=0) > 0.5).astype(int)\n",
    "submission[\"Personality\"] = submission[\"Personality\"].map({0: \"Extrovert\", 1: \"Introvert\"})\n",
    "print(submission.head())\n",
    "submission.to_csv(\"lr_stacker_sub_1.csv\")\n",
    "\n",
    "del submission\n",
    "gc.collect()\n",
    "\n",
    "submission = pd.read_csv(\"../input/playground-series-s5e7/sample_submission.csv\", index_col=0)\n",
    "submission[\"Personality\"] = (np.mean(svm_preds, axis=0) > 0.5).astype(int)\n",
    "submission[\"Personality\"] = submission[\"Personality\"].map({0: \"Extrovert\", 1: \"Introvert\"})\n",
    "print(submission.head())\n",
    "submission.to_csv(\"svm_stacker_sub_1.csv\")"
   ]
  },
  {
   "cell_type": "markdown",
   "id": "b41e745f",
   "metadata": {
    "papermill": {
     "duration": 0.008189,
     "end_time": "2025-07-01T16:03:39.651940",
     "exception": false,
     "start_time": "2025-07-01T16:03:39.643751",
     "status": "completed"
    },
    "tags": []
   },
   "source": [
    "The following table summarizes the performance of the models considered so far."
   ]
  },
  {
   "cell_type": "code",
   "execution_count": 20,
   "id": "e56f3961",
   "metadata": {
    "execution": {
     "iopub.execute_input": "2025-07-01T16:03:39.731393Z",
     "iopub.status.busy": "2025-07-01T16:03:39.731105Z",
     "iopub.status.idle": "2025-07-01T16:03:39.739923Z",
     "shell.execute_reply": "2025-07-01T16:03:39.739027Z"
    },
    "papermill": {
     "duration": 0.019228,
     "end_time": "2025-07-01T16:03:39.741254",
     "exception": false,
     "start_time": "2025-07-01T16:03:39.722026",
     "status": "completed"
    },
    "tags": []
   },
   "outputs": [
    {
     "name": "stdout",
     "output_type": "stream",
     "text": [
      "               Model  Accuracy\n",
      "0               LGBM   0.96907\n",
      "1            XGBoost   0.96799\n",
      "2           CatBoost   0.96874\n",
      "3         LR-stacker   0.96885\n",
      "4  LinearSVC-stacker   0.96901\n",
      "CPU times: user 4.51 ms, sys: 44 µs, total: 4.56 ms\n",
      "Wall time: 4.17 ms\n"
     ]
    }
   ],
   "source": [
    "%%time\n",
    "df = pd.DataFrame()\n",
    "df[\"Model\"] = [\"LGBM\", \"XGBoost\", \"CatBoost\", \"LR-stacker\", \"LinearSVC-stacker\"]\n",
    "df[\"Accuracy\"] = [round(lgb_mean, 5), round(xgb_mean, 5), round(cat_mean, 5), round(lr_cv.mean(), 5), round(svm_cv.mean(), 5)]\n",
    "print(df)"
   ]
  }
 ],
 "metadata": {
  "kaggle": {
   "accelerator": "gpu",
   "dataSources": [
    {
     "databundleVersionId": 12738969,
     "sourceId": 91718,
     "sourceType": "competition"
    }
   ],
   "dockerImageVersionId": 31041,
   "isGpuEnabled": true,
   "isInternetEnabled": true,
   "language": "python",
   "sourceType": "notebook"
  },
  "kernelspec": {
   "display_name": "Python 3",
   "language": "python",
   "name": "python3"
  },
  "language_info": {
   "codemirror_mode": {
    "name": "ipython",
    "version": 3
   },
   "file_extension": ".py",
   "mimetype": "text/x-python",
   "name": "python",
   "nbconvert_exporter": "python",
   "pygments_lexer": "ipython3",
   "version": "3.11.11"
  },
  "papermill": {
   "default_parameters": {},
   "duration": 136.263777,
   "end_time": "2025-07-01T16:03:42.470688",
   "environment_variables": {},
   "exception": null,
   "input_path": "__notebook__.ipynb",
   "output_path": "__notebook__.ipynb",
   "parameters": {},
   "start_time": "2025-07-01T16:01:26.206911",
   "version": "2.6.0"
  }
 },
 "nbformat": 4,
 "nbformat_minor": 5
}
