{
 "cells": [
  {
   "cell_type": "markdown",
   "id": "07354174",
   "metadata": {
    "papermill": {
     "duration": 0.003437,
     "end_time": "2024-11-23T23:12:27.928439",
     "exception": false,
     "start_time": "2024-11-23T23:12:27.925002",
     "status": "completed"
    },
    "tags": []
   },
   "source": [
    "# Notebook Versions\n",
    "\n",
    "- Version 1 (11/23/2024)\n",
    "   * Baseline modeling 1.0\n",
    "\n",
    "\n",
    "- Version 2 (11/23/2024)\n",
    "   * Fixing bug.\n",
    " \n",
    "\n",
    "- Version 3 (11/23/2024)\n",
    "   * Fixing bug. \n",
    " \n",
    "     \n",
    "# Loading Libraries"
   ]
  },
  {
   "cell_type": "code",
   "execution_count": 1,
   "id": "4440449b",
   "metadata": {
    "execution": {
     "iopub.execute_input": "2024-11-23T23:12:27.936759Z",
     "iopub.status.busy": "2024-11-23T23:12:27.936258Z",
     "iopub.status.idle": "2024-11-23T23:12:34.361273Z",
     "shell.execute_reply": "2024-11-23T23:12:34.360189Z"
    },
    "papermill": {
     "duration": 6.431831,
     "end_time": "2024-11-23T23:12:34.363446",
     "exception": false,
     "start_time": "2024-11-23T23:12:27.931615",
     "status": "completed"
    },
    "tags": []
   },
   "outputs": [
    {
     "name": "stdout",
     "output_type": "stream",
     "text": [
      "CPU times: user 3.21 s, sys: 534 ms, total: 3.75 s\n",
      "Wall time: 6.41 s\n"
     ]
    }
   ],
   "source": [
    "%%time\n",
    "import pandas as pd; pd.set_option('display.max_columns', 100)\n",
    "import numpy as np\n",
    "\n",
    "import gc\n",
    "import difflib\n",
    "\n",
    "import warnings\n",
    "warnings.filterwarnings('ignore')\n",
    "\n",
    "from tqdm.notebook import tqdm\n",
    "\n",
    "import re\n",
    "\n",
    "from functools import partial\n",
    "from scipy.stats import kurtosis, skew, gmean, mode\n",
    "\n",
    "import matplotlib.pyplot as plt; plt.style.use('ggplot')\n",
    "import seaborn as sns\n",
    "import plotly.express as px\n",
    "\n",
    "from sklearn.tree import DecisionTreeClassifier, plot_tree\n",
    "from sklearn.preprocessing import MinMaxScaler, StandardScaler, LabelEncoder, FunctionTransformer, PowerTransformer, PolynomialFeatures\n",
    "from sklearn.pipeline import make_pipeline, Pipeline, FeatureUnion\n",
    "from sklearn.decomposition import PCA\n",
    "from sklearn.cluster import KMeans\n",
    "from sklearn.compose import ColumnTransformer, make_column_transformer\n",
    "from sklearn.impute import KNNImputer\n",
    "from sklearn.multiclass import OneVsRestClassifier\n",
    "from sklearn.model_selection import KFold, StratifiedKFold, train_test_split, GridSearchCV, RepeatedStratifiedKFold, cross_val_score, cross_val_predict, RepeatedKFold\n",
    "from sklearn.metrics import roc_auc_score, roc_curve, RocCurveDisplay, cohen_kappa_score, log_loss, f1_score, r2_score, accuracy_score\n",
    "from sklearn.discriminant_analysis import LinearDiscriminantAnalysis, QuadraticDiscriminantAnalysis\n",
    "from sklearn.neighbors import KNeighborsClassifier\n",
    "from sklearn.feature_selection import RFE, RFECV\n",
    "from sklearn.calibration import CalibrationDisplay, CalibratedClassifierCV\n",
    "from sklearn.inspection import PartialDependenceDisplay, permutation_importance\n",
    "from sklearn.linear_model import LogisticRegression, RidgeClassifier, Ridge, RidgeCV\n",
    "from collections import Counter\n",
    "from sklearn.ensemble import RandomForestClassifier, HistGradientBoostingClassifier, GradientBoostingClassifier, ExtraTreesClassifier, VotingClassifier, StackingClassifier\n",
    "from sklearn.svm import SVC, LinearSVR\n",
    "\n",
    "from category_encoders import TargetEncoder\n",
    "\n",
    "import ydf\n",
    "from ydf import RandomForestLearner\n",
    "\n",
    "import xgboost as xgb\n",
    "\n",
    "from lightgbm import LGBMClassifier\n",
    "from xgboost import XGBClassifier\n",
    "from catboost import CatBoostClassifier, Pool\n",
    "\n",
    "from sklearn.neural_network import MLPClassifier\n",
    "\n",
    "import optuna"
   ]
  },
  {
   "cell_type": "markdown",
   "id": "a62ee9f6",
   "metadata": {
    "papermill": {
     "duration": 0.00264,
     "end_time": "2024-11-23T23:12:34.369168",
     "exception": false,
     "start_time": "2024-11-23T23:12:34.366528",
     "status": "completed"
    },
    "tags": []
   },
   "source": [
    "# Reading Data"
   ]
  },
  {
   "cell_type": "code",
   "execution_count": 2,
   "id": "de898482",
   "metadata": {
    "execution": {
     "iopub.execute_input": "2024-11-23T23:12:34.376698Z",
     "iopub.status.busy": "2024-11-23T23:12:34.376092Z",
     "iopub.status.idle": "2024-11-23T23:12:37.614707Z",
     "shell.execute_reply": "2024-11-23T23:12:37.613571Z"
    },
    "papermill": {
     "duration": 3.244846,
     "end_time": "2024-11-23T23:12:37.616832",
     "exception": false,
     "start_time": "2024-11-23T23:12:34.371986",
     "status": "completed"
    },
    "tags": []
   },
   "outputs": [
    {
     "name": "stdout",
     "output_type": "stream",
     "text": [
      "The dimension of the train dataset is: (48439, 8)\n",
      "The dimension of the test dataset is: (3, 5)\n",
      "CPU times: user 1.46 s, sys: 1.21 s, total: 2.66 s\n",
      "Wall time: 3.23 s\n"
     ]
    }
   ],
   "source": [
    "%%time\n",
    "train = pd.read_parquet('../input/wsdm-cup-multilingual-chatbot-arena/train.parquet')\n",
    "test = pd.read_parquet('../input/wsdm-cup-multilingual-chatbot-arena/test.parquet')\n",
    "\n",
    "print('The dimension of the train dataset is:', train.shape)\n",
    "print('The dimension of the test dataset is:', test.shape)"
   ]
  },
  {
   "cell_type": "code",
   "execution_count": 3,
   "id": "4168e101",
   "metadata": {
    "execution": {
     "iopub.execute_input": "2024-11-23T23:12:37.624773Z",
     "iopub.status.busy": "2024-11-23T23:12:37.624052Z",
     "iopub.status.idle": "2024-11-23T23:12:37.645066Z",
     "shell.execute_reply": "2024-11-23T23:12:37.644008Z"
    },
    "papermill": {
     "duration": 0.026974,
     "end_time": "2024-11-23T23:12:37.647004",
     "exception": false,
     "start_time": "2024-11-23T23:12:37.620030",
     "status": "completed"
    },
    "tags": []
   },
   "outputs": [
    {
     "data": {
      "text/html": [
       "<div>\n",
       "<style scoped>\n",
       "    .dataframe tbody tr th:only-of-type {\n",
       "        vertical-align: middle;\n",
       "    }\n",
       "\n",
       "    .dataframe tbody tr th {\n",
       "        vertical-align: top;\n",
       "    }\n",
       "\n",
       "    .dataframe thead th {\n",
       "        text-align: right;\n",
       "    }\n",
       "</style>\n",
       "<table border=\"1\" class=\"dataframe\">\n",
       "  <thead>\n",
       "    <tr style=\"text-align: right;\">\n",
       "      <th></th>\n",
       "      <th>id</th>\n",
       "      <th>prompt</th>\n",
       "      <th>response_a</th>\n",
       "      <th>response_b</th>\n",
       "      <th>winner</th>\n",
       "      <th>model_a</th>\n",
       "      <th>model_b</th>\n",
       "      <th>language</th>\n",
       "    </tr>\n",
       "  </thead>\n",
       "  <tbody>\n",
       "    <tr>\n",
       "      <th>0</th>\n",
       "      <td>00007cff95d7f7974642a785aca248b0f26e60d3312fac...</td>\n",
       "      <td>vieš po Slovensky?</td>\n",
       "      <td>Áno, hovorím po slovensky. Ako vám môžem pomôcť?</td>\n",
       "      <td>Áno, veď som tu! Môžem ti pomôcť s otázkami al...</td>\n",
       "      <td>model_a</td>\n",
       "      <td>o1-preview</td>\n",
       "      <td>reka-core-20240904</td>\n",
       "      <td>Slovak</td>\n",
       "    </tr>\n",
       "    <tr>\n",
       "      <th>1</th>\n",
       "      <td>00010ed04b536f56ebe43eef1100c13906abea12bf9855...</td>\n",
       "      <td>You will be given a piece of news. Analyze it ...</td>\n",
       "      <td>Let's break down the news and analyze it accor...</td>\n",
       "      <td>```json\\n{\\n  \"contains_orgs\": true,\\n  \"orgs\"...</td>\n",
       "      <td>model_a</td>\n",
       "      <td>gemma-2-27b-it</td>\n",
       "      <td>gemini-1.5-flash-002</td>\n",
       "      <td>Russian</td>\n",
       "    </tr>\n",
       "    <tr>\n",
       "      <th>2</th>\n",
       "      <td>0003800d510e38803efba5ceaec122bc66408fe367b0be...</td>\n",
       "      <td>Dört basamaklı, rakamları birbirinden ve sıfır...</td>\n",
       "      <td>Bu soruyu çözmek için, verilen koşulları adım ...</td>\n",
       "      <td>Bu problemi adım adım çözelim:\\n\\n1) ABCD - DC...</td>\n",
       "      <td>model_a</td>\n",
       "      <td>gpt-4-0125-preview</td>\n",
       "      <td>claude-3-5-sonnet-20240620</td>\n",
       "      <td>Turkish</td>\n",
       "    </tr>\n",
       "    <tr>\n",
       "      <th>3</th>\n",
       "      <td>00072026c68f5418ef2da238394e418ce72a534b9b22d5...</td>\n",
       "      <td>현재 추천된 탑 3 종목인 Cabaletta Bio (CABA), Rocket Ph...</td>\n",
       "      <td>죄송하지만 저는 금융 조언을 제공할 수 없습니다. 저는 AI 모델이며, 투자 결정에...</td>\n",
       "      <td>현재 추천된 탑 3 종목에 순위를 매기기 위해서는 여러 가지 요소들을 고려해야 합니...</td>\n",
       "      <td>model_b</td>\n",
       "      <td>gemma-2-2b-it</td>\n",
       "      <td>llama-3.1-nemotron-70b-instruct</td>\n",
       "      <td>English</td>\n",
       "    </tr>\n",
       "    <tr>\n",
       "      <th>4</th>\n",
       "      <td>0007ce7cf6bc1b5a8f8a4669b854fb12030863c970d9dc...</td>\n",
       "      <td>Please be boring</td>\n",
       "      <td>Alright, I'll be as boring as possible.\\n\\nTod...</td>\n",
       "      <td>Understood. Here is a straightforward, unadorn...</td>\n",
       "      <td>model_a</td>\n",
       "      <td>reka-flash-20240722</td>\n",
       "      <td>grok-2-2024-08-13</td>\n",
       "      <td>English</td>\n",
       "    </tr>\n",
       "  </tbody>\n",
       "</table>\n",
       "</div>"
      ],
      "text/plain": [
       "                                                  id  \\\n",
       "0  00007cff95d7f7974642a785aca248b0f26e60d3312fac...   \n",
       "1  00010ed04b536f56ebe43eef1100c13906abea12bf9855...   \n",
       "2  0003800d510e38803efba5ceaec122bc66408fe367b0be...   \n",
       "3  00072026c68f5418ef2da238394e418ce72a534b9b22d5...   \n",
       "4  0007ce7cf6bc1b5a8f8a4669b854fb12030863c970d9dc...   \n",
       "\n",
       "                                              prompt  \\\n",
       "0                                 vieš po Slovensky?   \n",
       "1  You will be given a piece of news. Analyze it ...   \n",
       "2  Dört basamaklı, rakamları birbirinden ve sıfır...   \n",
       "3  현재 추천된 탑 3 종목인 Cabaletta Bio (CABA), Rocket Ph...   \n",
       "4                                  Please be boring    \n",
       "\n",
       "                                          response_a  \\\n",
       "0   Áno, hovorím po slovensky. Ako vám môžem pomôcť?   \n",
       "1  Let's break down the news and analyze it accor...   \n",
       "2  Bu soruyu çözmek için, verilen koşulları adım ...   \n",
       "3  죄송하지만 저는 금융 조언을 제공할 수 없습니다. 저는 AI 모델이며, 투자 결정에...   \n",
       "4  Alright, I'll be as boring as possible.\\n\\nTod...   \n",
       "\n",
       "                                          response_b   winner  \\\n",
       "0  Áno, veď som tu! Môžem ti pomôcť s otázkami al...  model_a   \n",
       "1  ```json\\n{\\n  \"contains_orgs\": true,\\n  \"orgs\"...  model_a   \n",
       "2  Bu problemi adım adım çözelim:\\n\\n1) ABCD - DC...  model_a   \n",
       "3  현재 추천된 탑 3 종목에 순위를 매기기 위해서는 여러 가지 요소들을 고려해야 합니...  model_b   \n",
       "4  Understood. Here is a straightforward, unadorn...  model_a   \n",
       "\n",
       "               model_a                          model_b language  \n",
       "0           o1-preview               reka-core-20240904   Slovak  \n",
       "1       gemma-2-27b-it             gemini-1.5-flash-002  Russian  \n",
       "2   gpt-4-0125-preview       claude-3-5-sonnet-20240620  Turkish  \n",
       "3        gemma-2-2b-it  llama-3.1-nemotron-70b-instruct  English  \n",
       "4  reka-flash-20240722                grok-2-2024-08-13  English  "
      ]
     },
     "execution_count": 3,
     "metadata": {},
     "output_type": "execute_result"
    }
   ],
   "source": [
    "train.head()"
   ]
  },
  {
   "cell_type": "code",
   "execution_count": 4,
   "id": "850c5bfb",
   "metadata": {
    "execution": {
     "iopub.execute_input": "2024-11-23T23:12:37.655218Z",
     "iopub.status.busy": "2024-11-23T23:12:37.654735Z",
     "iopub.status.idle": "2024-11-23T23:12:37.666007Z",
     "shell.execute_reply": "2024-11-23T23:12:37.664997Z"
    },
    "papermill": {
     "duration": 0.017597,
     "end_time": "2024-11-23T23:12:37.668033",
     "exception": false,
     "start_time": "2024-11-23T23:12:37.650436",
     "status": "completed"
    },
    "tags": []
   },
   "outputs": [
    {
     "data": {
      "text/html": [
       "<div>\n",
       "<style scoped>\n",
       "    .dataframe tbody tr th:only-of-type {\n",
       "        vertical-align: middle;\n",
       "    }\n",
       "\n",
       "    .dataframe tbody tr th {\n",
       "        vertical-align: top;\n",
       "    }\n",
       "\n",
       "    .dataframe thead th {\n",
       "        text-align: right;\n",
       "    }\n",
       "</style>\n",
       "<table border=\"1\" class=\"dataframe\">\n",
       "  <thead>\n",
       "    <tr style=\"text-align: right;\">\n",
       "      <th></th>\n",
       "      <th>id</th>\n",
       "      <th>prompt</th>\n",
       "      <th>response_a</th>\n",
       "      <th>response_b</th>\n",
       "      <th>scored</th>\n",
       "    </tr>\n",
       "  </thead>\n",
       "  <tbody>\n",
       "    <tr>\n",
       "      <th>0</th>\n",
       "      <td>327228</td>\n",
       "      <td>Caso Clínico: Un hombre de 70 años con anteced...</td>\n",
       "      <td>**Diagnóstico Diferencial de Anemia en Pacient...</td>\n",
       "      <td>Basándonos en el caso clínico presentado, pode...</td>\n",
       "      <td>False</td>\n",
       "    </tr>\n",
       "    <tr>\n",
       "      <th>1</th>\n",
       "      <td>1139415</td>\n",
       "      <td>Peel Company received a cash dividend from a ...</td>\n",
       "      <td>The correct answer is **(a) No   No**. Here's ...</td>\n",
       "      <td>The correct answer is **(a) No No**. Here's wh...</td>\n",
       "      <td>False</td>\n",
       "    </tr>\n",
       "    <tr>\n",
       "      <th>2</th>\n",
       "      <td>1235630</td>\n",
       "      <td>Há um grave problema com o relógio da torre da...</td>\n",
       "      <td>Dois problemas interessantes!\\n\\n**Problema 1:...</td>\n",
       "      <td>Vamos resolver os dois problemas em sequência....</td>\n",
       "      <td>False</td>\n",
       "    </tr>\n",
       "  </tbody>\n",
       "</table>\n",
       "</div>"
      ],
      "text/plain": [
       "        id                                             prompt  \\\n",
       "0   327228  Caso Clínico: Un hombre de 70 años con anteced...   \n",
       "1  1139415   Peel Company received a cash dividend from a ...   \n",
       "2  1235630  Há um grave problema com o relógio da torre da...   \n",
       "\n",
       "                                          response_a  \\\n",
       "0  **Diagnóstico Diferencial de Anemia en Pacient...   \n",
       "1  The correct answer is **(a) No   No**. Here's ...   \n",
       "2  Dois problemas interessantes!\\n\\n**Problema 1:...   \n",
       "\n",
       "                                          response_b  scored  \n",
       "0  Basándonos en el caso clínico presentado, pode...   False  \n",
       "1  The correct answer is **(a) No No**. Here's wh...   False  \n",
       "2  Vamos resolver os dois problemas em sequência....   False  "
      ]
     },
     "execution_count": 4,
     "metadata": {},
     "output_type": "execute_result"
    }
   ],
   "source": [
    "test"
   ]
  },
  {
   "cell_type": "markdown",
   "id": "c876dec0",
   "metadata": {
    "papermill": {
     "duration": 0.003326,
     "end_time": "2024-11-23T23:12:37.675036",
     "exception": false,
     "start_time": "2024-11-23T23:12:37.671710",
     "status": "completed"
    },
    "tags": []
   },
   "source": [
    "# Baseline Modeling 1.0\n",
    "\n",
    "First, we engineer a few basic features as follows:"
   ]
  },
  {
   "cell_type": "code",
   "execution_count": 5,
   "id": "545d8930",
   "metadata": {
    "execution": {
     "iopub.execute_input": "2024-11-23T23:12:37.683921Z",
     "iopub.status.busy": "2024-11-23T23:12:37.683183Z",
     "iopub.status.idle": "2024-11-23T23:12:37.690416Z",
     "shell.execute_reply": "2024-11-23T23:12:37.689391Z"
    },
    "papermill": {
     "duration": 0.013996,
     "end_time": "2024-11-23T23:12:37.692469",
     "exception": false,
     "start_time": "2024-11-23T23:12:37.678473",
     "status": "completed"
    },
    "tags": []
   },
   "outputs": [],
   "source": [
    "def fe(df, train=False):\n",
    "\n",
    "    df['prompt_len'] = df['prompt'].str.len()\n",
    "    df['prompt_words'] = df['prompt'].str.split().str.len()\n",
    "    df['prompt_question'] = df['prompt'].str.contains('\\?').astype(int)\n",
    "    \n",
    "    df['response_a_len'] = df['response_a'].str.len()\n",
    "    df['response_b_len'] = df['response_b'].str.len()\n",
    "\n",
    "    df['response_a_words'] = df['response_a'].str.split().str.len()\n",
    "    df['response_b_words'] = df['response_b'].str.split().str.len()\n",
    "\n",
    "    df['prompt_response_a_len_ratio'] = df['prompt_len'] / df['response_a_len']\n",
    "    df['prompt_response_b_len_ratio'] = df['prompt_len'] / df['response_b_len']\n",
    "\n",
    "    if train:\n",
    "        df['winner'] = df['winner'].map({'model_a': 0, 'model_b': 1})\n",
    "\n",
    "    return df"
   ]
  },
  {
   "cell_type": "markdown",
   "id": "951dab40",
   "metadata": {
    "papermill": {
     "duration": 0.003351,
     "end_time": "2024-11-23T23:12:37.699595",
     "exception": false,
     "start_time": "2024-11-23T23:12:37.696244",
     "status": "completed"
    },
    "tags": []
   },
   "source": [
    "Next, we proceed to run a standard cross-validation experiment."
   ]
  },
  {
   "cell_type": "code",
   "execution_count": 6,
   "id": "0f022fe6",
   "metadata": {
    "execution": {
     "iopub.execute_input": "2024-11-23T23:12:37.708613Z",
     "iopub.status.busy": "2024-11-23T23:12:37.708233Z",
     "iopub.status.idle": "2024-11-23T23:21:50.229251Z",
     "shell.execute_reply": "2024-11-23T23:21:50.228205Z"
    },
    "papermill": {
     "duration": 552.528579,
     "end_time": "2024-11-23T23:21:50.231684",
     "exception": false,
     "start_time": "2024-11-23T23:12:37.703105",
     "status": "completed"
    },
    "tags": []
   },
   "outputs": [
    {
     "name": "stdout",
     "output_type": "stream",
     "text": [
      "Fold: 0 accuracy: 0.5862923203963666\n",
      "Fold: 1 accuracy: 0.5920726672171759\n",
      "Fold: 2 accuracy: 0.5889760528488852\n",
      "Fold: 3 accuracy: 0.5949628406275805\n",
      "Fold: 4 accuracy: 0.583195706028076\n",
      "Fold: 5 accuracy: 0.597440132122213\n",
      "Fold: 6 accuracy: 0.5955821635012386\n",
      "Fold: 7 accuracy: 0.5867052023121387\n",
      "Fold: 8 accuracy: 0.5842279108175062\n",
      "Fold: 9 accuracy: 0.5909560189964898\n",
      "The 10 fold average out-of-fold accuracy is: 0.590041101486767\n",
      "CPU times: user 34min 23s, sys: 6.52 s, total: 34min 29s\n",
      "Wall time: 9min 12s\n"
     ]
    }
   ],
   "source": [
    "%%time\n",
    "train = fe(train, train=True)\n",
    "test = fe(test)\n",
    "\n",
    "X = train[['prompt_len', 'prompt_words', 'prompt_question', 'response_a_len', 'response_b_len', 'response_a_words', 'response_b_words', 'prompt_response_a_len_ratio', 'prompt_response_b_len_ratio']]\n",
    "y = train['winner']\n",
    "\n",
    "test_cv = test[['prompt_len', 'prompt_words', 'prompt_question', 'response_a_len', 'response_b_len', 'response_a_words', 'response_b_words', 'prompt_response_a_len_ratio', 'prompt_response_b_len_ratio']]\n",
    "\n",
    "SEED = 42\n",
    "ydf.verbose(-1)\n",
    "scores, ydf_test_preds = [], []\n",
    "skf = RepeatedStratifiedKFold(n_splits=10, n_repeats=1, random_state=SEED)\n",
    "for i, (train_index, test_index) in enumerate(skf.split(X, y)):\n",
    "            \n",
    "    X_train, X_test = X.iloc[train_index], X.iloc[test_index]\n",
    "    y_train, y_test = y[train_index], y[test_index]\n",
    "    \n",
    "    train_data = pd.concat([X_train, y_train], axis=1)\n",
    "    test_data = pd.concat([X_test, y_test], axis=1)\n",
    "\n",
    "    ydf_md = RandomForestLearner(label='winner', \n",
    "                                 num_threads=10, \n",
    "                                 num_trees=1000, \n",
    "                                 max_depth=15).train(train_data)\n",
    "    ydf_pred = ydf_md.predict(test_data)\n",
    "\n",
    "    score = accuracy_score(y_test, np.where(ydf_pred>0.5, 1, 0))\n",
    "    print('Fold:', i, 'accuracy:', score)\n",
    "    scores.append(score)\n",
    "\n",
    "    ydf_test_preds.append(ydf_md.predict(test_cv))\n",
    "\n",
    "print('The 10 fold average out-of-fold accuracy is:', np.mean(scores))"
   ]
  },
  {
   "cell_type": "code",
   "execution_count": 7,
   "id": "b652ec23",
   "metadata": {
    "execution": {
     "iopub.execute_input": "2024-11-23T23:21:50.242240Z",
     "iopub.status.busy": "2024-11-23T23:21:50.241493Z",
     "iopub.status.idle": "2024-11-23T23:21:50.267687Z",
     "shell.execute_reply": "2024-11-23T23:21:50.266456Z"
    },
    "papermill": {
     "duration": 0.033993,
     "end_time": "2024-11-23T23:21:50.269947",
     "exception": false,
     "start_time": "2024-11-23T23:21:50.235954",
     "status": "completed"
    },
    "tags": []
   },
   "outputs": [
    {
     "name": "stdout",
     "output_type": "stream",
     "text": [
      "        id   winner\n",
      "0   327228  model_b\n",
      "1  1139415  model_b\n",
      "2  1235630  model_a\n",
      "CPU times: user 5.45 ms, sys: 1 ms, total: 6.45 ms\n",
      "Wall time: 19.6 ms\n"
     ]
    }
   ],
   "source": [
    "%%time\n",
    "submission = pd.read_csv('/kaggle/input/wsdm-cup-multilingual-chatbot-arena/sample_submission.csv')\n",
    "submission['winner'] = np.where(np.mean(ydf_test_preds, axis=0)>0.5, 1, 0)\n",
    "submission['winner'] = submission['winner'].map({0: 'model_a', 1: 'model_b'})\n",
    "print(submission.head())"
   ]
  },
  {
   "cell_type": "code",
   "execution_count": 8,
   "id": "1ff3f714",
   "metadata": {
    "execution": {
     "iopub.execute_input": "2024-11-23T23:21:50.279951Z",
     "iopub.status.busy": "2024-11-23T23:21:50.279584Z",
     "iopub.status.idle": "2024-11-23T23:21:50.289748Z",
     "shell.execute_reply": "2024-11-23T23:21:50.288845Z"
    },
    "papermill": {
     "duration": 0.017613,
     "end_time": "2024-11-23T23:21:50.291873",
     "exception": false,
     "start_time": "2024-11-23T23:21:50.274260",
     "status": "completed"
    },
    "tags": []
   },
   "outputs": [],
   "source": [
    "submission.to_csv('submission.csv', index=False)"
   ]
  }
 ],
 "metadata": {
  "kaggle": {
   "accelerator": "none",
   "dataSources": [
    {
     "databundleVersionId": 10131489,
     "sourceId": 86946,
     "sourceType": "competition"
    }
   ],
   "dockerImageVersionId": 30786,
   "isGpuEnabled": false,
   "isInternetEnabled": false,
   "language": "python",
   "sourceType": "notebook"
  },
  "kernelspec": {
   "display_name": "Python 3",
   "language": "python",
   "name": "python3"
  },
  "language_info": {
   "codemirror_mode": {
    "name": "ipython",
    "version": 3
   },
   "file_extension": ".py",
   "mimetype": "text/x-python",
   "name": "python",
   "nbconvert_exporter": "python",
   "pygments_lexer": "ipython3",
   "version": "3.10.14"
  },
  "papermill": {
   "default_parameters": {},
   "duration": 566.767869,
   "end_time": "2024-11-23T23:21:52.022471",
   "environment_variables": {},
   "exception": null,
   "input_path": "__notebook__.ipynb",
   "output_path": "__notebook__.ipynb",
   "parameters": {},
   "start_time": "2024-11-23T23:12:25.254602",
   "version": "2.6.0"
  }
 },
 "nbformat": 4,
 "nbformat_minor": 5
}
